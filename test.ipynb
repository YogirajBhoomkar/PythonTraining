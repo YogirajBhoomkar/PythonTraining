{
  "nbformat": 4,
  "nbformat_minor": 0,
  "metadata": {
    "kernelspec": {
      "display_name": "Python 3",
      "language": "python",
      "name": "python3"
    },
    "language_info": {
      "codemirror_mode": {
        "name": "ipython",
        "version": 3
      },
      "file_extension": ".py",
      "mimetype": "text/x-python",
      "name": "python",
      "nbconvert_exporter": "python",
      "pygments_lexer": "ipython3",
      "version": "3.8.5"
    },
    "colab": {
      "name": "test.ipynb",
      "provenance": []
    }
  },
  "cells": [
    {
      "cell_type": "code",
      "metadata": {
        "id": "KIvghIF2a6zd",
        "outputId": "710fbf0f-8d8f-4c4a-f3f6-7b0e34332ae1"
      },
      "source": [
        "\"hi\""
      ],
      "execution_count": null,
      "outputs": [
        {
          "data": {
            "text/plain": [
              "'hi'"
            ]
          },
          "execution_count": 1,
          "metadata": {},
          "output_type": "execute_result"
        }
      ]
    },
    {
      "cell_type": "code",
      "metadata": {
        "id": "KnBmhl_Ua6ze"
      },
      "source": [
        ""
      ],
      "execution_count": null,
      "outputs": []
    },
    {
      "cell_type": "code",
      "metadata": {
        "id": "GNnn0TuEa6ze"
      },
      "source": [
        "stock={\n",
        "    \"fruit\":{\n",
        "        \"apple\":100,\n",
        "        \"banana\":45,\n",
        "        \"cherry\":1000\n",
        "    }\n",
        "}\n"
      ],
      "execution_count": null,
      "outputs": []
    },
    {
      "cell_type": "code",
      "metadata": {
        "id": "_ewnUt4da6ze",
        "outputId": "074e6e6b-eb1b-4776-fa10-5e159ec3df4b"
      },
      "source": [
        "stock"
      ],
      "execution_count": null,
      "outputs": [
        {
          "data": {
            "text/plain": [
              "{'fruit': {'apple': 100, 'banana': 45, 'cherry': 1000}}"
            ]
          },
          "execution_count": 12,
          "metadata": {},
          "output_type": "execute_result"
        }
      ]
    },
    {
      "cell_type": "code",
      "metadata": {
        "id": "Ql_deCTZa6ze"
      },
      "source": [
        "del stock['fruit']['apple']"
      ],
      "execution_count": null,
      "outputs": []
    },
    {
      "cell_type": "code",
      "metadata": {
        "id": "c-SL60Gqa6zf",
        "outputId": "3c4bf70f-8327-4abc-f91a-7aeefae46182"
      },
      "source": [
        "stock"
      ],
      "execution_count": null,
      "outputs": [
        {
          "data": {
            "text/plain": [
              "{'fruit': {'banana': 45, 'cherry': 1000}}"
            ]
          },
          "execution_count": 14,
          "metadata": {},
          "output_type": "execute_result"
        }
      ]
    },
    {
      "cell_type": "code",
      "metadata": {
        "id": "EngQ-3xGa6zf"
      },
      "source": [
        ""
      ],
      "execution_count": null,
      "outputs": []
    },
    {
      "cell_type": "code",
      "metadata": {
        "id": "ZkeDh-kja6zf"
      },
      "source": [
        ""
      ],
      "execution_count": null,
      "outputs": []
    },
    {
      "cell_type": "code",
      "metadata": {
        "id": "rkywpW4Ca6zf"
      },
      "source": [
        "original = stock[\"fruit\"]"
      ],
      "execution_count": null,
      "outputs": []
    },
    {
      "cell_type": "code",
      "metadata": {
        "id": "OIdUekUNa6zf",
        "outputId": "0dba8419-1005-40bf-f7b6-995190e6eb09"
      },
      "source": [
        "original"
      ],
      "execution_count": null,
      "outputs": [
        {
          "data": {
            "text/plain": [
              "{'apple': 100, 'banana': 45, 'cherry': 1000}"
            ]
          },
          "execution_count": 5,
          "metadata": {},
          "output_type": "execute_result"
        }
      ]
    },
    {
      "cell_type": "code",
      "metadata": {
        "id": "wudTldMia6zf"
      },
      "source": [
        "del stock['fruit']"
      ],
      "execution_count": null,
      "outputs": []
    },
    {
      "cell_type": "code",
      "metadata": {
        "id": "ztWsrszEa6zf",
        "outputId": "c2720198-0f61-4aae-a731-2b8b55ca1950"
      },
      "source": [
        "stock"
      ],
      "execution_count": null,
      "outputs": [
        {
          "data": {
            "text/plain": [
              "{'fruit': {'apple': 100, 'banana': 45, 'cherry': 1000}}"
            ]
          },
          "execution_count": 9,
          "metadata": {},
          "output_type": "execute_result"
        }
      ]
    },
    {
      "cell_type": "code",
      "metadata": {
        "id": "nttHsEKia6zf",
        "outputId": "298b5617-8614-424b-c451-d9c8900b05ed"
      },
      "source": [
        "del stock['veg']"
      ],
      "execution_count": null,
      "outputs": [
        {
          "ename": "KeyError",
          "evalue": "'veg'",
          "output_type": "error",
          "traceback": [
            "\u001b[0;31m---------------------------------------------------------------------------\u001b[0m",
            "\u001b[0;31mKeyError\u001b[0m                                  Traceback (most recent call last)",
            "\u001b[0;32m<ipython-input-10-acb9c50bbe5b>\u001b[0m in \u001b[0;36m<module>\u001b[0;34m\u001b[0m\n\u001b[0;32m----> 1\u001b[0;31m \u001b[0;32mdel\u001b[0m \u001b[0mstock\u001b[0m\u001b[0;34m[\u001b[0m\u001b[0;34m'veg'\u001b[0m\u001b[0;34m]\u001b[0m\u001b[0;34m\u001b[0m\u001b[0;34m\u001b[0m\u001b[0m\n\u001b[0m",
            "\u001b[0;31mKeyError\u001b[0m: 'veg'"
          ]
        }
      ]
    },
    {
      "cell_type": "code",
      "metadata": {
        "id": "xxoBFHa9a6zf"
      },
      "source": [
        "# list, set, tuple, dict, Numbers, string, boolean"
      ],
      "execution_count": null,
      "outputs": []
    },
    {
      "cell_type": "code",
      "metadata": {
        "id": "nKh-SEjca6zg",
        "outputId": "16c7c547-336d-45e6-c21f-1e3206280382"
      },
      "source": [
        "x = 10\n",
        "y = 23\n",
        "z = 10\n",
        "print(x+y)"
      ],
      "execution_count": null,
      "outputs": [
        {
          "name": "stdout",
          "output_type": "stream",
          "text": [
            "33\n"
          ]
        }
      ]
    },
    {
      "cell_type": "code",
      "metadata": {
        "id": "rTaZIWxUa6zg",
        "outputId": "bba1b59c-547c-46e0-8a1d-11389bb66565"
      },
      "source": [
        "type(x)"
      ],
      "execution_count": null,
      "outputs": [
        {
          "data": {
            "text/plain": [
              "int"
            ]
          },
          "execution_count": 16,
          "metadata": {},
          "output_type": "execute_result"
        }
      ]
    },
    {
      "cell_type": "code",
      "metadata": {
        "id": "y1DDcVMfa6zg"
      },
      "source": [
        "x =\"onkar\""
      ],
      "execution_count": null,
      "outputs": []
    },
    {
      "cell_type": "code",
      "metadata": {
        "id": "_QXoMaQQa6zg",
        "outputId": "24e248d6-115a-4d45-f4e4-16084f4c27ce"
      },
      "source": [
        "type(x)"
      ],
      "execution_count": null,
      "outputs": [
        {
          "data": {
            "text/plain": [
              "str"
            ]
          },
          "execution_count": 18,
          "metadata": {},
          "output_type": "execute_result"
        }
      ]
    },
    {
      "cell_type": "code",
      "metadata": {
        "id": "ogMkj0vUa6zg"
      },
      "source": [
        "x = 10.1"
      ],
      "execution_count": null,
      "outputs": []
    },
    {
      "cell_type": "code",
      "metadata": {
        "id": "dIPq1mlQa6zh",
        "outputId": "530c0bd9-b13a-4012-b80c-10c700aa708c"
      },
      "source": [
        "type(x)"
      ],
      "execution_count": null,
      "outputs": [
        {
          "data": {
            "text/plain": [
              "float"
            ]
          },
          "execution_count": 20,
          "metadata": {},
          "output_type": "execute_result"
        }
      ]
    },
    {
      "cell_type": "code",
      "metadata": {
        "id": "KQnvj-0Ka6zh",
        "outputId": "42c6de14-feae-47aa-e3d1-498af14eac77"
      },
      "source": [
        "# built in functions.  print, input, type, str, help, dir\n",
        "\n",
        "\n",
        "age = int(input(\"enter the age\"))\n",
        "print(\"age\", age)"
      ],
      "execution_count": null,
      "outputs": [
        {
          "name": "stdout",
          "output_type": "stream",
          "text": [
            "enter the age10\n",
            "age 10\n"
          ]
        }
      ]
    },
    {
      "cell_type": "code",
      "metadata": {
        "id": "ZE8oLXk0a6zh",
        "outputId": "57f273f7-c992-45a4-db46-2a323b86992d"
      },
      "source": [
        "# module function\n",
        "\n",
        "import math\n",
        "x = 25\n",
        "math.sqrt(x)"
      ],
      "execution_count": null,
      "outputs": [
        {
          "data": {
            "text/plain": [
              "5.0"
            ]
          },
          "execution_count": 23,
          "metadata": {},
          "output_type": "execute_result"
        }
      ]
    },
    {
      "cell_type": "code",
      "metadata": {
        "id": "Xn5JNUQFa6zh"
      },
      "source": [
        "radius=4\n",
        "area = math.pi*radius ** 2"
      ],
      "execution_count": null,
      "outputs": []
    },
    {
      "cell_type": "code",
      "metadata": {
        "id": "Q5OaFpB_a6zh",
        "outputId": "a59e7592-4031-4c93-98cf-43140b5fa6fa"
      },
      "source": [
        "area"
      ],
      "execution_count": null,
      "outputs": [
        {
          "data": {
            "text/plain": [
              "50.26548245743669"
            ]
          },
          "execution_count": 26,
          "metadata": {},
          "output_type": "execute_result"
        }
      ]
    },
    {
      "cell_type": "code",
      "metadata": {
        "id": "eZ3raCXpa6zh",
        "outputId": "18cc4246-0b14-46f6-a961-bf185eb4b045"
      },
      "source": [
        "help(print)"
      ],
      "execution_count": null,
      "outputs": [
        {
          "name": "stdout",
          "output_type": "stream",
          "text": [
            "Help on built-in function print in module builtins:\n",
            "\n",
            "print(...)\n",
            "    print(value, ..., sep=' ', end='\\n', file=sys.stdout, flush=False)\n",
            "    \n",
            "    Prints the values to a stream, or to sys.stdout by default.\n",
            "    Optional keyword arguments:\n",
            "    file:  a file-like object (stream); defaults to the current sys.stdout.\n",
            "    sep:   string inserted between values, default a space.\n",
            "    end:   string appended after the last value, default a newline.\n",
            "    flush: whether to forcibly flush the stream.\n",
            "\n"
          ]
        }
      ]
    },
    {
      "cell_type": "code",
      "metadata": {
        "id": "C55UG9wZa6zh"
      },
      "source": [
        "s = \"python is Fun\""
      ],
      "execution_count": null,
      "outputs": []
    },
    {
      "cell_type": "code",
      "metadata": {
        "id": "zjZCyPFra6zh",
        "outputId": "22f6c712-2491-41a4-f86e-3496eb27bf8d"
      },
      "source": [
        "s"
      ],
      "execution_count": null,
      "outputs": [
        {
          "data": {
            "text/plain": [
              "'python is Fun'"
            ]
          },
          "execution_count": 29,
          "metadata": {},
          "output_type": "execute_result"
        }
      ]
    },
    {
      "cell_type": "code",
      "metadata": {
        "id": "1ZwQkG6Ya6zi",
        "outputId": "7c830d6f-64c2-434d-8f21-474d4221d257"
      },
      "source": [
        "s.swapcase()"
      ],
      "execution_count": null,
      "outputs": [
        {
          "data": {
            "text/plain": [
              "'PYTHON IS fUN'"
            ]
          },
          "execution_count": 30,
          "metadata": {},
          "output_type": "execute_result"
        }
      ]
    },
    {
      "cell_type": "code",
      "metadata": {
        "id": "Hf8R_KvEa6zi",
        "outputId": "c1f6a0fd-0005-4e75-91b8-0d19b42760f5"
      },
      "source": [
        "a = 10\n",
        "b = 4\n",
        "c =88\n",
        "'a={}, b={}, c={}'.format(a,b,c)"
      ],
      "execution_count": null,
      "outputs": [
        {
          "data": {
            "text/plain": [
              "'a=10, b=4, c=88'"
            ]
          },
          "execution_count": 31,
          "metadata": {},
          "output_type": "execute_result"
        }
      ]
    },
    {
      "cell_type": "code",
      "metadata": {
        "id": "qRuKi291a6zi",
        "outputId": "a5f62978-faf6-4338-a038-db4b6210cce4"
      },
      "source": [
        "'       python is fun       '.strip()"
      ],
      "execution_count": null,
      "outputs": [
        {
          "data": {
            "text/plain": [
              "'python is fun'"
            ]
          },
          "execution_count": 32,
          "metadata": {},
          "output_type": "execute_result"
        }
      ]
    },
    {
      "cell_type": "code",
      "metadata": {
        "id": "jM-7qvaga6zi",
        "outputId": "0514b464-8ec6-4d6a-8376-c60ce66ca464"
      },
      "source": [
        "'       python is fun       '"
      ],
      "execution_count": null,
      "outputs": [
        {
          "data": {
            "text/plain": [
              "'       python is fun       '"
            ]
          },
          "execution_count": 33,
          "metadata": {},
          "output_type": "execute_result"
        }
      ]
    },
    {
      "cell_type": "code",
      "metadata": {
        "id": "3lFRdTOpa6zi"
      },
      "source": [
        "# mutable and immutable in python\n",
        "# mutable ==> list, dict value\n",
        "# immutable ==> string, tuple"
      ],
      "execution_count": null,
      "outputs": []
    },
    {
      "cell_type": "code",
      "metadata": {
        "id": "hX1MnuqHa6zi"
      },
      "source": [
        "s = \"python\""
      ],
      "execution_count": null,
      "outputs": []
    },
    {
      "cell_type": "code",
      "metadata": {
        "id": "6r-KXgVoa6zi",
        "outputId": "ceb774d0-0f4a-46c7-eddc-396badce8eae"
      },
      "source": [
        "id(s)"
      ],
      "execution_count": null,
      "outputs": [
        {
          "data": {
            "text/plain": [
              "140289715552048"
            ]
          },
          "execution_count": 35,
          "metadata": {},
          "output_type": "execute_result"
        }
      ]
    },
    {
      "cell_type": "code",
      "metadata": {
        "id": "E9F-fBaEa6zj"
      },
      "source": [
        "s = \"c d csjd \""
      ],
      "execution_count": null,
      "outputs": []
    },
    {
      "cell_type": "code",
      "metadata": {
        "id": "HktFm6eOa6zj",
        "outputId": "31991496-971a-404a-920c-3b090536fd7a"
      },
      "source": [
        "id(s)"
      ],
      "execution_count": null,
      "outputs": [
        {
          "data": {
            "text/plain": [
              "140289738213232"
            ]
          },
          "execution_count": 37,
          "metadata": {},
          "output_type": "execute_result"
        }
      ]
    },
    {
      "cell_type": "code",
      "metadata": {
        "id": "rFmIPdTUa6zj",
        "outputId": "a0ec3699-8a7b-4aea-cf91-50a82b344c75"
      },
      "source": [
        "s[1]"
      ],
      "execution_count": null,
      "outputs": [
        {
          "data": {
            "text/plain": [
              "' '"
            ]
          },
          "execution_count": 38,
          "metadata": {},
          "output_type": "execute_result"
        }
      ]
    },
    {
      "cell_type": "code",
      "metadata": {
        "id": "n7Detyg6a6zj"
      },
      "source": [
        "s = \"python\""
      ],
      "execution_count": null,
      "outputs": []
    },
    {
      "cell_type": "code",
      "metadata": {
        "id": "bPnBlCdea6zj",
        "outputId": "bb13737b-0b65-4f67-b70f-63529a90265b"
      },
      "source": [
        "s[0]"
      ],
      "execution_count": null,
      "outputs": [
        {
          "data": {
            "text/plain": [
              "'p'"
            ]
          },
          "execution_count": 41,
          "metadata": {},
          "output_type": "execute_result"
        }
      ]
    },
    {
      "cell_type": "code",
      "metadata": {
        "id": "WkSz0vwNa6zj",
        "outputId": "cd9e81a8-e7fb-45c8-84cd-b5c85ca2fd04"
      },
      "source": [
        "s[1]"
      ],
      "execution_count": null,
      "outputs": [
        {
          "data": {
            "text/plain": [
              "'y'"
            ]
          },
          "execution_count": 42,
          "metadata": {},
          "output_type": "execute_result"
        }
      ]
    },
    {
      "cell_type": "code",
      "metadata": {
        "id": "_zE1YRmla6zj",
        "outputId": "465851fc-ed1d-4503-bc69-2660911e12b7"
      },
      "source": [
        "s[1] =  \"e\""
      ],
      "execution_count": null,
      "outputs": [
        {
          "ename": "TypeError",
          "evalue": "'str' object does not support item assignment",
          "output_type": "error",
          "traceback": [
            "\u001b[0;31m---------------------------------------------------------------------------\u001b[0m",
            "\u001b[0;31mTypeError\u001b[0m                                 Traceback (most recent call last)",
            "\u001b[0;32m<ipython-input-43-5058ed8759f0>\u001b[0m in \u001b[0;36m<module>\u001b[0;34m\u001b[0m\n\u001b[0;32m----> 1\u001b[0;31m \u001b[0ms\u001b[0m\u001b[0;34m[\u001b[0m\u001b[0;36m1\u001b[0m\u001b[0;34m]\u001b[0m \u001b[0;34m=\u001b[0m  \u001b[0;34m\"e\"\u001b[0m\u001b[0;34m\u001b[0m\u001b[0;34m\u001b[0m\u001b[0m\n\u001b[0m",
            "\u001b[0;31mTypeError\u001b[0m: 'str' object does not support item assignment"
          ]
        }
      ]
    },
    {
      "cell_type": "code",
      "metadata": {
        "id": "h8sM3JLra6zk",
        "outputId": "a86cb932-b0a9-40eb-b48b-c64fa5538ae7"
      },
      "source": [
        "s[-1]"
      ],
      "execution_count": null,
      "outputs": [
        {
          "data": {
            "text/plain": [
              "'n'"
            ]
          },
          "execution_count": 44,
          "metadata": {},
          "output_type": "execute_result"
        }
      ]
    },
    {
      "cell_type": "code",
      "metadata": {
        "id": "G4R95Jcva6zk",
        "outputId": "1f582a35-a301-419a-ad56-feb10fee817b"
      },
      "source": [
        "s[-2]"
      ],
      "execution_count": null,
      "outputs": [
        {
          "data": {
            "text/plain": [
              "'o'"
            ]
          },
          "execution_count": 45,
          "metadata": {},
          "output_type": "execute_result"
        }
      ]
    },
    {
      "cell_type": "code",
      "metadata": {
        "id": "4MFzGjcIa6zk",
        "outputId": "16c3331a-aea1-42e5-9145-3042ade2f63a"
      },
      "source": [
        "s[1:5]"
      ],
      "execution_count": null,
      "outputs": [
        {
          "data": {
            "text/plain": [
              "'ytho'"
            ]
          },
          "execution_count": 46,
          "metadata": {},
          "output_type": "execute_result"
        }
      ]
    },
    {
      "cell_type": "code",
      "metadata": {
        "id": "8lqLv8Doa6zk",
        "outputId": "10175f64-fe1f-4a24-ac93-6335970e5289"
      },
      "source": [
        "s[1:5:2]"
      ],
      "execution_count": null,
      "outputs": [
        {
          "data": {
            "text/plain": [
              "'yh'"
            ]
          },
          "execution_count": 48,
          "metadata": {},
          "output_type": "execute_result"
        }
      ]
    },
    {
      "cell_type": "code",
      "metadata": {
        "id": "vTWLeX35a6zk",
        "outputId": "5780c3f4-7422-409b-e37e-c8b4f04b202d"
      },
      "source": [
        "len(s)"
      ],
      "execution_count": null,
      "outputs": [
        {
          "data": {
            "text/plain": [
              "6"
            ]
          },
          "execution_count": 49,
          "metadata": {},
          "output_type": "execute_result"
        }
      ]
    },
    {
      "cell_type": "code",
      "metadata": {
        "id": "ZM1XJWCRa6zk",
        "outputId": "dec86d37-b396-45bf-c623-945cc20d0276"
      },
      "source": [
        "s = \"malayalam\"\n",
        "s == s[::-1]"
      ],
      "execution_count": null,
      "outputs": [
        {
          "data": {
            "text/plain": [
              "True"
            ]
          },
          "execution_count": 54,
          "metadata": {},
          "output_type": "execute_result"
        }
      ]
    },
    {
      "cell_type": "code",
      "metadata": {
        "id": "BrT8-YQca6zk",
        "outputId": "6af6d089-c331-4551-da5e-eb1b3bced643"
      },
      "source": [
        "s = \"abc$cu\"\n",
        "s.split(\"$\")"
      ],
      "execution_count": null,
      "outputs": [
        {
          "data": {
            "text/plain": [
              "['abc', 'cu']"
            ]
          },
          "execution_count": 55,
          "metadata": {},
          "output_type": "execute_result"
        }
      ]
    },
    {
      "cell_type": "code",
      "metadata": {
        "id": "JXqjZD6ja6zl",
        "outputId": "52fa6c2b-319a-4305-a556-03f5054ac9a9"
      },
      "source": [
        "s.split()"
      ],
      "execution_count": null,
      "outputs": [
        {
          "data": {
            "text/plain": [
              "['abc$cu']"
            ]
          },
          "execution_count": 56,
          "metadata": {},
          "output_type": "execute_result"
        }
      ]
    },
    {
      "cell_type": "code",
      "metadata": {
        "id": "2iXg_bJma6zl"
      },
      "source": [
        "# home work explore string functions in python\n",
        "\n",
        "# conditional statment\n",
        "if condtion:\n",
        "\n",
        "    logic\n",
        "elif condition:\n",
        "    logic\n",
        "    ...\n",
        "    \n",
        "else:\n",
        "    co\n",
        "\n"
      ],
      "execution_count": null,
      "outputs": []
    },
    {
      "cell_type": "code",
      "metadata": {
        "id": "bhPhI3QQa6zl",
        "outputId": "d7d3be4b-72e9-4605-e0de-d7256c10bc5f"
      },
      "source": [
        "x = 10\n",
        "if x ==10:\n",
        "    print(\"x is 10\")\n",
        "    print(\"end of the block\")\n",
        "    y = x/2\n",
        "    if y == 5:\n",
        "        print(\"y is five\")\n",
        "        print(\"inside innner if\")\n",
        "    print(\"outside inner if\")\n",
        "else:\n",
        "    print(\"x is not 10\")\n",
        "    print(\"end of the block\")"
      ],
      "execution_count": null,
      "outputs": [
        {
          "name": "stdout",
          "output_type": "stream",
          "text": [
            "x is 10\n",
            "end of the block\n",
            "y is five\n",
            "inside innner if\n",
            "outside inner if\n"
          ]
        }
      ]
    },
    {
      "cell_type": "code",
      "metadata": {
        "id": "v1KQ2E5ca6zl",
        "outputId": "3d5ce41f-3a1c-4519-f1cc-f42956f0fc73"
      },
      "source": [
        "invest = 200\n",
        "income = 201\n",
        "if invest > income:\n",
        "    print(\"loss in making buisness\")\n",
        "elif invest == income:\n",
        "    print(\"break even\")\n",
        "else:\n",
        "    print(\"profitable\")"
      ],
      "execution_count": null,
      "outputs": [
        {
          "name": "stdout",
          "output_type": "stream",
          "text": [
            "profitable\n"
          ]
        }
      ]
    },
    {
      "cell_type": "code",
      "metadata": {
        "id": "oGIrUua0a6zl",
        "outputId": "c0b5842f-d39c-4798-b89f-a1ef3ac2fea5"
      },
      "source": [
        "number = int(input(\"enter the number\"))\n",
        "if number %2 ==0:\n",
        "    print(\"even\")\n",
        "else:\n",
        "    print(\"odd\")"
      ],
      "execution_count": null,
      "outputs": [
        {
          "name": "stdout",
          "output_type": "stream",
          "text": [
            "enter the number10\n",
            "even\n"
          ]
        }
      ]
    },
    {
      "cell_type": "code",
      "metadata": {
        "id": "ubqWF_raa6zl"
      },
      "source": [
        ""
      ],
      "execution_count": null,
      "outputs": []
    },
    {
      "cell_type": "code",
      "metadata": {
        "id": "b_2Hmk9Ba6zl"
      },
      "source": [
        "# int(x)\n",
        "# float(x)\n",
        "# str(x)\n"
      ],
      "execution_count": null,
      "outputs": []
    },
    {
      "cell_type": "code",
      "metadata": {
        "id": "QtZsGLhca6zm",
        "outputId": "4528327d-79d9-4503-f3c2-d085672d8a76"
      },
      "source": [
        "# looping\n",
        "\n",
        "for l in 'python':\n",
        "    print(l, end= '      ')"
      ],
      "execution_count": null,
      "outputs": [
        {
          "name": "stdout",
          "output_type": "stream",
          "text": [
            "p      y      t      h      o      n      "
          ]
        }
      ]
    },
    {
      "cell_type": "code",
      "metadata": {
        "id": "DozkPXiOa6zm"
      },
      "source": [
        "# write simeple factorial prgram "
      ],
      "execution_count": null,
      "outputs": []
    },
    {
      "cell_type": "code",
      "metadata": {
        "id": "fIOVKulla6zm",
        "outputId": "c9485f92-d43c-45be-f6d4-f6c9ed53d2d3"
      },
      "source": [
        "num = int(input(\"Enter the number\"))\n",
        "fact =1\n",
        "for i in range(1, num+1):\n",
        "    fact =fact*i\n",
        "print(fact)"
      ],
      "execution_count": null,
      "outputs": [
        {
          "name": "stdout",
          "output_type": "stream",
          "text": [
            "Enter the number5\n",
            "120\n"
          ]
        }
      ]
    },
    {
      "cell_type": "code",
      "metadata": {
        "id": "SFWTQPzEa6zm",
        "outputId": "a6cab11e-f23b-4bd0-df72-d6afa7dc3941"
      },
      "source": [
        "import time\n",
        "# loop while\n",
        "no_vaccine = True\n",
        "\n",
        "while no_vaccine:\n",
        "    print(\"take precautions\")\n",
        "    print(\"wear mask\")\n",
        "    print(\"avoid public places\")\n",
        "    check = input(\"is vaccine available?\")\n",
        "    if check == \"yes\":\n",
        "        print(\"get it\")\n",
        "        break\n",
        "    time.sleep(1)"
      ],
      "execution_count": null,
      "outputs": [
        {
          "name": "stdout",
          "output_type": "stream",
          "text": [
            "take precautions\n",
            "wear mask\n",
            "avoid public places\n",
            "is vaccine available?no\n",
            "take precautions\n",
            "wear mask\n",
            "avoid public places\n",
            "is vaccine available?no\n",
            "take precautions\n",
            "wear mask\n",
            "avoid public places\n",
            "is vaccine available?yes\n",
            "get it\n"
          ]
        }
      ]
    },
    {
      "cell_type": "code",
      "metadata": {
        "id": "F2CDdW2wa6zm"
      },
      "source": [
        "# list \n",
        "lst = [1, 2, 3, 4, 'ad', 'hi', 1.0]"
      ],
      "execution_count": null,
      "outputs": []
    },
    {
      "cell_type": "code",
      "metadata": {
        "id": "ReDaRqhsa6zm",
        "outputId": "fa247971-3c69-45cd-cb4e-ddb70fdcdb8c"
      },
      "source": [
        "lst"
      ],
      "execution_count": null,
      "outputs": [
        {
          "data": {
            "text/plain": [
              "[1, 2, 3, 4, 'ad', 'hi', 1.0]"
            ]
          },
          "execution_count": 70,
          "metadata": {},
          "output_type": "execute_result"
        }
      ]
    },
    {
      "cell_type": "code",
      "metadata": {
        "id": "55qp2qZ8a6zn",
        "outputId": "adc634a4-b999-433b-8310-ae4f298086aa"
      },
      "source": [
        "type(lst)"
      ],
      "execution_count": null,
      "outputs": [
        {
          "data": {
            "text/plain": [
              "list"
            ]
          },
          "execution_count": 75,
          "metadata": {},
          "output_type": "execute_result"
        }
      ]
    },
    {
      "cell_type": "code",
      "metadata": {
        "id": "-sw67n8ra6zn",
        "outputId": "175ce182-4b97-4c48-fc46-32970c04523f"
      },
      "source": [
        "len(lst)\n"
      ],
      "execution_count": null,
      "outputs": [
        {
          "data": {
            "text/plain": [
              "7"
            ]
          },
          "execution_count": 76,
          "metadata": {},
          "output_type": "execute_result"
        }
      ]
    },
    {
      "cell_type": "code",
      "metadata": {
        "id": "61vEt9Ywa6zn",
        "outputId": "76ffd61c-02ff-4033-f539-ff8935f265d0"
      },
      "source": [
        "dir(lst)"
      ],
      "execution_count": null,
      "outputs": [
        {
          "data": {
            "text/plain": [
              "['__add__',\n",
              " '__class__',\n",
              " '__contains__',\n",
              " '__delattr__',\n",
              " '__delitem__',\n",
              " '__dir__',\n",
              " '__doc__',\n",
              " '__eq__',\n",
              " '__format__',\n",
              " '__ge__',\n",
              " '__getattribute__',\n",
              " '__getitem__',\n",
              " '__gt__',\n",
              " '__hash__',\n",
              " '__iadd__',\n",
              " '__imul__',\n",
              " '__init__',\n",
              " '__init_subclass__',\n",
              " '__iter__',\n",
              " '__le__',\n",
              " '__len__',\n",
              " '__lt__',\n",
              " '__mul__',\n",
              " '__ne__',\n",
              " '__new__',\n",
              " '__reduce__',\n",
              " '__reduce_ex__',\n",
              " '__repr__',\n",
              " '__reversed__',\n",
              " '__rmul__',\n",
              " '__setattr__',\n",
              " '__setitem__',\n",
              " '__sizeof__',\n",
              " '__str__',\n",
              " '__subclasshook__',\n",
              " 'append',\n",
              " 'clear',\n",
              " 'copy',\n",
              " 'count',\n",
              " 'extend',\n",
              " 'index',\n",
              " 'insert',\n",
              " 'pop',\n",
              " 'remove',\n",
              " 'reverse',\n",
              " 'sort']"
            ]
          },
          "execution_count": 77,
          "metadata": {},
          "output_type": "execute_result"
        }
      ]
    },
    {
      "cell_type": "code",
      "metadata": {
        "id": "zRbu9ME_a6zn"
      },
      "source": [
        "s = \"python\""
      ],
      "execution_count": null,
      "outputs": []
    },
    {
      "cell_type": "code",
      "metadata": {
        "id": "EGdEq08ka6zn",
        "outputId": "05eff835-a211-4fe8-9645-e9028707e930"
      },
      "source": [
        "dir(s)"
      ],
      "execution_count": null,
      "outputs": [
        {
          "data": {
            "text/plain": [
              "['__add__',\n",
              " '__class__',\n",
              " '__contains__',\n",
              " '__delattr__',\n",
              " '__dir__',\n",
              " '__doc__',\n",
              " '__eq__',\n",
              " '__format__',\n",
              " '__ge__',\n",
              " '__getattribute__',\n",
              " '__getitem__',\n",
              " '__getnewargs__',\n",
              " '__gt__',\n",
              " '__hash__',\n",
              " '__init__',\n",
              " '__init_subclass__',\n",
              " '__iter__',\n",
              " '__le__',\n",
              " '__len__',\n",
              " '__lt__',\n",
              " '__mod__',\n",
              " '__mul__',\n",
              " '__ne__',\n",
              " '__new__',\n",
              " '__reduce__',\n",
              " '__reduce_ex__',\n",
              " '__repr__',\n",
              " '__rmod__',\n",
              " '__rmul__',\n",
              " '__setattr__',\n",
              " '__sizeof__',\n",
              " '__str__',\n",
              " '__subclasshook__',\n",
              " 'capitalize',\n",
              " 'casefold',\n",
              " 'center',\n",
              " 'count',\n",
              " 'encode',\n",
              " 'endswith',\n",
              " 'expandtabs',\n",
              " 'find',\n",
              " 'format',\n",
              " 'format_map',\n",
              " 'index',\n",
              " 'isalnum',\n",
              " 'isalpha',\n",
              " 'isascii',\n",
              " 'isdecimal',\n",
              " 'isdigit',\n",
              " 'isidentifier',\n",
              " 'islower',\n",
              " 'isnumeric',\n",
              " 'isprintable',\n",
              " 'isspace',\n",
              " 'istitle',\n",
              " 'isupper',\n",
              " 'join',\n",
              " 'ljust',\n",
              " 'lower',\n",
              " 'lstrip',\n",
              " 'maketrans',\n",
              " 'partition',\n",
              " 'replace',\n",
              " 'rfind',\n",
              " 'rindex',\n",
              " 'rjust',\n",
              " 'rpartition',\n",
              " 'rsplit',\n",
              " 'rstrip',\n",
              " 'split',\n",
              " 'splitlines',\n",
              " 'startswith',\n",
              " 'strip',\n",
              " 'swapcase',\n",
              " 'title',\n",
              " 'translate',\n",
              " 'upper',\n",
              " 'zfill']"
            ]
          },
          "execution_count": 79,
          "metadata": {},
          "output_type": "execute_result"
        }
      ]
    },
    {
      "cell_type": "code",
      "metadata": {
        "id": "0RokNDZTa6zn"
      },
      "source": [
        ""
      ],
      "execution_count": null,
      "outputs": []
    },
    {
      "cell_type": "code",
      "metadata": {
        "id": "hPyVNi8Va6zn"
      },
      "source": [
        "l = list()"
      ],
      "execution_count": null,
      "outputs": []
    },
    {
      "cell_type": "code",
      "metadata": {
        "id": "OnfjQuPKa6zn"
      },
      "source": [
        "l.append(1)"
      ],
      "execution_count": null,
      "outputs": []
    },
    {
      "cell_type": "code",
      "metadata": {
        "id": "r-kBiGJWa6zo",
        "outputId": "ac21f956-de96-4d8e-de97-caef47c27445"
      },
      "source": [
        "l"
      ],
      "execution_count": null,
      "outputs": [
        {
          "data": {
            "text/plain": [
              "[1]"
            ]
          },
          "execution_count": 82,
          "metadata": {},
          "output_type": "execute_result"
        }
      ]
    },
    {
      "cell_type": "code",
      "metadata": {
        "id": "8CRTIS_Va6zo"
      },
      "source": [
        "l.append(2)"
      ],
      "execution_count": null,
      "outputs": []
    },
    {
      "cell_type": "code",
      "metadata": {
        "id": "-brSH0FWa6zo",
        "outputId": "bb47c6e1-efab-4f36-a159-362fdf39f24f"
      },
      "source": [
        "l[1]"
      ],
      "execution_count": null,
      "outputs": [
        {
          "data": {
            "text/plain": [
              "2"
            ]
          },
          "execution_count": 84,
          "metadata": {},
          "output_type": "execute_result"
        }
      ]
    },
    {
      "cell_type": "code",
      "metadata": {
        "id": "SO93D-IXa6zo",
        "outputId": "9c2fc054-77d1-40d7-fbeb-524b71276387"
      },
      "source": [
        "l[0]"
      ],
      "execution_count": null,
      "outputs": [
        {
          "data": {
            "text/plain": [
              "1"
            ]
          },
          "execution_count": 85,
          "metadata": {},
          "output_type": "execute_result"
        }
      ]
    },
    {
      "cell_type": "code",
      "metadata": {
        "id": "I1b4Na8Sa6zo",
        "outputId": "056eed5f-5c47-4cd4-bdbd-402f912de6be"
      },
      "source": [
        "l[-1]"
      ],
      "execution_count": null,
      "outputs": [
        {
          "data": {
            "text/plain": [
              "2"
            ]
          },
          "execution_count": 86,
          "metadata": {},
          "output_type": "execute_result"
        }
      ]
    },
    {
      "cell_type": "code",
      "metadata": {
        "id": "wcVjegrya6zo",
        "outputId": "6cf3113d-c317-4333-84f3-2c9be58c25da"
      },
      "source": [
        "l[-2]"
      ],
      "execution_count": null,
      "outputs": [
        {
          "data": {
            "text/plain": [
              "1"
            ]
          },
          "execution_count": 87,
          "metadata": {},
          "output_type": "execute_result"
        }
      ]
    },
    {
      "cell_type": "code",
      "metadata": {
        "id": "D_f57qq8a6zo",
        "outputId": "0081dd0b-83dd-4e79-d268-e1f46087a9e9"
      },
      "source": [
        "lst"
      ],
      "execution_count": null,
      "outputs": [
        {
          "data": {
            "text/plain": [
              "[1, 2, 3, 4, 'ad', 'hi', 1.0]"
            ]
          },
          "execution_count": 88,
          "metadata": {},
          "output_type": "execute_result"
        }
      ]
    },
    {
      "cell_type": "code",
      "metadata": {
        "id": "mg3iU0Dva6zp",
        "outputId": "1875d594-576e-4c35-bf7e-92c11bf18a36"
      },
      "source": [
        "lst[4][1]"
      ],
      "execution_count": null,
      "outputs": [
        {
          "data": {
            "text/plain": [
              "'d'"
            ]
          },
          "execution_count": 89,
          "metadata": {},
          "output_type": "execute_result"
        }
      ]
    },
    {
      "cell_type": "code",
      "metadata": {
        "id": "21SqEMn8a6zp"
      },
      "source": [
        "lst.insert(4,5)"
      ],
      "execution_count": null,
      "outputs": []
    },
    {
      "cell_type": "code",
      "metadata": {
        "id": "Rrb0Hb23a6zp",
        "outputId": "ed682e0e-201c-4595-c138-5be7cc235987"
      },
      "source": [
        "lst"
      ],
      "execution_count": null,
      "outputs": [
        {
          "data": {
            "text/plain": [
              "[1, 2, 3, 4, 5, 'ad', 'hi', 1.0]"
            ]
          },
          "execution_count": 91,
          "metadata": {},
          "output_type": "execute_result"
        }
      ]
    },
    {
      "cell_type": "code",
      "metadata": {
        "id": "zN12mJbPa6zp",
        "outputId": "3ea38874-5fa7-40af-938d-4b075c430055"
      },
      "source": [
        "for i in lst:\n",
        "    print(i)"
      ],
      "execution_count": null,
      "outputs": [
        {
          "name": "stdout",
          "output_type": "stream",
          "text": [
            "1\n",
            "2\n",
            "3\n",
            "4\n",
            "5\n",
            "ad\n",
            "hi\n",
            "1.0\n"
          ]
        }
      ]
    },
    {
      "cell_type": "code",
      "metadata": {
        "id": "7WRU38pHa6zp"
      },
      "source": [
        "# build functions: print, help, type int str\n",
        "# build module math, time random\n",
        "# keyword: import while break, if \n",
        "# string : index iterable immutable\n",
        "# list: index iterable, mutable "
      ],
      "execution_count": null,
      "outputs": []
    },
    {
      "cell_type": "code",
      "metadata": {
        "id": "AL7fxlZqa6zq",
        "outputId": "6794fcfa-170c-49d4-b203-c0ede69c21bf"
      },
      "source": [
        "type(l)"
      ],
      "execution_count": null,
      "outputs": [
        {
          "data": {
            "text/plain": [
              "list"
            ]
          },
          "execution_count": 73,
          "metadata": {},
          "output_type": "execute_result"
        }
      ]
    },
    {
      "cell_type": "code",
      "metadata": {
        "id": "lX6G9LjIa6zq",
        "outputId": "884cd636-1e7f-4c90-d52e-cdd60ac4df62"
      },
      "source": [
        "\n"
      ],
      "execution_count": null,
      "outputs": [
        {
          "ename": "IndexError",
          "evalue": "list assignment index out of range",
          "output_type": "error",
          "traceback": [
            "\u001b[0;31m---------------------------------------------------------------------------\u001b[0m",
            "\u001b[0;31mIndexError\u001b[0m                                Traceback (most recent call last)",
            "\u001b[0;32m<ipython-input-74-1b11f4bd934b>\u001b[0m in \u001b[0;36m<module>\u001b[0;34m\u001b[0m\n\u001b[0;32m----> 1\u001b[0;31m \u001b[0ml\u001b[0m\u001b[0;34m[\u001b[0m\u001b[0;36m0\u001b[0m\u001b[0;34m]\u001b[0m \u001b[0;34m=\u001b[0m \u001b[0;36m1\u001b[0m\u001b[0;34m\u001b[0m\u001b[0;34m\u001b[0m\u001b[0m\n\u001b[0m",
            "\u001b[0;31mIndexError\u001b[0m: list assignment index out of range"
          ]
        }
      ]
    },
    {
      "cell_type": "code",
      "metadata": {
        "id": "InpHyWqca6zq",
        "outputId": "ea4c0cbd-88a8-441d-b7f5-f3a141d7b172"
      },
      "source": [
        "lst"
      ],
      "execution_count": null,
      "outputs": [
        {
          "data": {
            "text/plain": [
              "[1, 2, 3, 4, 5, 'ad', 'hi', 1.0]"
            ]
          },
          "execution_count": 93,
          "metadata": {},
          "output_type": "execute_result"
        }
      ]
    },
    {
      "cell_type": "code",
      "metadata": {
        "id": "Q0o6379va6zq",
        "outputId": "245c0580-9abb-4fea-f860-fd82df7179be"
      },
      "source": [
        "id(lst)"
      ],
      "execution_count": null,
      "outputs": [
        {
          "data": {
            "text/plain": [
              "140289738325696"
            ]
          },
          "execution_count": 94,
          "metadata": {},
          "output_type": "execute_result"
        }
      ]
    },
    {
      "cell_type": "code",
      "metadata": {
        "id": "_EC4ly-5a6zq",
        "outputId": "a0143df9-bdbb-4aa5-92e4-eda7d1cb522e"
      },
      "source": [
        "lst[1]"
      ],
      "execution_count": null,
      "outputs": [
        {
          "data": {
            "text/plain": [
              "2"
            ]
          },
          "execution_count": 95,
          "metadata": {},
          "output_type": "execute_result"
        }
      ]
    },
    {
      "cell_type": "code",
      "metadata": {
        "id": "Q1NmAlSba6zq"
      },
      "source": [
        "lst[2] = 1000"
      ],
      "execution_count": null,
      "outputs": []
    },
    {
      "cell_type": "code",
      "metadata": {
        "id": "l4pOfjn0a6zq",
        "outputId": "b454d5b8-9f13-44c5-cce5-862994f4c4b2"
      },
      "source": [
        "lst"
      ],
      "execution_count": null,
      "outputs": [
        {
          "data": {
            "text/plain": [
              "[1, 2, 1000, 4, 5, 'ad', 'hi', 1.0]"
            ]
          },
          "execution_count": 97,
          "metadata": {},
          "output_type": "execute_result"
        }
      ]
    },
    {
      "cell_type": "code",
      "metadata": {
        "id": "H7KwLA_la6zr",
        "outputId": "3c3a9747-1c87-4804-95a3-683b7f2eb6aa"
      },
      "source": [
        "id(lst)"
      ],
      "execution_count": null,
      "outputs": [
        {
          "data": {
            "text/plain": [
              "140289738325696"
            ]
          },
          "execution_count": 98,
          "metadata": {},
          "output_type": "execute_result"
        }
      ]
    },
    {
      "cell_type": "code",
      "metadata": {
        "id": "jXX0j8Eaa6zr",
        "outputId": "3861909c-1d56-4073-d492-62a3e8acb104"
      },
      "source": [
        "lst\n"
      ],
      "execution_count": null,
      "outputs": [
        {
          "data": {
            "text/plain": [
              "[1, 2, 1000, 4, 5, 'ad', 'hi', 1.0]"
            ]
          },
          "execution_count": 99,
          "metadata": {},
          "output_type": "execute_result"
        }
      ]
    },
    {
      "cell_type": "code",
      "metadata": {
        "id": "9FL3C4FKa6zr"
      },
      "source": [
        "lst.append([1,234])"
      ],
      "execution_count": null,
      "outputs": []
    },
    {
      "cell_type": "code",
      "metadata": {
        "id": "ZLp6Mmppa6zr",
        "outputId": "18d62fb8-574f-4dc4-e433-ddf7d431609d"
      },
      "source": [
        "lst\n"
      ],
      "execution_count": null,
      "outputs": [
        {
          "data": {
            "text/plain": [
              "[1, 2, 1000, 4, 5, 'ad', 'hi', 1.0, [1, 234]]"
            ]
          },
          "execution_count": 101,
          "metadata": {},
          "output_type": "execute_result"
        }
      ]
    },
    {
      "cell_type": "code",
      "metadata": {
        "id": "wDRFsupna6zr",
        "outputId": "c0559e61-43eb-4651-bd1d-3cf59db96497"
      },
      "source": [
        "lst[-1]"
      ],
      "execution_count": null,
      "outputs": [
        {
          "data": {
            "text/plain": [
              "[1, 234]"
            ]
          },
          "execution_count": 102,
          "metadata": {},
          "output_type": "execute_result"
        }
      ]
    },
    {
      "cell_type": "code",
      "metadata": {
        "id": "Ekg25doaa6zr",
        "outputId": "ef197fb9-e1f4-492c-e8ff-f2408e718a72"
      },
      "source": [
        "lst[-1][0]"
      ],
      "execution_count": null,
      "outputs": [
        {
          "data": {
            "text/plain": [
              "1"
            ]
          },
          "execution_count": 103,
          "metadata": {},
          "output_type": "execute_result"
        }
      ]
    },
    {
      "cell_type": "code",
      "metadata": {
        "id": "xhrPaFn0a6zr",
        "outputId": "c480941a-3f99-4605-f8ad-46ef21ae624a"
      },
      "source": [
        "lst.pop()"
      ],
      "execution_count": null,
      "outputs": [
        {
          "data": {
            "text/plain": [
              "[1, 234]"
            ]
          },
          "execution_count": 104,
          "metadata": {},
          "output_type": "execute_result"
        }
      ]
    },
    {
      "cell_type": "code",
      "metadata": {
        "id": "nWaEW0Bda6zs",
        "outputId": "7202c208-4126-4a9d-9cab-49b03d3a61ac"
      },
      "source": [
        "lst"
      ],
      "execution_count": null,
      "outputs": [
        {
          "data": {
            "text/plain": [
              "[1, 2, 1000, 4, 5, 'ad', 'hi', 1.0]"
            ]
          },
          "execution_count": 105,
          "metadata": {},
          "output_type": "execute_result"
        }
      ]
    },
    {
      "cell_type": "code",
      "metadata": {
        "id": "aJmRU0ooa6zs"
      },
      "source": [
        "lst.remove(4)"
      ],
      "execution_count": null,
      "outputs": []
    },
    {
      "cell_type": "code",
      "metadata": {
        "id": "sKB3VjM8a6zs",
        "outputId": "631630cf-9513-46ae-a790-3fe897d788a5"
      },
      "source": [
        "lst"
      ],
      "execution_count": null,
      "outputs": [
        {
          "data": {
            "text/plain": [
              "[1, 2, 1000, 5, 'ad', 'hi', 1.0]"
            ]
          },
          "execution_count": 107,
          "metadata": {},
          "output_type": "execute_result"
        }
      ]
    },
    {
      "cell_type": "code",
      "metadata": {
        "id": "HXporGYUa6zs",
        "outputId": "a63bcf1f-d4ee-4e82-8b45-19dbe31cae2e"
      },
      "source": [
        "lst"
      ],
      "execution_count": null,
      "outputs": [
        {
          "data": {
            "text/plain": [
              "[1, 2, 1000, 5, 'ad', 'hi', 1.0]"
            ]
          },
          "execution_count": 108,
          "metadata": {},
          "output_type": "execute_result"
        }
      ]
    },
    {
      "cell_type": "code",
      "metadata": {
        "id": "A6MOUvKoa6zs",
        "outputId": "0c564434-bd5c-4e6e-a344-db1bbf1c87d7"
      },
      "source": [
        "s = 0 \n",
        "for ele in lst:\n",
        "    if isinstance(ele, int) or isinstance(ele, float):\n",
        "        print(\"value\", ele)\n",
        "        s = s+ele\n",
        "print(s)   "
      ],
      "execution_count": null,
      "outputs": [
        {
          "name": "stdout",
          "output_type": "stream",
          "text": [
            "value 1\n",
            "value 2\n",
            "value 1000\n",
            "value 5\n",
            "value 1.0\n",
            "1009.0\n"
          ]
        }
      ]
    },
    {
      "cell_type": "code",
      "metadata": {
        "id": "jyttSEMWa6zy"
      },
      "source": [
        "lst_1 = list(range(30, 50, 2))"
      ],
      "execution_count": null,
      "outputs": []
    },
    {
      "cell_type": "code",
      "metadata": {
        "id": "oIdXXtdsa6zy",
        "outputId": "aee1c7da-1e2d-421c-95a2-49531b3e90d7"
      },
      "source": [
        "lst_1"
      ],
      "execution_count": null,
      "outputs": [
        {
          "data": {
            "text/plain": [
              "[30, 32, 34, 36, 38, 40, 42, 44, 46, 48]"
            ]
          },
          "execution_count": 111,
          "metadata": {},
          "output_type": "execute_result"
        }
      ]
    },
    {
      "cell_type": "code",
      "metadata": {
        "id": "zbOcltVza6zy"
      },
      "source": [
        "\n",
        "\n",
        "# dict"
      ],
      "execution_count": null,
      "outputs": []
    },
    {
      "cell_type": "code",
      "metadata": {
        "id": "cgXt8PfGa6zy"
      },
      "source": [
        "mydict = {}"
      ],
      "execution_count": null,
      "outputs": []
    },
    {
      "cell_type": "code",
      "metadata": {
        "id": "Q9X1dIs0a6zz",
        "outputId": "bea9288d-3967-453e-fd10-73cc9871b088"
      },
      "source": [
        "mydict"
      ],
      "execution_count": null,
      "outputs": [
        {
          "data": {
            "text/plain": [
              "{}"
            ]
          },
          "execution_count": 113,
          "metadata": {},
          "output_type": "execute_result"
        }
      ]
    },
    {
      "cell_type": "code",
      "metadata": {
        "id": "2aLyUp1Za6zz",
        "outputId": "c91ac807-9f67-4b01-e3b1-1eefe2cef944"
      },
      "source": [
        "type(mydict)\n"
      ],
      "execution_count": null,
      "outputs": [
        {
          "data": {
            "text/plain": [
              "dict"
            ]
          },
          "execution_count": 114,
          "metadata": {},
          "output_type": "execute_result"
        }
      ]
    },
    {
      "cell_type": "code",
      "metadata": {
        "id": "tGKaQHCUa6zz"
      },
      "source": [
        "mydict_1 = dict()"
      ],
      "execution_count": null,
      "outputs": []
    },
    {
      "cell_type": "code",
      "metadata": {
        "id": "yZUk_iO8a6zz",
        "outputId": "fe9c5144-cc1c-44f0-fd30-a596b70b73b7"
      },
      "source": [
        "type(mydict_1)"
      ],
      "execution_count": null,
      "outputs": [
        {
          "data": {
            "text/plain": [
              "dict"
            ]
          },
          "execution_count": 116,
          "metadata": {},
          "output_type": "execute_result"
        }
      ]
    },
    {
      "cell_type": "code",
      "metadata": {
        "id": "AprdFmvqa6zz"
      },
      "source": [
        "mydict['k1'] = 'v1'"
      ],
      "execution_count": null,
      "outputs": []
    },
    {
      "cell_type": "code",
      "metadata": {
        "id": "KfAr-I_ca6zz",
        "outputId": "b8378ca6-a6c2-4608-b8ff-26f9786ef479"
      },
      "source": [
        "mydict"
      ],
      "execution_count": null,
      "outputs": [
        {
          "data": {
            "text/plain": [
              "{'k1': 'v1'}"
            ]
          },
          "execution_count": 118,
          "metadata": {},
          "output_type": "execute_result"
        }
      ]
    },
    {
      "cell_type": "code",
      "metadata": {
        "id": "ARot7xO9a6zz"
      },
      "source": [
        "mydict['k1'] = '10'"
      ],
      "execution_count": null,
      "outputs": []
    },
    {
      "cell_type": "code",
      "metadata": {
        "id": "Q52-PNYXa6zz",
        "outputId": "f44d2ae1-5121-4503-aa13-39da57e2e9ee"
      },
      "source": [
        "mydict"
      ],
      "execution_count": null,
      "outputs": [
        {
          "data": {
            "text/plain": [
              "{'k1': '10'}"
            ]
          },
          "execution_count": 120,
          "metadata": {},
          "output_type": "execute_result"
        }
      ]
    },
    {
      "cell_type": "code",
      "metadata": {
        "id": "3iRkHlq-a6z0",
        "outputId": "652c1338-1346-4d0d-debe-3328cab029c2"
      },
      "source": [
        "len(mydict)"
      ],
      "execution_count": null,
      "outputs": [
        {
          "data": {
            "text/plain": [
              "1"
            ]
          },
          "execution_count": 121,
          "metadata": {},
          "output_type": "execute_result"
        }
      ]
    },
    {
      "cell_type": "code",
      "metadata": {
        "id": "hlI-b9BIa6z0"
      },
      "source": [
        "d = {'a':10, 'b':30}"
      ],
      "execution_count": null,
      "outputs": []
    },
    {
      "cell_type": "code",
      "metadata": {
        "id": "cI3U_nepa6z0",
        "outputId": "1642f57f-a7eb-42a9-cdbc-85354e8c6de3"
      },
      "source": [
        "d"
      ],
      "execution_count": null,
      "outputs": [
        {
          "data": {
            "text/plain": [
              "{'a': 10, 'b': 30}"
            ]
          },
          "execution_count": 123,
          "metadata": {},
          "output_type": "execute_result"
        }
      ]
    },
    {
      "cell_type": "code",
      "metadata": {
        "id": "uHsujGlqa6z0"
      },
      "source": [
        "d['c1'] = 40"
      ],
      "execution_count": null,
      "outputs": []
    },
    {
      "cell_type": "code",
      "metadata": {
        "id": "J3nCjQUia6z0",
        "outputId": "b009fdee-5163-4963-9b13-a23d2e85f85e"
      },
      "source": [
        "d"
      ],
      "execution_count": null,
      "outputs": [
        {
          "data": {
            "text/plain": [
              "{'a': 10, 'b': 30, 'c1': 40}"
            ]
          },
          "execution_count": 125,
          "metadata": {},
          "output_type": "execute_result"
        }
      ]
    },
    {
      "cell_type": "code",
      "metadata": {
        "id": "V3rUIAY3a6z0"
      },
      "source": [
        "d['a']=100"
      ],
      "execution_count": null,
      "outputs": []
    },
    {
      "cell_type": "code",
      "metadata": {
        "id": "0KZOmcjPa6z0",
        "outputId": "49796cae-116e-4ad2-cd16-59e9174efab1"
      },
      "source": [
        "d"
      ],
      "execution_count": null,
      "outputs": [
        {
          "data": {
            "text/plain": [
              "{'a': 100, 'b': 30, 'c1': 40}"
            ]
          },
          "execution_count": 127,
          "metadata": {},
          "output_type": "execute_result"
        }
      ]
    },
    {
      "cell_type": "code",
      "metadata": {
        "id": "WdomAwpWa6z0",
        "outputId": "b23e5d3c-840e-451b-90f5-e2106d9e698a"
      },
      "source": [
        "d['a']"
      ],
      "execution_count": null,
      "outputs": [
        {
          "data": {
            "text/plain": [
              "100"
            ]
          },
          "execution_count": 128,
          "metadata": {},
          "output_type": "execute_result"
        }
      ]
    },
    {
      "cell_type": "code",
      "metadata": {
        "id": "7uL1tBbea6z1",
        "outputId": "baf8c3dd-6c0d-45f7-cd2d-3bc900eab02c"
      },
      "source": [
        "id(d)"
      ],
      "execution_count": null,
      "outputs": [
        {
          "data": {
            "text/plain": [
              "140289738203264"
            ]
          },
          "execution_count": 129,
          "metadata": {},
          "output_type": "execute_result"
        }
      ]
    },
    {
      "cell_type": "code",
      "metadata": {
        "id": "MuFxOlH0a6z1"
      },
      "source": [
        "d['a'] = 10000"
      ],
      "execution_count": null,
      "outputs": []
    },
    {
      "cell_type": "code",
      "metadata": {
        "id": "smyZJSB5a6z1",
        "outputId": "57586077-50e1-45bf-aeb8-6f2924294de3"
      },
      "source": [
        "d"
      ],
      "execution_count": null,
      "outputs": [
        {
          "data": {
            "text/plain": [
              "{'a': 10000, 'b': 30, 'c1': 40}"
            ]
          },
          "execution_count": 131,
          "metadata": {},
          "output_type": "execute_result"
        }
      ]
    },
    {
      "cell_type": "code",
      "metadata": {
        "id": "z1SAuoXNa6z1",
        "outputId": "b01d2c7d-d247-4374-dc51-2868d89a7170"
      },
      "source": [
        "id(d)"
      ],
      "execution_count": null,
      "outputs": [
        {
          "data": {
            "text/plain": [
              "140289738203264"
            ]
          },
          "execution_count": 132,
          "metadata": {},
          "output_type": "execute_result"
        }
      ]
    },
    {
      "cell_type": "code",
      "metadata": {
        "id": "PsX12H5aa6z1"
      },
      "source": [
        "detail = {\"name\": \"aakash\", \"age\": 26}"
      ],
      "execution_count": null,
      "outputs": []
    },
    {
      "cell_type": "code",
      "metadata": {
        "id": "E-FuqTDNa6z1",
        "outputId": "1b5abb85-7e24-4e4a-9325-0a83bd61a7b0"
      },
      "source": [
        "detail"
      ],
      "execution_count": null,
      "outputs": [
        {
          "data": {
            "text/plain": [
              "{'name': 'aakash', 'age': 26}"
            ]
          },
          "execution_count": 134,
          "metadata": {},
          "output_type": "execute_result"
        }
      ]
    },
    {
      "cell_type": "code",
      "metadata": {
        "id": "ACJsQCLXa6z1"
      },
      "source": [
        "ladies_purse = {\"card\": 3, \"cash\": 1900, \"candies\":7}"
      ],
      "execution_count": null,
      "outputs": []
    },
    {
      "cell_type": "code",
      "metadata": {
        "id": "XAXWUAVBa6z1",
        "outputId": "1630bd70-b2c2-41a3-f9e1-1a5b6d7023f4"
      },
      "source": [
        "ladies_purse"
      ],
      "execution_count": null,
      "outputs": [
        {
          "data": {
            "text/plain": [
              "{'card': 3, 'cash': 1900, 'candies': 7}"
            ]
          },
          "execution_count": 136,
          "metadata": {},
          "output_type": "execute_result"
        }
      ]
    },
    {
      "cell_type": "code",
      "metadata": {
        "id": "7UGDFT_xa6z2"
      },
      "source": [
        "ladies_purse['candies'] +=2\n"
      ],
      "execution_count": null,
      "outputs": []
    },
    {
      "cell_type": "code",
      "metadata": {
        "id": "G4d7edhLa6z2",
        "outputId": "7b81e22e-1132-49ca-f951-f4fed53f2813"
      },
      "source": [
        "ladies_purse"
      ],
      "execution_count": null,
      "outputs": [
        {
          "data": {
            "text/plain": [
              "{'card': 3, 'cash': 1900, 'candies': 9}"
            ]
          },
          "execution_count": 138,
          "metadata": {},
          "output_type": "execute_result"
        }
      ]
    },
    {
      "cell_type": "code",
      "metadata": {
        "id": "qxZOWVxYa6z2"
      },
      "source": [
        "# nested dictionries\n",
        "\n",
        "ladies_purse['cards'] = {\"Amex\":1, \"VISA\":{\"HDFC\":1, \"ICIC\":'gold'}}"
      ],
      "execution_count": null,
      "outputs": []
    },
    {
      "cell_type": "code",
      "metadata": {
        "id": "2ad_qpkva6z2",
        "outputId": "d0d344e5-f5bb-4982-e9f8-c28574a73fec"
      },
      "source": [
        "ladies_purse"
      ],
      "execution_count": null,
      "outputs": [
        {
          "data": {
            "text/plain": [
              "{'card': 3,\n",
              " 'cash': 1900,\n",
              " 'candies': 9,\n",
              " 'cards': {'Amex': 1, 'VISA': {'HDFC': 1, 'ICIC': 'gold'}}}"
            ]
          },
          "execution_count": 140,
          "metadata": {},
          "output_type": "execute_result"
        }
      ]
    },
    {
      "cell_type": "code",
      "metadata": {
        "id": "DvCbIRgSa6z2",
        "outputId": "854646c4-9688-4013-adf2-164f6f339992"
      },
      "source": [
        "ladies_purse.keys()"
      ],
      "execution_count": null,
      "outputs": [
        {
          "data": {
            "text/plain": [
              "dict_keys(['card', 'cash', 'candies', 'cards'])"
            ]
          },
          "execution_count": 142,
          "metadata": {},
          "output_type": "execute_result"
        }
      ]
    },
    {
      "cell_type": "code",
      "metadata": {
        "id": "nZAYzmzKa6z2",
        "outputId": "d57954f9-85a0-44e7-a5a6-bd5038134cc9"
      },
      "source": [
        "ladies_purse"
      ],
      "execution_count": null,
      "outputs": [
        {
          "data": {
            "text/plain": [
              "{'card': 3,\n",
              " 'cash': 1900,\n",
              " 'candies': 9,\n",
              " 'cards': {'Amex': 1, 'VISA': {'HDFC': 1, 'ICIC': 'gold'}}}"
            ]
          },
          "execution_count": 143,
          "metadata": {},
          "output_type": "execute_result"
        }
      ]
    },
    {
      "cell_type": "code",
      "metadata": {
        "id": "e2Gc9U6Va6z2"
      },
      "source": [
        ""
      ],
      "execution_count": null,
      "outputs": []
    },
    {
      "cell_type": "code",
      "metadata": {
        "id": "SL7C6Xy0a6z2",
        "outputId": "3f0fb05e-af3e-469c-db1a-bb2a3c5d0945"
      },
      "source": [
        "ladies_purse['cards']"
      ],
      "execution_count": null,
      "outputs": [
        {
          "data": {
            "text/plain": [
              "{'Amex': 1, 'VISA': {'HDFC': 1, 'ICIC': 'gold'}}"
            ]
          },
          "execution_count": 144,
          "metadata": {},
          "output_type": "execute_result"
        }
      ]
    },
    {
      "cell_type": "code",
      "metadata": {
        "id": "cpHnOY9aa6z3",
        "outputId": "2bb78425-236b-4127-f96f-220c38179263"
      },
      "source": [
        "ladies_purse['cards']['VISA']"
      ],
      "execution_count": null,
      "outputs": [
        {
          "data": {
            "text/plain": [
              "{'HDFC': 1, 'ICIC': 'gold'}"
            ]
          },
          "execution_count": 145,
          "metadata": {},
          "output_type": "execute_result"
        }
      ]
    },
    {
      "cell_type": "code",
      "metadata": {
        "id": "saYhiUVpa6z3",
        "outputId": "996747fb-ded6-4233-8462-deaf4963a26b"
      },
      "source": [
        "ladies_purse['cards']['VISA']['ICIC']"
      ],
      "execution_count": null,
      "outputs": [
        {
          "data": {
            "text/plain": [
              "'gold'"
            ]
          },
          "execution_count": 146,
          "metadata": {},
          "output_type": "execute_result"
        }
      ]
    },
    {
      "cell_type": "code",
      "metadata": {
        "id": "QJQWoH5Qa6z3",
        "outputId": "22e383cf-7ad3-4e21-bbcb-ff2700518027"
      },
      "source": [
        "ladies_purse['cards']['VISA']['ICIC'][-1]"
      ],
      "execution_count": null,
      "outputs": [
        {
          "data": {
            "text/plain": [
              "'d'"
            ]
          },
          "execution_count": 147,
          "metadata": {},
          "output_type": "execute_result"
        }
      ]
    },
    {
      "cell_type": "code",
      "metadata": {
        "id": "i-6zIciaa6z3",
        "outputId": "fa31a487-f844-4987-e529-4f168c70b08f"
      },
      "source": [
        "for ele in ladies_purse:\n",
        "    print(ele)"
      ],
      "execution_count": null,
      "outputs": [
        {
          "name": "stdout",
          "output_type": "stream",
          "text": [
            "card\n",
            "cash\n",
            "candies\n",
            "cards\n"
          ]
        }
      ]
    },
    {
      "cell_type": "code",
      "metadata": {
        "id": "EZH1CEJDa6z3",
        "outputId": "af2953c2-958d-4d05-eed9-c4aebdbccbe6"
      },
      "source": [
        "for ele in ladies_purse:\n",
        "    print(ele, '---->', ladies_purse[ele])"
      ],
      "execution_count": null,
      "outputs": [
        {
          "name": "stdout",
          "output_type": "stream",
          "text": [
            "card ----> 3\n",
            "cash ----> 1900\n",
            "candies ----> 9\n",
            "cards ----> {'Amex': 1, 'VISA': {'HDFC': 1, 'ICIC': 'gold'}}\n"
          ]
        }
      ]
    },
    {
      "cell_type": "code",
      "metadata": {
        "id": "6Dp6ARmja6z3",
        "outputId": "47ded06a-60cf-498c-fd65-c4fd4522976d"
      },
      "source": [
        "for value in ladies_purse.values():\n",
        "    print(value)"
      ],
      "execution_count": null,
      "outputs": [
        {
          "name": "stdout",
          "output_type": "stream",
          "text": [
            "3\n",
            "1900\n",
            "9\n",
            "{'Amex': 1, 'VISA': {'HDFC': 1, 'ICIC': 'gold'}}\n"
          ]
        }
      ]
    },
    {
      "cell_type": "code",
      "metadata": {
        "id": "lrK9AZMRa6z3",
        "outputId": "fd25c389-9297-4f58-82d0-103a08f2a7b2"
      },
      "source": [
        "for ele, value in ladies_purse.items():\n",
        "    print(ele, \"----->\", value)"
      ],
      "execution_count": null,
      "outputs": [
        {
          "name": "stdout",
          "output_type": "stream",
          "text": [
            "card -----> 3\n",
            "cash -----> 1900\n",
            "candies -----> 9\n",
            "cards -----> {'Amex': 1, 'VISA': {'HDFC': 1, 'ICIC': 'gold'}}\n"
          ]
        }
      ]
    },
    {
      "cell_type": "code",
      "metadata": {
        "id": "zAUHLBO7a6z4",
        "outputId": "11289e42-f203-40c5-cd3b-fb2be74fe6ee"
      },
      "source": [
        "dir(ladies_purse)"
      ],
      "execution_count": null,
      "outputs": [
        {
          "data": {
            "text/plain": [
              "['__class__',\n",
              " '__contains__',\n",
              " '__delattr__',\n",
              " '__delitem__',\n",
              " '__dir__',\n",
              " '__doc__',\n",
              " '__eq__',\n",
              " '__format__',\n",
              " '__ge__',\n",
              " '__getattribute__',\n",
              " '__getitem__',\n",
              " '__gt__',\n",
              " '__hash__',\n",
              " '__init__',\n",
              " '__init_subclass__',\n",
              " '__iter__',\n",
              " '__le__',\n",
              " '__len__',\n",
              " '__lt__',\n",
              " '__ne__',\n",
              " '__new__',\n",
              " '__reduce__',\n",
              " '__reduce_ex__',\n",
              " '__repr__',\n",
              " '__reversed__',\n",
              " '__setattr__',\n",
              " '__setitem__',\n",
              " '__sizeof__',\n",
              " '__str__',\n",
              " '__subclasshook__',\n",
              " 'clear',\n",
              " 'copy',\n",
              " 'fromkeys',\n",
              " 'get',\n",
              " 'items',\n",
              " 'keys',\n",
              " 'pop',\n",
              " 'popitem',\n",
              " 'setdefault',\n",
              " 'update',\n",
              " 'values']"
            ]
          },
          "execution_count": 153,
          "metadata": {},
          "output_type": "execute_result"
        }
      ]
    },
    {
      "cell_type": "code",
      "metadata": {
        "id": "lGJQ1PBDa6z4",
        "outputId": "75171735-ec29-4c98-883f-dd8f347aaa81"
      },
      "source": [
        "ladies_purse.pop('card')"
      ],
      "execution_count": null,
      "outputs": [
        {
          "data": {
            "text/plain": [
              "3"
            ]
          },
          "execution_count": 154,
          "metadata": {},
          "output_type": "execute_result"
        }
      ]
    },
    {
      "cell_type": "code",
      "metadata": {
        "id": "WChHBX9Xa6z4",
        "outputId": "86310d8b-3f0d-4cfb-cbfe-a787ebad5f02"
      },
      "source": [
        "ladies_purse"
      ],
      "execution_count": null,
      "outputs": [
        {
          "data": {
            "text/plain": [
              "{'cash': 1900,\n",
              " 'candies': 9,\n",
              " 'cards': {'Amex': 1, 'VISA': {'HDFC': 1, 'ICIC': 'gold'}}}"
            ]
          },
          "execution_count": 155,
          "metadata": {},
          "output_type": "execute_result"
        }
      ]
    },
    {
      "cell_type": "code",
      "metadata": {
        "id": "VfZhfORja6z4"
      },
      "source": [
        "del ladies_purse['cash']"
      ],
      "execution_count": null,
      "outputs": []
    },
    {
      "cell_type": "code",
      "metadata": {
        "id": "3aZg4di9a6z4",
        "outputId": "2ad4d0be-00d5-4cba-c647-ec15c77dc9ee"
      },
      "source": [
        "ladies_purse"
      ],
      "execution_count": null,
      "outputs": [
        {
          "data": {
            "text/plain": [
              "{'candies': 9, 'cards': {'Amex': 1, 'VISA': {'HDFC': 1, 'ICIC': 'gold'}}}"
            ]
          },
          "execution_count": 157,
          "metadata": {},
          "output_type": "execute_result"
        }
      ]
    },
    {
      "cell_type": "code",
      "metadata": {
        "id": "9lEtKZpfa6z4"
      },
      "source": [
        "d = {'a':100, 'b':20, 'c':30, 'e':20, 'k':{'x':10}, 'v':[1,2,3]}"
      ],
      "execution_count": null,
      "outputs": []
    },
    {
      "cell_type": "code",
      "metadata": {
        "id": "sxFKEgJHa6z4",
        "outputId": "997385c7-ce73-419d-93d5-d6138ebe563b"
      },
      "source": [
        "d"
      ],
      "execution_count": null,
      "outputs": [
        {
          "data": {
            "text/plain": [
              "{'a': 100, 'b': 20, 'c': 30, 'e': 20, 'k': {'x': 10}, 'v': [1, 2, 3]}"
            ]
          },
          "execution_count": 159,
          "metadata": {},
          "output_type": "execute_result"
        }
      ]
    },
    {
      "cell_type": "code",
      "metadata": {
        "id": "jbLkZixqa6z4"
      },
      "source": [
        "# "
      ],
      "execution_count": null,
      "outputs": []
    },
    {
      "cell_type": "code",
      "metadata": {
        "id": "rpP3c2mla6z5",
        "outputId": "db179756-221a-4a51-fa70-91ad3f23577a"
      },
      "source": [
        "d['v'][1]"
      ],
      "execution_count": null,
      "outputs": [
        {
          "data": {
            "text/plain": [
              "2"
            ]
          },
          "execution_count": 160,
          "metadata": {},
          "output_type": "execute_result"
        }
      ]
    },
    {
      "cell_type": "code",
      "metadata": {
        "id": "7gxuef5Za6z5",
        "outputId": "1d7f2440-b235-4bae-d615-56a2a57af379"
      },
      "source": [
        "d['v'][0]"
      ],
      "execution_count": null,
      "outputs": [
        {
          "data": {
            "text/plain": [
              "1"
            ]
          },
          "execution_count": 161,
          "metadata": {},
          "output_type": "execute_result"
        }
      ]
    },
    {
      "cell_type": "code",
      "metadata": {
        "id": "2VZ66kHJa6z5",
        "outputId": "29f6b177-0703-45a0-dda2-c10b49959f56"
      },
      "source": [
        "d['v'][2]"
      ],
      "execution_count": null,
      "outputs": [
        {
          "data": {
            "text/plain": [
              "3"
            ]
          },
          "execution_count": 162,
          "metadata": {},
          "output_type": "execute_result"
        }
      ]
    },
    {
      "cell_type": "code",
      "metadata": {
        "id": "KaSRqUWia6z5"
      },
      "source": [
        "# build functions: print, help, type int str\n",
        "# build module math, time random\n",
        "# keyword: import while break, if \n",
        "# string : index iterable immutable\n",
        "# list: index iterable, mutable\n",
        "# dict : non-index, iterable, mutable"
      ],
      "execution_count": null,
      "outputs": []
    },
    {
      "cell_type": "code",
      "metadata": {
        "id": "M_pF7LrVa6z5"
      },
      "source": [
        "# tuple\n",
        "tp = (23, 1, 'hit', '111')"
      ],
      "execution_count": null,
      "outputs": []
    },
    {
      "cell_type": "code",
      "metadata": {
        "id": "amYNdVXRa6z5",
        "outputId": "4dc3e16d-438c-42ea-99c2-f1b348cda669"
      },
      "source": [
        "type(tp)"
      ],
      "execution_count": null,
      "outputs": [
        {
          "data": {
            "text/plain": [
              "tuple"
            ]
          },
          "execution_count": 164,
          "metadata": {},
          "output_type": "execute_result"
        }
      ]
    },
    {
      "cell_type": "code",
      "metadata": {
        "id": "rrIw7vKta6z5",
        "outputId": "4b4ab84a-003c-4168-f071-feeb5e913dd5"
      },
      "source": [
        "tp"
      ],
      "execution_count": null,
      "outputs": [
        {
          "data": {
            "text/plain": [
              "(23, 1, 'hit', '111')"
            ]
          },
          "execution_count": 165,
          "metadata": {},
          "output_type": "execute_result"
        }
      ]
    },
    {
      "cell_type": "code",
      "metadata": {
        "id": "CP6-V98Ga6z6",
        "outputId": "5d22704f-7e91-4624-a4a3-58790219add6"
      },
      "source": [
        "tp[-1]"
      ],
      "execution_count": null,
      "outputs": [
        {
          "data": {
            "text/plain": [
              "'111'"
            ]
          },
          "execution_count": 167,
          "metadata": {},
          "output_type": "execute_result"
        }
      ]
    },
    {
      "cell_type": "code",
      "metadata": {
        "id": "tODrbcBga6z6",
        "outputId": "2424fdc3-8683-4550-dbdb-b76191107bd8"
      },
      "source": [
        "tp[:4]"
      ],
      "execution_count": null,
      "outputs": [
        {
          "data": {
            "text/plain": [
              "(23, 1, 'hit', '111')"
            ]
          },
          "execution_count": 168,
          "metadata": {},
          "output_type": "execute_result"
        }
      ]
    },
    {
      "cell_type": "code",
      "metadata": {
        "id": "khQ8a7Xga6z6"
      },
      "source": [
        "tp =((1,2,3), 7, (45,66,67), (6,7,9))"
      ],
      "execution_count": null,
      "outputs": []
    },
    {
      "cell_type": "code",
      "metadata": {
        "id": "N70NDF67a6z6",
        "outputId": "6cb13e97-3b85-45ec-8582-2973c603a324"
      },
      "source": [
        "tp"
      ],
      "execution_count": null,
      "outputs": [
        {
          "data": {
            "text/plain": [
              "((1, 2, 3), 7, (45, 66, 67), (6, 7, 9))"
            ]
          },
          "execution_count": 171,
          "metadata": {},
          "output_type": "execute_result"
        }
      ]
    },
    {
      "cell_type": "code",
      "metadata": {
        "id": "vL3KK7Qpa6z6"
      },
      "source": [
        "tp =((1,2,3), 7, (45,66,67), (6,7,9), [1,2,44, 6], {'1':1})"
      ],
      "execution_count": null,
      "outputs": []
    },
    {
      "cell_type": "code",
      "metadata": {
        "id": "1ivLpVTka6z6",
        "outputId": "38ab1312-c5c9-4c57-ef96-7147bad9eada"
      },
      "source": [
        "tp"
      ],
      "execution_count": null,
      "outputs": [
        {
          "data": {
            "text/plain": [
              "((1, 2, 3), 7, (45, 66, 67), (6, 7, 9), [1, 2, 44, 6], {'1': 1})"
            ]
          },
          "execution_count": 173,
          "metadata": {},
          "output_type": "execute_result"
        }
      ]
    },
    {
      "cell_type": "code",
      "metadata": {
        "id": "bGwECSX6a6z7",
        "outputId": "e764c4dd-3659-44e3-d8a1-f6b67eaa7715"
      },
      "source": [
        "for i in tp:\n",
        "    if isinstance(i, list):\n",
        "        print(i)\n",
        "        for ele in i:\n",
        "            print(ele)\n",
        "        "
      ],
      "execution_count": null,
      "outputs": [
        {
          "name": "stdout",
          "output_type": "stream",
          "text": [
            "[1, 2, 44, 6]\n",
            "1\n",
            "2\n",
            "44\n",
            "6\n"
          ]
        }
      ]
    },
    {
      "cell_type": "code",
      "metadata": {
        "id": "b1J_DWJQa6z8"
      },
      "source": [
        ""
      ],
      "execution_count": null,
      "outputs": []
    },
    {
      "cell_type": "code",
      "metadata": {
        "id": "dA8yuB35a6z8"
      },
      "source": [
        ""
      ],
      "execution_count": null,
      "outputs": []
    },
    {
      "cell_type": "code",
      "metadata": {
        "id": "4MufTcbqa6z8",
        "outputId": "b9b0eb51-719b-489d-a2ee-495533ca9a4e"
      },
      "source": [
        "tp[1]"
      ],
      "execution_count": null,
      "outputs": [
        {
          "data": {
            "text/plain": [
              "7"
            ]
          },
          "execution_count": 176,
          "metadata": {},
          "output_type": "execute_result"
        }
      ]
    },
    {
      "cell_type": "code",
      "metadata": {
        "id": "m8W2PdaFa6z8",
        "outputId": "ed09c6ff-4dd5-4b52-ce1c-12ec71e02549"
      },
      "source": [
        "id(tp)"
      ],
      "execution_count": null,
      "outputs": [
        {
          "data": {
            "text/plain": [
              "140289737235520"
            ]
          },
          "execution_count": 177,
          "metadata": {},
          "output_type": "execute_result"
        }
      ]
    },
    {
      "cell_type": "code",
      "metadata": {
        "id": "5-6P_va3a6z8",
        "outputId": "6cde5752-577e-4a48-e7b2-f1eab3a9994d"
      },
      "source": [
        "tp[1] = 8"
      ],
      "execution_count": null,
      "outputs": [
        {
          "ename": "TypeError",
          "evalue": "'tuple' object does not support item assignment",
          "output_type": "error",
          "traceback": [
            "\u001b[0;31m---------------------------------------------------------------------------\u001b[0m",
            "\u001b[0;31mTypeError\u001b[0m                                 Traceback (most recent call last)",
            "\u001b[0;32m<ipython-input-178-180ffcc501fd>\u001b[0m in \u001b[0;36m<module>\u001b[0;34m\u001b[0m\n\u001b[0;32m----> 1\u001b[0;31m \u001b[0mtp\u001b[0m\u001b[0;34m[\u001b[0m\u001b[0;36m1\u001b[0m\u001b[0;34m]\u001b[0m \u001b[0;34m=\u001b[0m \u001b[0;36m8\u001b[0m\u001b[0;34m\u001b[0m\u001b[0;34m\u001b[0m\u001b[0m\n\u001b[0m",
            "\u001b[0;31mTypeError\u001b[0m: 'tuple' object does not support item assignment"
          ]
        }
      ]
    },
    {
      "cell_type": "code",
      "metadata": {
        "id": "fmhxW8T4a6z9"
      },
      "source": [
        "# build functions: print, help, type int str......, dir\n",
        "# build module math, time random\n",
        "# keyword: import while break, if .......\n",
        "# string : index iterable immutable\n",
        "# list: index iterable, mutable\n",
        "# dict : non-index, iterable, mutable\n",
        "# tuple : index, iterable immutable "
      ],
      "execution_count": null,
      "outputs": []
    },
    {
      "cell_type": "code",
      "metadata": {
        "id": "Svrszdb6a6z9",
        "outputId": "dc9d4fec-b653-4c51-df17-825669bf0c46"
      },
      "source": [
        "tp"
      ],
      "execution_count": null,
      "outputs": [
        {
          "data": {
            "text/plain": [
              "((1, 2, 3), 7, (45, 66, 67), (6, 7, 9), [1, 2, 44, 6], {'1': 1})"
            ]
          },
          "execution_count": 179,
          "metadata": {},
          "output_type": "execute_result"
        }
      ]
    },
    {
      "cell_type": "code",
      "metadata": {
        "id": "9cxQMpGPa6z9",
        "outputId": "efdcafd1-fd12-48da-8dfd-742510c3d3aa"
      },
      "source": [
        "tp[4][1]"
      ],
      "execution_count": null,
      "outputs": [
        {
          "data": {
            "text/plain": [
              "2"
            ]
          },
          "execution_count": 182,
          "metadata": {},
          "output_type": "execute_result"
        }
      ]
    },
    {
      "cell_type": "code",
      "metadata": {
        "id": "O7vMQkuVa6z9",
        "outputId": "8524f1d3-cc2d-41db-c384-cbdece54f419"
      },
      "source": [
        "type(tp[4])"
      ],
      "execution_count": null,
      "outputs": [
        {
          "data": {
            "text/plain": [
              "list"
            ]
          },
          "execution_count": 183,
          "metadata": {},
          "output_type": "execute_result"
        }
      ]
    },
    {
      "cell_type": "code",
      "metadata": {
        "id": "PxECYIF9a6z9",
        "outputId": "1326935a-9de3-4c12-d856-6f8be14af3a4"
      },
      "source": [
        "isinstance(tp[4], list)"
      ],
      "execution_count": null,
      "outputs": [
        {
          "data": {
            "text/plain": [
              "True"
            ]
          },
          "execution_count": 184,
          "metadata": {},
          "output_type": "execute_result"
        }
      ]
    },
    {
      "cell_type": "code",
      "metadata": {
        "id": "ey74Dvila6z9",
        "outputId": "d17d8869-302e-4d51-cb2d-ee7a47167402"
      },
      "source": [
        "\"hi\""
      ],
      "execution_count": null,
      "outputs": [
        {
          "data": {
            "text/plain": [
              "'hi'"
            ]
          },
          "execution_count": 1,
          "metadata": {},
          "output_type": "execute_result"
        }
      ]
    },
    {
      "cell_type": "code",
      "metadata": {
        "scrolled": true,
        "id": "Q2bAPeLga6z9",
        "outputId": "b3ec031e-29d1-4886-85ef-ff1e2487eb77"
      },
      "source": [
        "emp_info = {}  # dict\n",
        "\n",
        "\n",
        "while True:\n",
        "    print(\"1.Create Employee records\")\n",
        "    print(\"2.Update the employee detail\")\n",
        "    print(\"3.Delete employee record\")\n",
        "    print(\"4. Display\")\n",
        "    print(\"5. Exit\")\n",
        "    ch = int(input(\"Enter your choice[1-5]:\"))\n",
        "    if ch == 1:\n",
        "        name = input(\"Enter the employee name:\")\n",
        "        emp_id = int(input(\"Enter the employee id\"))\n",
        "        ph=input(\"Enter the phone number:\")\n",
        "        tech= input(\"Technologies[comma seprated eg: C++, Python, .Net]\")\n",
        "        emp_info[emp_id] = {\"name\":name, \"phone\":ph, 'tech': tech.split(',')}\n",
        "    elif ch==2:\n",
        "        who = int(input(\"Whoes details you want to update ?, Plese enter the emp_id\"))\n",
        "        rec = emp_info[who]\n",
        "        for field, value in rec.items():\n",
        "            new = input('{}({})'.format(field, value))\n",
        "            emp_info[who][field] = value if new == '' else new\n",
        "    elif ch ==3:\n",
        "        who = int(input(\"Enter the employee id\"))\n",
        "        if who in emp_info:\n",
        "            del emp_info[who]\n",
        "        else:\n",
        "            print(\"Record not found\")\n",
        "    elif ch==4:\n",
        "        print(emp_info)\n",
        "    else:\n",
        "        break\n",
        "    \n",
        "    \n",
        "    "
      ],
      "execution_count": null,
      "outputs": [
        {
          "name": "stdout",
          "output_type": "stream",
          "text": [
            "1.Create Employee records\n",
            "2.Update the employee detail\n",
            "3.Delete employee record\n",
            "4. Display\n",
            "5. Exit\n",
            "Enter your choice[1-5]:1\n",
            "Enter the employee name:oo\n",
            "Enter the employee id101\n",
            "Enter the phone number:222223343433\n",
            "Technologies[comma seprated eg: C++, Python, .Net]python, cpp, java\n",
            "1.Create Employee records\n",
            "2.Update the employee detail\n",
            "3.Delete employee record\n",
            "4. Display\n",
            "5. Exit\n",
            "Enter your choice[1-5]:4\n",
            "{101: {'name': 'oo', 'phone': '222223343433', 'tech': ['python', ' cpp', ' java']}}\n",
            "1.Create Employee records\n",
            "2.Update the employee detail\n",
            "3.Delete employee record\n",
            "4. Display\n",
            "5. Exit\n",
            "Enter your choice[1-5]:3\n",
            "Enter the employee id101\n",
            "1.Create Employee records\n",
            "2.Update the employee detail\n",
            "3.Delete employee record\n",
            "4. Display\n",
            "5. Exit\n",
            "Enter your choice[1-5]:4\n",
            "{}\n",
            "1.Create Employee records\n",
            "2.Update the employee detail\n",
            "3.Delete employee record\n",
            "4. Display\n",
            "5. Exit\n",
            "Enter your choice[1-5]:3\n",
            "Enter the employee id121\n",
            "Record not found\n",
            "1.Create Employee records\n",
            "2.Update the employee detail\n",
            "3.Delete employee record\n",
            "4. Display\n",
            "5. Exit\n",
            "Enter your choice[1-5]:55\n"
          ]
        }
      ]
    },
    {
      "cell_type": "code",
      "metadata": {
        "id": "CB65Kt9ca6z-",
        "outputId": "ac4c5b22-d3ca-4e8b-946d-99f6c7c7d454"
      },
      "source": [
        "l = list()\n",
        "for i in range(10):\n",
        "  l.append(i)\n",
        "print(l)"
      ],
      "execution_count": null,
      "outputs": [
        {
          "name": "stdout",
          "output_type": "stream",
          "text": [
            "[0, 1, 2, 3, 4, 5, 6, 7, 8, 9]\n"
          ]
        }
      ]
    },
    {
      "cell_type": "code",
      "metadata": {
        "id": "0aWZdre0a6z_",
        "outputId": "05158ccc-62df-44e1-e6a8-912c9fc3ef4a"
      },
      "source": [
        "[x for x in range(10)]"
      ],
      "execution_count": null,
      "outputs": [
        {
          "data": {
            "text/plain": [
              "[0, 1, 2, 3, 4, 5, 6, 7, 8, 9]"
            ]
          },
          "execution_count": 9,
          "metadata": {},
          "output_type": "execute_result"
        }
      ]
    },
    {
      "cell_type": "code",
      "metadata": {
        "id": "20xM79Uka6z_",
        "outputId": "229468ad-c17e-4dbd-95a2-d37667444fbb"
      },
      "source": [
        "[x for x in range(10) if x%2==0]"
      ],
      "execution_count": null,
      "outputs": [
        {
          "data": {
            "text/plain": [
              "[0, 2, 4, 6, 8]"
            ]
          },
          "execution_count": 10,
          "metadata": {},
          "output_type": "execute_result"
        }
      ]
    },
    {
      "cell_type": "code",
      "metadata": {
        "id": "tMZ853kja6z_",
        "outputId": "091d68a7-e16b-4482-8187-f08f2f8ecf96"
      },
      "source": [
        "n= [1,2,3,4,5,6,7,8]\n",
        "\n",
        "num = int(input(\"Enter a index for which you want to see square:\"))\n",
        "squares = []\n",
        "for num in n:\n",
        "    squares.append(num**2)\n",
        "idx_pos = n.index(num)\n",
        "print(squares[idx_pos])"
      ],
      "execution_count": null,
      "outputs": [
        {
          "name": "stdout",
          "output_type": "stream",
          "text": [
            "Enter a number for which you want to see square:7\n",
            "64\n"
          ]
        }
      ]
    },
    {
      "cell_type": "code",
      "metadata": {
        "id": "AG1oSa9Wa6z_",
        "outputId": "6294955d-c77b-469e-fa28-a96cb45e8dd4"
      },
      "source": [
        "num = int(input(\"Enter the index for which you want to see sqauers\"))\n",
        "sq = [num**2 for num in n]\n",
        "idx_pos = n.index(num)\n",
        "print(sq[idx_pos])"
      ],
      "execution_count": null,
      "outputs": [
        {
          "name": "stdout",
          "output_type": "stream",
          "text": [
            "Enter the index for which you want to see sqauers4\n",
            "16\n"
          ]
        }
      ]
    },
    {
      "cell_type": "code",
      "metadata": {
        "id": "n9E1XdHta6z_",
        "outputId": "8a66a672-8d0c-4d2d-d5fe-ecf75e77917e"
      },
      "source": [
        "{k:k**2 for k in range(1,6)}"
      ],
      "execution_count": null,
      "outputs": [
        {
          "data": {
            "text/plain": [
              "{1: 1, 2: 4, 3: 9, 4: 16, 5: 25}"
            ]
          },
          "execution_count": 16,
          "metadata": {},
          "output_type": "execute_result"
        }
      ]
    },
    {
      "cell_type": "code",
      "metadata": {
        "id": "opt1v8lna6z_"
      },
      "source": [
        "# covert tuple to dict\n",
        "\n",
        "#{0:45, 1:77, 2:109, 4:data, 4:[]}\n",
        "tp = (45, 77, 109, 'data', [\"raj\", \"rohan\"])"
      ],
      "execution_count": null,
      "outputs": []
    },
    {
      "cell_type": "code",
      "metadata": {
        "id": "G8hA6I1oa60A",
        "outputId": "28c4985a-851a-4ebf-c1be-0fd1ce24b78b"
      },
      "source": [
        "{k:tp[k] for k in range(len(tp))}"
      ],
      "execution_count": null,
      "outputs": [
        {
          "data": {
            "text/plain": [
              "{0: 45, 1: 77, 2: 109, 3: 'data', 4: ['raj', 'rohan']}"
            ]
          },
          "execution_count": 18,
          "metadata": {},
          "output_type": "execute_result"
        }
      ]
    },
    {
      "cell_type": "code",
      "metadata": {
        "id": "_6qIrBRJa60A",
        "outputId": "d651446b-91b8-4aab-9a40-36e4ee758644"
      },
      "source": [
        "# logic other way\n",
        "\n",
        "{tp.index(v):v for v in tp}"
      ],
      "execution_count": null,
      "outputs": [
        {
          "data": {
            "text/plain": [
              "{0: 45, 1: 77, 2: 109, 3: 'data', 4: ['raj', 'rohan']}"
            ]
          },
          "execution_count": 19,
          "metadata": {},
          "output_type": "execute_result"
        }
      ]
    },
    {
      "cell_type": "code",
      "metadata": {
        "id": "VFFXfVeLa60A",
        "outputId": "ead56d9a-93d8-4781-8e7a-8b2b21871be2"
      },
      "source": [
        "# how reverser element of tuple\n",
        "tp[::-1]"
      ],
      "execution_count": null,
      "outputs": [
        {
          "data": {
            "text/plain": [
              "(['raj', 'rohan'], 'data', 109, 77, 45)"
            ]
          },
          "execution_count": 20,
          "metadata": {},
          "output_type": "execute_result"
        }
      ]
    },
    {
      "cell_type": "code",
      "metadata": {
        "id": "66jYUjHua60A"
      },
      "source": [
        "s = {2,4,6,8,90,88,92,91}"
      ],
      "execution_count": null,
      "outputs": []
    },
    {
      "cell_type": "code",
      "metadata": {
        "id": "ZTZfBwATa60A",
        "outputId": "5a74d3aa-58ea-46a5-9148-0702163dfe30"
      },
      "source": [
        "type(s)"
      ],
      "execution_count": null,
      "outputs": [
        {
          "data": {
            "text/plain": [
              "set"
            ]
          },
          "execution_count": 22,
          "metadata": {},
          "output_type": "execute_result"
        }
      ]
    },
    {
      "cell_type": "code",
      "metadata": {
        "id": "FtJ1Fd9Ua60B"
      },
      "source": [
        "lst = [1,1,1,2,2,3,4,5,6,7]"
      ],
      "execution_count": null,
      "outputs": []
    },
    {
      "cell_type": "code",
      "metadata": {
        "id": "vaGzcMeua60B",
        "outputId": "3e1af66f-4d94-4606-bfcd-9bf2a171f703"
      },
      "source": [
        "lst"
      ],
      "execution_count": null,
      "outputs": [
        {
          "data": {
            "text/plain": [
              "[1, 1, 1, 2, 2, 3, 4, 5, 6, 7]"
            ]
          },
          "execution_count": 25,
          "metadata": {},
          "output_type": "execute_result"
        }
      ]
    },
    {
      "cell_type": "code",
      "metadata": {
        "id": "_k7U6P7oa60B",
        "outputId": "3882610f-0898-4ff6-bc8a-5810b8d49fed"
      },
      "source": [
        "set(lst)"
      ],
      "execution_count": null,
      "outputs": [
        {
          "data": {
            "text/plain": [
              "{1, 2, 3, 4, 5, 6, 7}"
            ]
          },
          "execution_count": 26,
          "metadata": {},
          "output_type": "execute_result"
        }
      ]
    },
    {
      "cell_type": "code",
      "metadata": {
        "id": "qpz0Q6Ava60B",
        "outputId": "0660d104-2783-4d29-92be-68e71bd8a2b7"
      },
      "source": [
        "dir(s)"
      ],
      "execution_count": null,
      "outputs": [
        {
          "data": {
            "text/plain": [
              "['__and__',\n",
              " '__class__',\n",
              " '__contains__',\n",
              " '__delattr__',\n",
              " '__dir__',\n",
              " '__doc__',\n",
              " '__eq__',\n",
              " '__format__',\n",
              " '__ge__',\n",
              " '__getattribute__',\n",
              " '__gt__',\n",
              " '__hash__',\n",
              " '__iand__',\n",
              " '__init__',\n",
              " '__init_subclass__',\n",
              " '__ior__',\n",
              " '__isub__',\n",
              " '__iter__',\n",
              " '__ixor__',\n",
              " '__le__',\n",
              " '__len__',\n",
              " '__lt__',\n",
              " '__ne__',\n",
              " '__new__',\n",
              " '__or__',\n",
              " '__rand__',\n",
              " '__reduce__',\n",
              " '__reduce_ex__',\n",
              " '__repr__',\n",
              " '__ror__',\n",
              " '__rsub__',\n",
              " '__rxor__',\n",
              " '__setattr__',\n",
              " '__sizeof__',\n",
              " '__str__',\n",
              " '__sub__',\n",
              " '__subclasshook__',\n",
              " '__xor__',\n",
              " 'add',\n",
              " 'clear',\n",
              " 'copy',\n",
              " 'difference',\n",
              " 'difference_update',\n",
              " 'discard',\n",
              " 'intersection',\n",
              " 'intersection_update',\n",
              " 'isdisjoint',\n",
              " 'issubset',\n",
              " 'issuperset',\n",
              " 'pop',\n",
              " 'remove',\n",
              " 'symmetric_difference',\n",
              " 'symmetric_difference_update',\n",
              " 'union',\n",
              " 'update']"
            ]
          },
          "execution_count": 27,
          "metadata": {},
          "output_type": "execute_result"
        }
      ]
    },
    {
      "cell_type": "code",
      "metadata": {
        "id": "Bz0LTVJYa60B"
      },
      "source": [
        "s.add(100)"
      ],
      "execution_count": null,
      "outputs": []
    },
    {
      "cell_type": "code",
      "metadata": {
        "id": "fPfhhBM2a60B",
        "outputId": "5f01b49d-29e7-4317-8056-6f894a3eba91"
      },
      "source": [
        "s"
      ],
      "execution_count": null,
      "outputs": [
        {
          "data": {
            "text/plain": [
              "{2, 4, 6, 8, 88, 90, 91, 92, 100}"
            ]
          },
          "execution_count": 29,
          "metadata": {},
          "output_type": "execute_result"
        }
      ]
    },
    {
      "cell_type": "code",
      "metadata": {
        "id": "i8tVjbSIa60B"
      },
      "source": [
        "lst = [34,6,7,5,3,2,(88,),4,5,7,8,9,4,3,'hi', 5,(7,97,7), 4,2]"
      ],
      "execution_count": null,
      "outputs": []
    },
    {
      "cell_type": "code",
      "metadata": {
        "id": "AekdIcO8a60B",
        "outputId": "29314927-65cd-4c3a-e137-5f6c0ee0c206"
      },
      "source": [
        "lst"
      ],
      "execution_count": null,
      "outputs": [
        {
          "data": {
            "text/plain": [
              "[34, 6, 7, 5, 3, 2, (88,), 4, 5, 7, 8, 9, 4, 3, 'hi', 5, (7, 97, 7), 4, 2]"
            ]
          },
          "execution_count": 31,
          "metadata": {},
          "output_type": "execute_result"
        }
      ]
    },
    {
      "cell_type": "code",
      "metadata": {
        "id": "E4znypkoa60C",
        "outputId": "43ccd0ed-aa1c-493c-f8c3-6bda386743ac"
      },
      "source": [
        "set(lst)"
      ],
      "execution_count": null,
      "outputs": [
        {
          "data": {
            "text/plain": [
              "{(7, 97, 7), (88,), 2, 3, 34, 4, 5, 6, 7, 8, 9, 'hi'}"
            ]
          },
          "execution_count": 32,
          "metadata": {},
          "output_type": "execute_result"
        }
      ]
    },
    {
      "cell_type": "code",
      "metadata": {
        "id": "8-wEBGjoa60C",
        "outputId": "da277ca1-6864-4429-dbc5-cbd3dd4636d7"
      },
      "source": [
        "s1 = {1,2,3,4,5,7,8}\n",
        "s2 = {5,6,7,8,9,10,11}\n",
        "\n",
        "s1.union(s2)"
      ],
      "execution_count": null,
      "outputs": [
        {
          "data": {
            "text/plain": [
              "{1, 2, 3, 4, 5, 6, 7, 8, 9, 10, 11}"
            ]
          },
          "execution_count": 33,
          "metadata": {},
          "output_type": "execute_result"
        }
      ]
    },
    {
      "cell_type": "code",
      "metadata": {
        "id": "AWv5QM1Sa60C",
        "outputId": "e00aa009-a924-42f3-8e26-b0769fb27d4a"
      },
      "source": [
        "s1.difference(s2)"
      ],
      "execution_count": null,
      "outputs": [
        {
          "data": {
            "text/plain": [
              "{1, 2, 3, 4}"
            ]
          },
          "execution_count": 34,
          "metadata": {},
          "output_type": "execute_result"
        }
      ]
    },
    {
      "cell_type": "code",
      "metadata": {
        "id": "32STNA2sa60C",
        "outputId": "642dac2b-4ad7-4d70-ebc0-f27db2cfe223"
      },
      "source": [
        "s2.difference(s1)"
      ],
      "execution_count": null,
      "outputs": [
        {
          "data": {
            "text/plain": [
              "{6, 9, 10, 11}"
            ]
          },
          "execution_count": 35,
          "metadata": {},
          "output_type": "execute_result"
        }
      ]
    },
    {
      "cell_type": "code",
      "metadata": {
        "id": "AL_-Y7Qba60C",
        "outputId": "9dcf7208-7bf7-439b-ff08-0ad4fb029d34"
      },
      "source": [
        "s1.intersection(s2)"
      ],
      "execution_count": null,
      "outputs": [
        {
          "data": {
            "text/plain": [
              "{5, 7, 8}"
            ]
          },
          "execution_count": 36,
          "metadata": {},
          "output_type": "execute_result"
        }
      ]
    },
    {
      "cell_type": "code",
      "metadata": {
        "id": "0p1SRPJ-a60D",
        "outputId": "0ae69e96-7d05-4068-ea06-df874481d5f6"
      },
      "source": [
        "s1-s2"
      ],
      "execution_count": null,
      "outputs": [
        {
          "data": {
            "text/plain": [
              "{1, 2, 3, 4}"
            ]
          },
          "execution_count": 37,
          "metadata": {},
          "output_type": "execute_result"
        }
      ]
    },
    {
      "cell_type": "code",
      "metadata": {
        "id": "OpSRXhDia60D"
      },
      "source": [
        "# build functions: print, help, type int str\n",
        "# build module math, time random\n",
        "# keyword: import while break, if \n",
        "# string : index iterable immutable\n",
        "# list: index iterable, mutable\n",
        "# dict : non-index, iterable, mutable\n",
        "# set : non index, iterable\n",
        "\n",
        "# UDF \n",
        "print(\"hello xyz\")\n",
        "\"welcome to python\"\n",
        "\"your age is 26\"\n",
        "\n",
        "print(\"hello xyz\")\n",
        "\"welcome to python\"\n",
        "\"your age is 26\"\n",
        "\n",
        "print(\"hello xyz\")\n",
        "\"welcome to python\"\n",
        "\"your age is 26\"\n",
        "\n",
        "\n"
      ],
      "execution_count": null,
      "outputs": []
    },
    {
      "cell_type": "code",
      "metadata": {
        "id": "zEibc1wBa60D"
      },
      "source": [
        "def greeting():\n",
        "    print(\"hello xyz\")\n",
        "    print(\"welcome to python\")\n",
        "    print(\"your age is 26\")"
      ],
      "execution_count": null,
      "outputs": []
    },
    {
      "cell_type": "code",
      "metadata": {
        "id": "kS6fzMola60D",
        "outputId": "589fdddd-4134-44aa-a57a-ccce9da8c2a0"
      },
      "source": [
        "greeting()"
      ],
      "execution_count": null,
      "outputs": [
        {
          "name": "stdout",
          "output_type": "stream",
          "text": [
            "hello xyz\n",
            "welcome to python\n",
            "your age is 26\n"
          ]
        }
      ]
    },
    {
      "cell_type": "code",
      "metadata": {
        "id": "RGdDAowTa60D",
        "outputId": "039fd655-dba5-4b13-c5a8-e5c19ec043f2"
      },
      "source": [
        "greeting()"
      ],
      "execution_count": null,
      "outputs": [
        {
          "name": "stdout",
          "output_type": "stream",
          "text": [
            "hello xyz\n",
            "welcome to python\n",
            "your age is 26\n"
          ]
        }
      ]
    },
    {
      "cell_type": "code",
      "metadata": {
        "id": "6dGxunt2a60D"
      },
      "source": [
        "def greeting(name, age):\n",
        "    print(\"hello %s\" % name)\n",
        "    print(\"welcome to python\")\n",
        "    print(\"your age is %s\" %age)\n",
        "    \n",
        "    "
      ],
      "execution_count": null,
      "outputs": []
    },
    {
      "cell_type": "code",
      "metadata": {
        "id": "9_lM5nFGa60D",
        "outputId": "b3e1f2f8-0251-4963-a325-6ebe4a601b05"
      },
      "source": [
        "greeting(\"onkar\", \"24\")"
      ],
      "execution_count": null,
      "outputs": [
        {
          "name": "stdout",
          "output_type": "stream",
          "text": [
            "hello onkar\n",
            "welcome to python\n",
            "your age is 24\n"
          ]
        }
      ]
    },
    {
      "cell_type": "code",
      "metadata": {
        "id": "OS6Fd6xia60E"
      },
      "source": [
        "def greeting(name, age):\n",
        "    print(\"hello %s\" % name)\n",
        "    print(\"welcome to python\")\n",
        "    if isinstance(age, (int, float)):\n",
        "        print(\"age:\", age)"
      ],
      "execution_count": null,
      "outputs": []
    },
    {
      "cell_type": "code",
      "metadata": {
        "id": "5is5lI8na60E",
        "outputId": "55517b54-9e7f-4313-cb71-c16aedb2ea0f"
      },
      "source": [
        "greeting('onkar', 24)"
      ],
      "execution_count": null,
      "outputs": [
        {
          "name": "stdout",
          "output_type": "stream",
          "text": [
            "hello onkar\n",
            "welcome to python\n",
            "age: 24\n"
          ]
        }
      ]
    },
    {
      "cell_type": "code",
      "metadata": {
        "id": "A9Mvv17ka60E",
        "outputId": "439790b8-00e4-4932-e3ae-5f8a79cf21a0"
      },
      "source": [
        "greeting(\"onkar\", \"24\")"
      ],
      "execution_count": null,
      "outputs": [
        {
          "name": "stdout",
          "output_type": "stream",
          "text": [
            "hello onkar\n",
            "welcome to python\n"
          ]
        }
      ]
    },
    {
      "cell_type": "code",
      "metadata": {
        "id": "c0NE2hQha60E"
      },
      "source": [
        ""
      ],
      "execution_count": null,
      "outputs": []
    },
    {
      "cell_type": "code",
      "metadata": {
        "id": "RTejF8eua60E",
        "outputId": "3f0302cd-10ef-4779-d68d-42e51c4b7af9"
      },
      "source": [
        "greeting()"
      ],
      "execution_count": null,
      "outputs": [
        {
          "name": "stdout",
          "output_type": "stream",
          "text": [
            "hello xyz\n",
            "welcome to python\n",
            "your age is 26\n"
          ]
        }
      ]
    },
    {
      "cell_type": "code",
      "metadata": {
        "id": "V4N8OHCaa60E"
      },
      "source": [
        "def greeting(name, age):\n",
        "    \n",
        "    \"\"\"\n",
        "      this function is responsible to greet people\n",
        "    \"\"\"\n",
        "    pass"
      ],
      "execution_count": null,
      "outputs": []
    },
    {
      "cell_type": "code",
      "metadata": {
        "id": "yltCbqcva60E"
      },
      "source": [
        ""
      ],
      "execution_count": null,
      "outputs": []
    },
    {
      "cell_type": "code",
      "metadata": {
        "id": "Hzs7SYKUa60E",
        "outputId": "138539df-5f28-4ea1-a7ae-411342ce51bf"
      },
      "source": [
        "help(greeting)"
      ],
      "execution_count": null,
      "outputs": [
        {
          "name": "stdout",
          "output_type": "stream",
          "text": [
            "Help on function greeting in module __main__:\n",
            "\n",
            "greeting(name, age)\n",
            "    this function is responsible to greet people\n",
            "\n"
          ]
        }
      ]
    },
    {
      "cell_type": "code",
      "metadata": {
        "id": "s-BWfRdOa60E"
      },
      "source": [
        "def greeting(name='', discount=10):\n",
        "    \"\"\"\n",
        "    this function is responsible to greet people\n",
        "    \"\"\"\n",
        "    print(\"hello {}\".format(name))\n",
        "    print(\"welcome to python\")\n",
        "    if isinstance(discount,(int, float)):\n",
        "        print(\"age\", discount)"
      ],
      "execution_count": null,
      "outputs": []
    },
    {
      "cell_type": "code",
      "metadata": {
        "id": "nDEJUEg8a60E",
        "outputId": "05b53c53-375a-429c-9365-dd7968191076"
      },
      "source": [
        "greeting(name=\"john\")"
      ],
      "execution_count": null,
      "outputs": [
        {
          "name": "stdout",
          "output_type": "stream",
          "text": [
            "hello john\n",
            "welcome to python\n",
            "age 10\n"
          ]
        }
      ]
    },
    {
      "cell_type": "code",
      "metadata": {
        "id": "ympXv7hpa60F",
        "outputId": "e9c8cbc6-6c70-43bb-e5b9-c3bf8853b25d"
      },
      "source": [
        "greeting(name=\"john\", discount=40)"
      ],
      "execution_count": null,
      "outputs": [
        {
          "name": "stdout",
          "output_type": "stream",
          "text": [
            "hello john\n",
            "welcome to python\n",
            "age 40\n"
          ]
        }
      ]
    },
    {
      "cell_type": "code",
      "metadata": {
        "id": "7nYPVuDta60F"
      },
      "source": [
        ""
      ],
      "execution_count": null,
      "outputs": []
    },
    {
      "cell_type": "code",
      "metadata": {
        "id": "wOI8Wnssa60F"
      },
      "source": [
        ""
      ],
      "execution_count": null,
      "outputs": []
    },
    {
      "cell_type": "code",
      "metadata": {
        "id": "NHoi-qk8a60F",
        "outputId": "67e1c501-d900-466d-ec1a-90b4a2d5f90f"
      },
      "source": [
        "greeting(name=\"john\")"
      ],
      "execution_count": null,
      "outputs": [
        {
          "name": "stdout",
          "output_type": "stream",
          "text": [
            "hello john\n",
            "welcome to python\n"
          ]
        },
        {
          "ename": "NameError",
          "evalue": "name 'age' is not defined",
          "output_type": "error",
          "traceback": [
            "\u001b[0;31m---------------------------------------------------------------------------\u001b[0m",
            "\u001b[0;31mNameError\u001b[0m                                 Traceback (most recent call last)",
            "\u001b[0;32m<ipython-input-61-0f22cb324507>\u001b[0m in \u001b[0;36m<module>\u001b[0;34m\u001b[0m\n\u001b[0;32m----> 1\u001b[0;31m \u001b[0mgreeting\u001b[0m\u001b[0;34m(\u001b[0m\u001b[0mname\u001b[0m\u001b[0;34m=\u001b[0m\u001b[0;34m\"john\"\u001b[0m\u001b[0;34m)\u001b[0m\u001b[0;34m\u001b[0m\u001b[0;34m\u001b[0m\u001b[0m\n\u001b[0m",
            "\u001b[0;32m<ipython-input-60-94618c14f374>\u001b[0m in \u001b[0;36mgreeting\u001b[0;34m(name, discount)\u001b[0m\n\u001b[1;32m      5\u001b[0m     \u001b[0mprint\u001b[0m\u001b[0;34m(\u001b[0m\u001b[0;34m\"hello {}\"\u001b[0m\u001b[0;34m.\u001b[0m\u001b[0mformat\u001b[0m\u001b[0;34m(\u001b[0m\u001b[0mname\u001b[0m\u001b[0;34m)\u001b[0m\u001b[0;34m)\u001b[0m\u001b[0;34m\u001b[0m\u001b[0;34m\u001b[0m\u001b[0m\n\u001b[1;32m      6\u001b[0m     \u001b[0mprint\u001b[0m\u001b[0;34m(\u001b[0m\u001b[0;34m\"welcome to python\"\u001b[0m\u001b[0;34m)\u001b[0m\u001b[0;34m\u001b[0m\u001b[0;34m\u001b[0m\u001b[0m\n\u001b[0;32m----> 7\u001b[0;31m     \u001b[0;32mif\u001b[0m \u001b[0misinstance\u001b[0m\u001b[0;34m(\u001b[0m\u001b[0mage\u001b[0m\u001b[0;34m,\u001b[0m\u001b[0;34m(\u001b[0m\u001b[0mint\u001b[0m\u001b[0;34m,\u001b[0m \u001b[0mfloat\u001b[0m\u001b[0;34m)\u001b[0m\u001b[0;34m)\u001b[0m\u001b[0;34m:\u001b[0m\u001b[0;34m\u001b[0m\u001b[0;34m\u001b[0m\u001b[0m\n\u001b[0m\u001b[1;32m      8\u001b[0m         \u001b[0mprint\u001b[0m\u001b[0;34m(\u001b[0m\u001b[0;34m\"age\"\u001b[0m\u001b[0;34m,\u001b[0m \u001b[0mdiscount\u001b[0m\u001b[0;34m)\u001b[0m\u001b[0;34m\u001b[0m\u001b[0;34m\u001b[0m\u001b[0m\n",
            "\u001b[0;31mNameError\u001b[0m: name 'age' is not defined"
          ]
        }
      ]
    },
    {
      "cell_type": "code",
      "metadata": {
        "id": "Npwx2_SOa60F"
      },
      "source": [
        ""
      ],
      "execution_count": null,
      "outputs": []
    },
    {
      "cell_type": "code",
      "metadata": {
        "id": "2vMPOjh-a60F"
      },
      "source": [
        ""
      ],
      "execution_count": null,
      "outputs": []
    },
    {
      "cell_type": "code",
      "metadata": {
        "id": "-8UQGLYMa60F",
        "outputId": "ca227ab1-103d-4f08-d2c5-38d7f53b7cfe"
      },
      "source": [
        "greeting(name=\"john\")"
      ],
      "execution_count": null,
      "outputs": [
        {
          "name": "stdout",
          "output_type": "stream",
          "text": [
            "hello john\n",
            "welcome to python\n",
            "age 25\n"
          ]
        }
      ]
    },
    {
      "cell_type": "code",
      "metadata": {
        "id": "UpBbCMqBa60G",
        "outputId": "8b651e7a-e7b3-467e-c119-9412f4a89bb9"
      },
      "source": [
        "greeting(name=\"john\", age=26)"
      ],
      "execution_count": null,
      "outputs": [
        {
          "name": "stdout",
          "output_type": "stream",
          "text": [
            "hello john\n",
            "welcome to python\n",
            "age 26\n"
          ]
        }
      ]
    },
    {
      "cell_type": "code",
      "metadata": {
        "id": "VdfQhh_Oa60G"
      },
      "source": [
        ""
      ],
      "execution_count": null,
      "outputs": []
    },
    {
      "cell_type": "code",
      "metadata": {
        "id": "hS_8oOn7a60G",
        "outputId": "4eacc36e-fce6-42dc-a40d-2cc810761dce"
      },
      "source": [
        "greeting(name=\"john\")"
      ],
      "execution_count": null,
      "outputs": [
        {
          "name": "stdout",
          "output_type": "stream",
          "text": [
            "hello john\n",
            "welcome to python\n",
            "age\n"
          ]
        }
      ]
    },
    {
      "cell_type": "code",
      "metadata": {
        "id": "B1tKPe3Ua60G"
      },
      "source": [
        "def greeting( name, age, phone=\"00000\", address=\"pune\"):\n",
        "    print(\"name {}\".format(name))\n",
        "    print(\"age {}\".format(age))\n",
        "    print(\"phone {}\".format(phone))\n",
        "    print(\"address %s\" % address)\n",
        "    "
      ],
      "execution_count": null,
      "outputs": []
    },
    {
      "cell_type": "code",
      "metadata": {
        "id": "Tr1-lbE_a60G"
      },
      "source": [
        ""
      ],
      "execution_count": null,
      "outputs": []
    },
    {
      "cell_type": "code",
      "metadata": {
        "id": "_mBFQpXxa60G",
        "outputId": "34509aa2-d54b-47e1-d425-5a643583d37c"
      },
      "source": [
        "greeting(\"ram\", 24, 4445, \"bang\")"
      ],
      "execution_count": null,
      "outputs": [
        {
          "name": "stdout",
          "output_type": "stream",
          "text": [
            "name ram\n",
            "age 24\n",
            "phone 4445\n",
            "address bang\n"
          ]
        }
      ]
    },
    {
      "cell_type": "code",
      "metadata": {
        "id": "i6hiv_IIa60G"
      },
      "source": [
        "def greeting(*args, phone=\"0000\", address=\"pune\"):\n",
        "    print(\"Complete args {}\".format(args))\n",
        "    print(\"hello {}\".format(args[0]))\n",
        "    print(\"age {}\".format(args[1]))\n",
        "    print(\"phone\", phone)\n",
        "    print(\"address\", address)"
      ],
      "execution_count": null,
      "outputs": []
    },
    {
      "cell_type": "code",
      "metadata": {
        "id": "mj9lyRjka60G"
      },
      "source": [
        ""
      ],
      "execution_count": null,
      "outputs": []
    },
    {
      "cell_type": "code",
      "metadata": {
        "id": "p3JjrMEVa60G",
        "outputId": "df540183-caf4-43be-c20f-d34405d09bb3"
      },
      "source": [
        "greeting('ram', 18, phone='1122', address=\"ban\")"
      ],
      "execution_count": null,
      "outputs": [
        {
          "name": "stdout",
          "output_type": "stream",
          "text": [
            "Complete args ('ram', 18)\n",
            "hello ram\n",
            "age 18\n",
            "phone 1122\n",
            "address ban\n"
          ]
        }
      ]
    },
    {
      "cell_type": "code",
      "metadata": {
        "id": "KA5qiDi_a60H",
        "outputId": "f03f9005-3430-4271-d6ca-e2bf956f068a"
      },
      "source": [
        "greeting('ram', 18, 'rohna',\"101\", \"name\", {\"1\":1}, phone='1122', address=\"ban\")"
      ],
      "execution_count": null,
      "outputs": [
        {
          "name": "stdout",
          "output_type": "stream",
          "text": [
            "Complete args ('ram', 18, 'rohna', '101', 'name', {'1': 1})\n",
            "hello ram\n",
            "age 18\n",
            "phone 1122\n",
            "address ban\n"
          ]
        }
      ]
    },
    {
      "cell_type": "code",
      "metadata": {
        "id": "QwGNy3lWa60H"
      },
      "source": [
        "def get_data(name, *args, phone=\"0000\", address=\"pune\"):\n",
        "    print(\"name\", name)\n",
        "    print(\"args\", args)\n",
        "    print(\"phone\", phone)\n",
        "    print(\"address\", address)\n",
        "    "
      ],
      "execution_count": null,
      "outputs": []
    },
    {
      "cell_type": "code",
      "metadata": {
        "id": "gfNGFH5wa60H",
        "outputId": "d429d5a4-1d03-4b28-9504-9bd4aee96144"
      },
      "source": [
        "get_data('john', \"IT\", \"mumbai\", phone=\"111\", address=\"mum\")"
      ],
      "execution_count": null,
      "outputs": [
        {
          "name": "stdout",
          "output_type": "stream",
          "text": [
            "name john\n",
            "args ('IT', 'mumbai')\n",
            "phone 111\n",
            "address mum\n"
          ]
        }
      ]
    },
    {
      "cell_type": "code",
      "metadata": {
        "id": "85COksKYa60H"
      },
      "source": [
        "def get_data(name, *args, **kwargs):\n",
        "    print(\"name\", name)\n",
        "    print(\"args\", args)\n",
        "    print(\"kwargs\", kwargs)"
      ],
      "execution_count": null,
      "outputs": []
    },
    {
      "cell_type": "code",
      "metadata": {
        "id": "tBSdFeaZa60H",
        "outputId": "68c6cd4c-392f-4a6d-a164-f52ff2611d98"
      },
      "source": [
        "get_data('ram', 90900, \"IT\", \"Banglore\", phone=\"19292\", location=\"pune\")"
      ],
      "execution_count": null,
      "outputs": [
        {
          "name": "stdout",
          "output_type": "stream",
          "text": [
            "name ram\n",
            "args (90900, 'IT', 'Banglore')\n",
            "kwargs {'phone': '19292', 'location': 'pune'}\n"
          ]
        }
      ]
    },
    {
      "cell_type": "code",
      "metadata": {
        "id": "EuTZRgHGa60H"
      },
      "source": [
        "def get_data(name, *args, **kwargs):\n",
        "    print(\"name\", name)\n",
        "    print(\"args\", args)\n",
        "    print(\"Phone\", kwargs['phone'])"
      ],
      "execution_count": null,
      "outputs": []
    },
    {
      "cell_type": "code",
      "metadata": {
        "id": "lBk-GIrqa60H",
        "outputId": "4be59feb-201f-4034-b971-97c01ea9385b"
      },
      "source": [
        "get_data('ram', 90900, \"IT\", \"Banglore\", phone=\"19292\", location=\"pune\")"
      ],
      "execution_count": null,
      "outputs": [
        {
          "name": "stdout",
          "output_type": "stream",
          "text": [
            "name ram\n",
            "args (90900, 'IT', 'Banglore')\n",
            "Phone 19292\n"
          ]
        }
      ]
    },
    {
      "cell_type": "code",
      "metadata": {
        "id": "m62DDbqPa60H"
      },
      "source": [
        "def get_data(name, *args, discount=100, **kwargs):\n",
        "    print(\"name\", name)\n",
        "    print(\"args\", args)\n",
        "    print(\"Phone\", kwargs)\n",
        "    print(\"discount\", discount)"
      ],
      "execution_count": null,
      "outputs": []
    },
    {
      "cell_type": "code",
      "metadata": {
        "id": "IZGQWmFDa60H",
        "outputId": "9e205c8b-1fc9-41c2-f5cd-9e92f1fba88a"
      },
      "source": [
        "get_data('ram', 90900, \"IT\", \"Banglore\", discount =200, phone=\"19292\", location=\"pune\")"
      ],
      "execution_count": null,
      "outputs": [
        {
          "name": "stdout",
          "output_type": "stream",
          "text": [
            "name ram\n",
            "args (90900, 'IT', 'Banglore')\n",
            "Phone {'phone': '19292', 'location': 'pune'}\n",
            "discount 200\n"
          ]
        }
      ]
    },
    {
      "cell_type": "code",
      "metadata": {
        "id": "Hv5Adcxja60I"
      },
      "source": [
        ""
      ],
      "execution_count": null,
      "outputs": []
    },
    {
      "cell_type": "code",
      "metadata": {
        "id": "U2PfXyf3a60I",
        "outputId": "b62f0d4a-096b-463b-98ad-62c39b0d58a4"
      },
      "source": [
        ""
      ],
      "execution_count": null,
      "outputs": [
        {
          "name": "stdout",
          "output_type": "stream",
          "text": [
            "name ram\n",
            "args (90900, 'IT', 'Banglore')\n",
            "Phone 19292\n",
            "discount 200\n"
          ]
        }
      ]
    },
    {
      "cell_type": "code",
      "metadata": {
        "id": "GHizeHsea60I"
      },
      "source": [
        ""
      ],
      "execution_count": null,
      "outputs": []
    },
    {
      "cell_type": "code",
      "metadata": {
        "id": "XOojtWLla60I"
      },
      "source": [
        "get_data('ram', 90900, \"IT\", \"Banglore\", discount =200, phone=\"19292\", location=\"pune\")"
      ],
      "execution_count": null,
      "outputs": []
    },
    {
      "cell_type": "code",
      "metadata": {
        "id": "sMXeKIPja60I"
      },
      "source": [
        ""
      ],
      "execution_count": null,
      "outputs": []
    },
    {
      "cell_type": "code",
      "metadata": {
        "id": "ziFJqQHYa60I"
      },
      "source": [
        ""
      ],
      "execution_count": null,
      "outputs": []
    },
    {
      "cell_type": "code",
      "metadata": {
        "id": "ACAfQccQa60I"
      },
      "source": [
        ""
      ],
      "execution_count": null,
      "outputs": []
    },
    {
      "cell_type": "code",
      "metadata": {
        "id": "QDmpDS6Ua60I"
      },
      "source": [
        ""
      ],
      "execution_count": null,
      "outputs": []
    },
    {
      "cell_type": "code",
      "metadata": {
        "id": "7jUYID4Ja60I"
      },
      "source": [
        ""
      ],
      "execution_count": null,
      "outputs": []
    },
    {
      "cell_type": "code",
      "metadata": {
        "id": "iTtBbsW6a60I"
      },
      "source": [
        ""
      ],
      "execution_count": null,
      "outputs": []
    },
    {
      "cell_type": "code",
      "metadata": {
        "id": "FU8CEznXa60I",
        "outputId": "858e637c-2740-42ba-d322-b21149c03027"
      },
      "source": [
        "greeting('ram', 18, phone='1122', address=\"ban\")"
      ],
      "execution_count": null,
      "outputs": [
        {
          "ename": "TypeError",
          "evalue": "not all arguments converted during string formatting",
          "output_type": "error",
          "traceback": [
            "\u001b[0;31m---------------------------------------------------------------------------\u001b[0m",
            "\u001b[0;31mTypeError\u001b[0m                                 Traceback (most recent call last)",
            "\u001b[0;32m<ipython-input-76-81e42da9bd45>\u001b[0m in \u001b[0;36m<module>\u001b[0;34m\u001b[0m\n\u001b[0;32m----> 1\u001b[0;31m \u001b[0mgreeting\u001b[0m\u001b[0;34m(\u001b[0m\u001b[0;34m'ram'\u001b[0m\u001b[0;34m,\u001b[0m \u001b[0;36m18\u001b[0m\u001b[0;34m,\u001b[0m \u001b[0mphone\u001b[0m\u001b[0;34m=\u001b[0m\u001b[0;34m'1122'\u001b[0m\u001b[0;34m,\u001b[0m \u001b[0maddress\u001b[0m\u001b[0;34m=\u001b[0m\u001b[0;34m\"ban\"\u001b[0m\u001b[0;34m)\u001b[0m\u001b[0;34m\u001b[0m\u001b[0;34m\u001b[0m\u001b[0m\n\u001b[0m",
            "\u001b[0;32m<ipython-input-75-8a1ab392fc1b>\u001b[0m in \u001b[0;36mgreeting\u001b[0;34m(phone, address, *args)\u001b[0m\n\u001b[1;32m      1\u001b[0m \u001b[0;32mdef\u001b[0m \u001b[0mgreeting\u001b[0m\u001b[0;34m(\u001b[0m\u001b[0;34m*\u001b[0m\u001b[0margs\u001b[0m\u001b[0;34m,\u001b[0m \u001b[0mphone\u001b[0m\u001b[0;34m=\u001b[0m\u001b[0;34m\"0000\"\u001b[0m\u001b[0;34m,\u001b[0m \u001b[0maddress\u001b[0m\u001b[0;34m=\u001b[0m\u001b[0;34m\"pune\"\u001b[0m\u001b[0;34m)\u001b[0m\u001b[0;34m:\u001b[0m\u001b[0;34m\u001b[0m\u001b[0;34m\u001b[0m\u001b[0m\n\u001b[0;32m----> 2\u001b[0;31m     \u001b[0mprint\u001b[0m\u001b[0;34m(\u001b[0m\u001b[0;34m\"Complete args %s\"\u001b[0m \u001b[0;34m%\u001b[0m \u001b[0margs\u001b[0m\u001b[0;34m)\u001b[0m\u001b[0;34m\u001b[0m\u001b[0;34m\u001b[0m\u001b[0m\n\u001b[0m\u001b[1;32m      3\u001b[0m     \u001b[0mprint\u001b[0m\u001b[0;34m(\u001b[0m\u001b[0;34m\"hello {}\"\u001b[0m\u001b[0;34m.\u001b[0m\u001b[0mformat\u001b[0m\u001b[0;34m(\u001b[0m\u001b[0margs\u001b[0m\u001b[0;34m[\u001b[0m\u001b[0;36m0\u001b[0m\u001b[0;34m]\u001b[0m\u001b[0;34m)\u001b[0m\u001b[0;34m)\u001b[0m\u001b[0;34m\u001b[0m\u001b[0;34m\u001b[0m\u001b[0m\n\u001b[1;32m      4\u001b[0m     \u001b[0mprint\u001b[0m\u001b[0;34m(\u001b[0m\u001b[0;34m\"age {}\"\u001b[0m\u001b[0;34m.\u001b[0m\u001b[0mformat\u001b[0m\u001b[0;34m(\u001b[0m\u001b[0margs\u001b[0m\u001b[0;34m[\u001b[0m\u001b[0;36m1\u001b[0m\u001b[0;34m]\u001b[0m\u001b[0;34m)\u001b[0m\u001b[0;34m)\u001b[0m\u001b[0;34m\u001b[0m\u001b[0;34m\u001b[0m\u001b[0m\n",
            "\u001b[0;31mTypeError\u001b[0m: not all arguments converted during string formatting"
          ]
        }
      ]
    },
    {
      "cell_type": "code",
      "metadata": {
        "id": "l9q2UxAWa60I"
      },
      "source": [
        ""
      ],
      "execution_count": null,
      "outputs": []
    },
    {
      "cell_type": "code",
      "metadata": {
        "id": "0h6re8QIa60I"
      },
      "source": [
        ""
      ],
      "execution_count": null,
      "outputs": []
    },
    {
      "cell_type": "code",
      "metadata": {
        "id": "LrXF-4Vna60J"
      },
      "source": [
        ""
      ],
      "execution_count": null,
      "outputs": []
    },
    {
      "cell_type": "code",
      "metadata": {
        "id": "VmkEZCHba60J",
        "outputId": "da37555f-0e36-449f-f439-40c8dbf612d9"
      },
      "source": [
        "greeting(\"ram\", 24)"
      ],
      "execution_count": null,
      "outputs": [
        {
          "name": "stdout",
          "output_type": "stream",
          "text": [
            "name ram\n",
            "age 24\n",
            "phone 00000\n",
            "address pune\n"
          ]
        }
      ]
    },
    {
      "cell_type": "code",
      "metadata": {
        "id": "RGzY5hRDa60J",
        "outputId": "940e0a56-5a39-4367-db47-a6ce260558c6"
      },
      "source": [
        "greeting(\"ram\", 24, address=\"pune\",  phone=\"01111\")"
      ],
      "execution_count": null,
      "outputs": [
        {
          "name": "stdout",
          "output_type": "stream",
          "text": [
            "name ram\n",
            "age 24\n",
            "phone 01111\n",
            "address pune\n"
          ]
        }
      ]
    },
    {
      "cell_type": "code",
      "metadata": {
        "id": "sNYeF087a60J"
      },
      "source": [
        "def square(x):\n",
        "    return x**2"
      ],
      "execution_count": null,
      "outputs": []
    },
    {
      "cell_type": "code",
      "metadata": {
        "id": "5G22f0O_a60J",
        "outputId": "7f00737b-8b08-448c-a3a4-57e578381ab7"
      },
      "source": [
        "square(10)"
      ],
      "execution_count": null,
      "outputs": [
        {
          "data": {
            "text/plain": [
              "100"
            ]
          },
          "execution_count": 99,
          "metadata": {},
          "output_type": "execute_result"
        }
      ]
    },
    {
      "cell_type": "code",
      "metadata": {
        "id": "2zQMoJ7ga60J"
      },
      "source": [
        "# lambda args: expression"
      ],
      "execution_count": null,
      "outputs": []
    },
    {
      "cell_type": "code",
      "metadata": {
        "id": "vIgFlWJHa60J"
      },
      "source": [
        "x = lambda x: x**2"
      ],
      "execution_count": null,
      "outputs": []
    },
    {
      "cell_type": "code",
      "metadata": {
        "id": "_YqBsuSha60J",
        "outputId": "de86d375-6ded-4fa3-9870-05b7dad5f032"
      },
      "source": [
        "x(100)"
      ],
      "execution_count": null,
      "outputs": [
        {
          "data": {
            "text/plain": [
              "10000"
            ]
          },
          "execution_count": 101,
          "metadata": {},
          "output_type": "execute_result"
        }
      ]
    },
    {
      "cell_type": "code",
      "metadata": {
        "id": "XiB1aBmRa60K",
        "outputId": "d2972131-c467-4347-b55d-b9a7a8e21b4d"
      },
      "source": [
        "list(map(square,(2, 4,5, 8, 9)))"
      ],
      "execution_count": null,
      "outputs": [
        {
          "data": {
            "text/plain": [
              "[4, 16, 25, 64, 81]"
            ]
          },
          "execution_count": 102,
          "metadata": {},
          "output_type": "execute_result"
        }
      ]
    },
    {
      "cell_type": "code",
      "metadata": {
        "id": "AF-XC52la60K"
      },
      "source": [
        "#map(function, [], (),)"
      ],
      "execution_count": null,
      "outputs": []
    },
    {
      "cell_type": "code",
      "metadata": {
        "id": "mED67-e7a60K",
        "outputId": "8636cde1-3808-4ddc-e37e-0df6a0166174"
      },
      "source": [
        "list(map(str.upper, ['python', 'is', 'fun']))"
      ],
      "execution_count": null,
      "outputs": [
        {
          "data": {
            "text/plain": [
              "['PYTHON', 'IS', 'FUN']"
            ]
          },
          "execution_count": 103,
          "metadata": {},
          "output_type": "execute_result"
        }
      ]
    },
    {
      "cell_type": "code",
      "metadata": {
        "id": "6mlaQGg-a60K",
        "outputId": "f06814e3-7ad3-481f-fa4a-213f9a13cc77"
      },
      "source": [
        "for w in ['python', 'is', 'fun']:\n",
        "    print(w.upper())"
      ],
      "execution_count": null,
      "outputs": [
        {
          "name": "stdout",
          "output_type": "stream",
          "text": [
            "PYTHON\n",
            "IS\n",
            "FUN\n"
          ]
        }
      ]
    },
    {
      "cell_type": "code",
      "metadata": {
        "id": "aS56hXUea60K"
      },
      "source": [
        "def func():\n",
        "    x1=4\n",
        "    print(x1)"
      ],
      "execution_count": null,
      "outputs": []
    },
    {
      "cell_type": "code",
      "metadata": {
        "id": "ogd16FHPa60K",
        "outputId": "99fdc4dc-0031-4017-b23e-4ed122573c5d"
      },
      "source": [
        "func()"
      ],
      "execution_count": null,
      "outputs": [
        {
          "name": "stdout",
          "output_type": "stream",
          "text": [
            "4\n"
          ]
        }
      ]
    },
    {
      "cell_type": "code",
      "metadata": {
        "id": "84fx63Eda60K",
        "outputId": "6f02426d-c643-4ec4-8df0-1f4d35361aa2"
      },
      "source": [
        "x1"
      ],
      "execution_count": null,
      "outputs": [
        {
          "ename": "NameError",
          "evalue": "name 'x1' is not defined",
          "output_type": "error",
          "traceback": [
            "\u001b[0;31m---------------------------------------------------------------------------\u001b[0m",
            "\u001b[0;31mNameError\u001b[0m                                 Traceback (most recent call last)",
            "\u001b[0;32m<ipython-input-108-04358ba4b61b>\u001b[0m in \u001b[0;36m<module>\u001b[0;34m\u001b[0m\n\u001b[0;32m----> 1\u001b[0;31m \u001b[0mx1\u001b[0m\u001b[0;34m\u001b[0m\u001b[0;34m\u001b[0m\u001b[0m\n\u001b[0m",
            "\u001b[0;31mNameError\u001b[0m: name 'x1' is not defined"
          ]
        }
      ]
    },
    {
      "cell_type": "code",
      "metadata": {
        "id": "Q6On_3QDa60K"
      },
      "source": [
        "def func():\n",
        "    global x1\n",
        "    x1=4\n",
        "    print(x1)"
      ],
      "execution_count": null,
      "outputs": []
    },
    {
      "cell_type": "code",
      "metadata": {
        "id": "yjiFTDgma60L",
        "outputId": "5d45cc33-15e8-4ad9-d831-6992e108ec75"
      },
      "source": [
        "func()"
      ],
      "execution_count": null,
      "outputs": [
        {
          "name": "stdout",
          "output_type": "stream",
          "text": [
            "4\n"
          ]
        }
      ]
    },
    {
      "cell_type": "code",
      "metadata": {
        "id": "9BSq2j20a60L",
        "outputId": "b93fc88c-b8f2-4266-b46f-469199083341"
      },
      "source": [
        "x1"
      ],
      "execution_count": null,
      "outputs": [
        {
          "data": {
            "text/plain": [
              "4"
            ]
          },
          "execution_count": 111,
          "metadata": {},
          "output_type": "execute_result"
        }
      ]
    },
    {
      "cell_type": "code",
      "metadata": {
        "id": "d7-Y7_ooa60L"
      },
      "source": [
        "def outer():\n",
        "    i=10\n",
        "    j=8\n",
        "    def inner():\n",
        "        print(i)\n",
        "        print(\"i am inner function\")\n",
        "    def inner2():\n",
        "        print(\"second inner\")\n",
        "    inner()\n",
        "    inner2()\n",
        "    return inner, inner2"
      ],
      "execution_count": null,
      "outputs": []
    },
    {
      "cell_type": "code",
      "metadata": {
        "id": "h1bZ4cR4a60L",
        "outputId": "25ea4a90-a8e6-4c39-ece5-1b6fb8635ae2"
      },
      "source": [
        "p = outer()\n",
        "p"
      ],
      "execution_count": null,
      "outputs": [
        {
          "name": "stdout",
          "output_type": "stream",
          "text": [
            "10\n",
            "i am inner function\n",
            "second inner\n"
          ]
        },
        {
          "data": {
            "text/plain": [
              "(<function __main__.outer.<locals>.inner()>,\n",
              " <function __main__.outer.<locals>.inner2()>)"
            ]
          },
          "execution_count": 119,
          "metadata": {},
          "output_type": "execute_result"
        }
      ]
    },
    {
      "cell_type": "code",
      "metadata": {
        "id": "JrvEdOOBa60L"
      },
      "source": [
        ""
      ],
      "execution_count": null,
      "outputs": []
    },
    {
      "cell_type": "code",
      "metadata": {
        "id": "_0nGRISEa60L",
        "outputId": "98666e15-9523-4769-bc22-fe8eb0be5147"
      },
      "source": [
        "p[0]()"
      ],
      "execution_count": null,
      "outputs": [
        {
          "name": "stdout",
          "output_type": "stream",
          "text": [
            "10\n",
            "i am inner function\n"
          ]
        }
      ]
    },
    {
      "cell_type": "code",
      "metadata": {
        "id": "AbBj8Nroa60L",
        "outputId": "9b7751da-871c-43d9-821b-72ff2b3be472"
      },
      "source": [
        "p[1]()"
      ],
      "execution_count": null,
      "outputs": [
        {
          "name": "stdout",
          "output_type": "stream",
          "text": [
            "second inner\n"
          ]
        }
      ]
    },
    {
      "cell_type": "code",
      "metadata": {
        "id": "RqEQf_wga60L"
      },
      "source": [
        ""
      ],
      "execution_count": null,
      "outputs": []
    },
    {
      "cell_type": "code",
      "metadata": {
        "id": "zjyYxqKxa60M",
        "outputId": "643f8237-2dc3-4370-a9e2-2055739fd569"
      },
      "source": [
        "dir(p)"
      ],
      "execution_count": null,
      "outputs": [
        {
          "data": {
            "text/plain": [
              "['__add__',\n",
              " '__class__',\n",
              " '__contains__',\n",
              " '__delattr__',\n",
              " '__dir__',\n",
              " '__doc__',\n",
              " '__eq__',\n",
              " '__format__',\n",
              " '__ge__',\n",
              " '__getattribute__',\n",
              " '__getitem__',\n",
              " '__getnewargs__',\n",
              " '__gt__',\n",
              " '__hash__',\n",
              " '__init__',\n",
              " '__init_subclass__',\n",
              " '__iter__',\n",
              " '__le__',\n",
              " '__len__',\n",
              " '__lt__',\n",
              " '__mul__',\n",
              " '__ne__',\n",
              " '__new__',\n",
              " '__reduce__',\n",
              " '__reduce_ex__',\n",
              " '__repr__',\n",
              " '__rmul__',\n",
              " '__setattr__',\n",
              " '__sizeof__',\n",
              " '__str__',\n",
              " '__subclasshook__',\n",
              " 'count',\n",
              " 'index']"
            ]
          },
          "execution_count": 115,
          "metadata": {},
          "output_type": "execute_result"
        }
      ]
    },
    {
      "cell_type": "code",
      "metadata": {
        "id": "g49aeT37a60M"
      },
      "source": [
        "p"
      ],
      "execution_count": null,
      "outputs": []
    },
    {
      "cell_type": "code",
      "metadata": {
        "id": "Nf3cqdYHa60M",
        "outputId": "d40ae6e7-bff9-4c9b-b61c-5fc43abf3165"
      },
      "source": [
        ""
      ],
      "execution_count": null,
      "outputs": [
        {
          "ename": "NameError",
          "evalue": "name 'outer' is not defined",
          "output_type": "error",
          "traceback": [
            "\u001b[0;31m---------------------------------------------------------------------------\u001b[0m",
            "\u001b[0;31mNameError\u001b[0m                                 Traceback (most recent call last)",
            "\u001b[0;32m<ipython-input-112-ab095144d05e>\u001b[0m in \u001b[0;36m<module>\u001b[0;34m\u001b[0m\n\u001b[0;32m----> 1\u001b[0;31m \u001b[0mp\u001b[0m \u001b[0;34m=\u001b[0m \u001b[0mouter\u001b[0m\u001b[0;34m(\u001b[0m\u001b[0;34m)\u001b[0m\u001b[0;34m\u001b[0m\u001b[0;34m\u001b[0m\u001b[0m\n\u001b[0m",
            "\u001b[0;31mNameError\u001b[0m: name 'outer' is not defined"
          ]
        }
      ]
    },
    {
      "cell_type": "code",
      "metadata": {
        "id": "tiuYNLgya60M"
      },
      "source": [
        "def outer(f): #2\n",
        "    def inner(): #4\n",
        "        result=f() #5\n",
        "        return result ** 2 # 5**2\n",
        "    return inner #3"
      ],
      "execution_count": null,
      "outputs": []
    },
    {
      "cell_type": "code",
      "metadata": {
        "id": "zGka_gIEa60M"
      },
      "source": [
        "def num():\n",
        "    return 5"
      ],
      "execution_count": null,
      "outputs": []
    },
    {
      "cell_type": "code",
      "metadata": {
        "id": "Bs12U6Yla60M"
      },
      "source": [
        "r = outer(num)"
      ],
      "execution_count": null,
      "outputs": []
    },
    {
      "cell_type": "code",
      "metadata": {
        "id": "VzJFLkS_a60M",
        "outputId": "a5636731-cd6b-417f-9738-c901f4f1029d"
      },
      "source": [
        "r"
      ],
      "execution_count": null,
      "outputs": [
        {
          "data": {
            "text/plain": [
              "<function __main__.outer.<locals>.inner()>"
            ]
          },
          "execution_count": 123,
          "metadata": {},
          "output_type": "execute_result"
        }
      ]
    },
    {
      "cell_type": "code",
      "metadata": {
        "id": "zu6p2lHda60M",
        "outputId": "9d9bb601-3bc3-4aff-8f0f-74e9ae2cb57d"
      },
      "source": [
        "r()"
      ],
      "execution_count": null,
      "outputs": [
        {
          "data": {
            "text/plain": [
              "25"
            ]
          },
          "execution_count": 124,
          "metadata": {},
          "output_type": "execute_result"
        }
      ]
    },
    {
      "cell_type": "code",
      "metadata": {
        "id": "SKhe3hyXa60M"
      },
      "source": [
        "@outer\n",
        "def num():\n",
        "    return 5"
      ],
      "execution_count": null,
      "outputs": []
    },
    {
      "cell_type": "code",
      "metadata": {
        "id": "s9H-HFPsa60M",
        "outputId": "13aa9abc-d9d7-464f-e905-561a0b82799b"
      },
      "source": [
        "num()"
      ],
      "execution_count": null,
      "outputs": [
        {
          "data": {
            "text/plain": [
              "25"
            ]
          },
          "execution_count": 126,
          "metadata": {},
          "output_type": "execute_result"
        }
      ]
    },
    {
      "cell_type": "code",
      "metadata": {
        "id": "9iZW5YWTa60N"
      },
      "source": [
        "def outer(f):\n",
        "    def inner(n1,n2):\n",
        "        result = f(n1,n2)\n",
        "        return result **2\n",
        "    return inner"
      ],
      "execution_count": null,
      "outputs": []
    },
    {
      "cell_type": "code",
      "metadata": {
        "id": "GtT3CTZZa60N"
      },
      "source": [
        ""
      ],
      "execution_count": null,
      "outputs": []
    },
    {
      "cell_type": "code",
      "metadata": {
        "id": "gz6JR03Va60N"
      },
      "source": [
        "@outer\n",
        "def num(n1,n2):\n",
        "    return n1+n2+5"
      ],
      "execution_count": null,
      "outputs": []
    },
    {
      "cell_type": "code",
      "metadata": {
        "id": "aEkzEkpTa60N"
      },
      "source": [
        ""
      ],
      "execution_count": null,
      "outputs": []
    },
    {
      "cell_type": "code",
      "metadata": {
        "id": "4bKY6rUpa60N",
        "outputId": "410b6ee1-f943-4e1b-d8b8-886b0f889bb2"
      },
      "source": [
        "num(19,4)"
      ],
      "execution_count": null,
      "outputs": [
        {
          "data": {
            "text/plain": [
              "784"
            ]
          },
          "execution_count": 131,
          "metadata": {},
          "output_type": "execute_result"
        }
      ]
    },
    {
      "cell_type": "code",
      "metadata": {
        "id": "UkCb_z6ka60N"
      },
      "source": [
        "def validate(func):\n",
        "    def validator(*args, **kwargs):\n",
        "        if len(args)>1:\n",
        "            if args[1] ==0:\n",
        "                print(\"we are expecting non zero number\")\n",
        "                return None\n",
        "            else:\n",
        "                power = func(args[0], args[1])\n",
        "                return power\n",
        "            \n",
        "        else:\n",
        "            print('invlid args')\n",
        "    return validator"
      ],
      "execution_count": null,
      "outputs": []
    },
    {
      "cell_type": "code",
      "metadata": {
        "id": "o19hu1KNa60N"
      },
      "source": [
        ""
      ],
      "execution_count": null,
      "outputs": []
    },
    {
      "cell_type": "code",
      "metadata": {
        "id": "CElGkL_Ea60N"
      },
      "source": [
        "import math"
      ],
      "execution_count": null,
      "outputs": []
    },
    {
      "cell_type": "code",
      "metadata": {
        "id": "SpkYTPMBa60N"
      },
      "source": [
        ""
      ],
      "execution_count": null,
      "outputs": []
    },
    {
      "cell_type": "code",
      "metadata": {
        "id": "ZXmpjL9wa60N"
      },
      "source": [
        "@validate\n",
        "def mypower(x, y):\n",
        "    return math.pow(x,y)"
      ],
      "execution_count": null,
      "outputs": []
    },
    {
      "cell_type": "code",
      "metadata": {
        "id": "jGo5cQaLa60N",
        "outputId": "a482b6a0-2446-4457-fd37-cb5546cf1c11"
      },
      "source": [
        "mypower(10,2)"
      ],
      "execution_count": null,
      "outputs": [
        {
          "data": {
            "text/plain": [
              "100.0"
            ]
          },
          "execution_count": 143,
          "metadata": {},
          "output_type": "execute_result"
        }
      ]
    },
    {
      "cell_type": "code",
      "metadata": {
        "id": "A3-qR4VOa60N"
      },
      "source": [
        ""
      ],
      "execution_count": null,
      "outputs": []
    },
    {
      "cell_type": "code",
      "metadata": {
        "id": "WPydBJlSa60O"
      },
      "source": [
        ""
      ],
      "execution_count": null,
      "outputs": []
    },
    {
      "cell_type": "code",
      "metadata": {
        "id": "X1PpjVxUa60O",
        "outputId": "dbf22a13-0d4a-479b-8646-fd4eb737b92c"
      },
      "source": [
        "mypower(10,0)"
      ],
      "execution_count": null,
      "outputs": [
        {
          "name": "stdout",
          "output_type": "stream",
          "text": [
            "we are expecting non zero number\n"
          ]
        }
      ]
    },
    {
      "cell_type": "code",
      "metadata": {
        "id": "F9YByc58a60O"
      },
      "source": [
        ""
      ],
      "execution_count": null,
      "outputs": []
    },
    {
      "cell_type": "code",
      "metadata": {
        "id": "5BVg1zOMa60O"
      },
      "source": [
        ""
      ],
      "execution_count": null,
      "outputs": []
    },
    {
      "cell_type": "code",
      "metadata": {
        "id": "anLwvVk4a60O",
        "outputId": "31825176-5a6d-40ae-f54d-3f9dbe3c87f2"
      },
      "source": [
        ""
      ],
      "execution_count": null,
      "outputs": [
        {
          "ename": "TypeError",
          "evalue": "'NoneType' object is not callable",
          "output_type": "error",
          "traceback": [
            "\u001b[0;31m---------------------------------------------------------------------------\u001b[0m",
            "\u001b[0;31mTypeError\u001b[0m                                 Traceback (most recent call last)",
            "\u001b[0;32m<ipython-input-135-100918bae16c>\u001b[0m in \u001b[0;36m<module>\u001b[0;34m\u001b[0m\n\u001b[0;32m----> 1\u001b[0;31m \u001b[0mmypower\u001b[0m\u001b[0;34m(\u001b[0m\u001b[0;36m10\u001b[0m\u001b[0;34m,\u001b[0m\u001b[0;36m0\u001b[0m\u001b[0;34m)\u001b[0m\u001b[0;34m\u001b[0m\u001b[0;34m\u001b[0m\u001b[0m\n\u001b[0m",
            "\u001b[0;31mTypeError\u001b[0m: 'NoneType' object is not callable"
          ]
        }
      ]
    },
    {
      "cell_type": "code",
      "metadata": {
        "id": "BUjqmi7ea60O",
        "outputId": "630133b1-12e1-4d7e-f566-fdf36ee28619"
      },
      "source": [
        "list_1 = [1,2,3,4,5,6,7,8,89,10]\n",
        "list(filter(lambda x: x%2==0, list_1))"
      ],
      "execution_count": null,
      "outputs": [
        {
          "data": {
            "text/plain": [
              "[2, 4, 6, 8, 10]"
            ]
          },
          "execution_count": 2,
          "metadata": {},
          "output_type": "execute_result"
        }
      ]
    },
    {
      "cell_type": "code",
      "metadata": {
        "id": "NOIqmAsBa60O",
        "outputId": "8f2ce61f-c01d-42cf-ec41-14a96aafdef4"
      },
      "source": [
        "list_1 = [1,2,3,4,5,6,7,8,9]\n",
        "list(map(lambda x: pow(x,3), list_1))"
      ],
      "execution_count": null,
      "outputs": [
        {
          "data": {
            "text/plain": [
              "[1, 8, 27, 64, 125, 216, 343, 512, 729]"
            ]
          },
          "execution_count": 3,
          "metadata": {},
          "output_type": "execute_result"
        }
      ]
    },
    {
      "cell_type": "code",
      "metadata": {
        "id": "zdscoe6Ua60O"
      },
      "source": [
        "# general purpose decorators\n",
        "\n",
        "def a_decorator_passing_arbitary_arguments(function_to_decorate):\n",
        "    \n",
        "    def a_wrapper_accepting_arbitary_arguments(*args, **kwargs):\n",
        "        print(\"The positionla arguments are\", args)\n",
        "        print(\"The keyword arguments are\", kwargs)\n",
        "        function_to_decorate(*args)\n",
        "        \n",
        "    return a_wrapper_accepting_arbitary_arguments\n",
        "\n",
        "\n",
        "\n",
        "@a_decorator_passing_arbitary_arguments\n",
        "def function_with_no_arguments():\n",
        "    print(\"No arguments here.....\")\n",
        "\n"
      ],
      "execution_count": null,
      "outputs": []
    },
    {
      "cell_type": "code",
      "metadata": {
        "id": "xCRD4wKfa60O",
        "outputId": "92c1274a-23a3-426e-dad3-e6a0cbef4eaa"
      },
      "source": [
        "function_with_no_arguments()"
      ],
      "execution_count": null,
      "outputs": [
        {
          "name": "stdout",
          "output_type": "stream",
          "text": [
            "The positionla arguments are ()\n",
            "The keyword arguments are {}\n",
            "No arguments here.....\n"
          ]
        }
      ]
    },
    {
      "cell_type": "code",
      "metadata": {
        "id": "Wq_-qM9Za60P",
        "outputId": "f0dfe6c0-4aef-4772-c05a-60512b6cc36d"
      },
      "source": [
        "# Passing positional arguments to decorators\n",
        "def accept_the_arguments(function_to_decorator):\n",
        "    def inner_function(*args, **kwargs):\n",
        "        print(\"Positional arguments are\", args)\n",
        "        print(\"The keyword arguments are\", kwargs)\n",
        "        function_to_decorator(*args)\n",
        "    return inner_function\n",
        "\n",
        "@accept_the_arguments\n",
        "def function_with_args(a, b, c):\n",
        "    print(a, b, c)\n",
        "\n",
        "function_with_args(10,20,30)"
      ],
      "execution_count": null,
      "outputs": [
        {
          "name": "stdout",
          "output_type": "stream",
          "text": [
            "Positional arguments are (10, 20, 30)\n",
            "The keyword arguments are {}\n",
            "10 20 30\n"
          ]
        }
      ]
    },
    {
      "cell_type": "code",
      "metadata": {
        "id": "cLH-eXnba60P"
      },
      "source": [
        "# general purpose decorators\n",
        "\n",
        "def a_decorator_passing_arbitary_arguments(function_to_decorate):\n",
        "    \n",
        "    def a_wrapper_accepting_arbitary_arguments(*args, **kwargs):\n",
        "        print(\"The positionla arguments are\", args)\n",
        "        print(\"The keyword arguments are\", kwargs)\n",
        "        function_to_decorate(*args)\n",
        "        \n",
        "    return a_wrapper_accepting_arbitary_arguments\n",
        "\n",
        "\n",
        "\n",
        "@a_decorator_passing_arbitary_arguments\n",
        "def function_with_no_arguments():\n",
        "    print(\"No arguments here.....\")\n",
        "\n"
      ],
      "execution_count": null,
      "outputs": []
    },
    {
      "cell_type": "code",
      "metadata": {
        "id": "zqV-tfvoa60P"
      },
      "source": [
        "# passing kwargs based arguments\n",
        "\n",
        "def accepting_kwargs(function_to_decorator):\n",
        "    def inner_function(*args, **kwargs):\n",
        "        print(\"args values\", args)\n",
        "        print(\"positional args\", kwargs)\n",
        "        # custom logic based functions_with_args\n",
        "        function_to_decorator(*args,**kwargs)\n",
        "    return inner_function\n",
        "\n",
        "\n",
        "@accepting_kwargs\n",
        "def functions_with_args(*args, **kwargs):\n",
        "    print(\"Inside functions args\", args)\n",
        "    print(\"kwargs...\", kwargs)"
      ],
      "execution_count": null,
      "outputs": []
    },
    {
      "cell_type": "code",
      "metadata": {
        "id": "HfFPtxtva60P",
        "outputId": "ca3f48bb-21e1-4938-c502-574de0ad6573"
      },
      "source": [
        "functions_with_args(1,2, name=\"onkar\", address=\"pune\")"
      ],
      "execution_count": null,
      "outputs": [
        {
          "name": "stdout",
          "output_type": "stream",
          "text": [
            "args values (1, 2)\n",
            "positional args {'name': 'onkar', 'address': 'pune'}\n",
            "Inside functions args (1, 2)\n",
            "kwargs... {'name': 'onkar', 'address': 'pune'}\n"
          ]
        }
      ]
    },
    {
      "cell_type": "code",
      "metadata": {
        "id": "vKpxDwISa60P"
      },
      "source": [
        ""
      ],
      "execution_count": null,
      "outputs": []
    },
    {
      "cell_type": "code",
      "metadata": {
        "id": "l86fBw8Ya60P",
        "outputId": "e00b1082-78b2-445b-ea2a-fe2020e0c791"
      },
      "source": [
        "functions_with_args(1,2, name=\"onkar\", address=\"pune\")"
      ],
      "execution_count": null,
      "outputs": [
        {
          "name": "stdout",
          "output_type": "stream",
          "text": [
            "args values (1, 2)\n",
            "positional args {'name': 'onkar', 'address': 'pune'}\n",
            "Inside functions args ((1, 2), {'name': 'onkar', 'address': 'pune'})\n",
            "kwargs... {}\n"
          ]
        }
      ]
    },
    {
      "cell_type": "code",
      "metadata": {
        "id": "Ae-4_69ga60P"
      },
      "source": [
        ""
      ],
      "execution_count": null,
      "outputs": []
    },
    {
      "cell_type": "code",
      "metadata": {
        "id": "RLD0UYR9a60P",
        "outputId": "1843efb9-c756-4781-8aab-c993405f2eff"
      },
      "source": [
        "functions_with_args(1,2, name=\"onkar\", address=\"pune\")"
      ],
      "execution_count": null,
      "outputs": [
        {
          "name": "stdout",
          "output_type": "stream",
          "text": [
            "args values (1, 2)\n",
            "positional args {'name': 'onkar', 'address': 'pune'}\n"
          ]
        },
        {
          "ename": "NameError",
          "evalue": "name 'a' is not defined",
          "output_type": "error",
          "traceback": [
            "\u001b[0;31m---------------------------------------------------------------------------\u001b[0m",
            "\u001b[0;31mNameError\u001b[0m                                 Traceback (most recent call last)",
            "\u001b[0;32m<ipython-input-15-f35937766789>\u001b[0m in \u001b[0;36m<module>\u001b[0;34m\u001b[0m\n\u001b[0;32m----> 1\u001b[0;31m \u001b[0mfunctions_with_args\u001b[0m\u001b[0;34m(\u001b[0m\u001b[0;36m1\u001b[0m\u001b[0;34m,\u001b[0m\u001b[0;36m2\u001b[0m\u001b[0;34m,\u001b[0m \u001b[0mname\u001b[0m\u001b[0;34m=\u001b[0m\u001b[0;34m\"onkar\"\u001b[0m\u001b[0;34m,\u001b[0m \u001b[0maddress\u001b[0m\u001b[0;34m=\u001b[0m\u001b[0;34m\"pune\"\u001b[0m\u001b[0;34m)\u001b[0m\u001b[0;34m\u001b[0m\u001b[0;34m\u001b[0m\u001b[0m\n\u001b[0m",
            "\u001b[0;32m<ipython-input-14-899b8a35c72c>\u001b[0m in \u001b[0;36minner_function\u001b[0;34m(*args, **kwargs)\u001b[0m\n\u001b[1;32m      6\u001b[0m         \u001b[0mprint\u001b[0m\u001b[0;34m(\u001b[0m\u001b[0;34m\"positional args\"\u001b[0m\u001b[0;34m,\u001b[0m \u001b[0mkwargs\u001b[0m\u001b[0;34m)\u001b[0m\u001b[0;34m\u001b[0m\u001b[0;34m\u001b[0m\u001b[0m\n\u001b[1;32m      7\u001b[0m         \u001b[0;31m# custom logic based functions_with_args\u001b[0m\u001b[0;34m\u001b[0m\u001b[0;34m\u001b[0m\u001b[0;34m\u001b[0m\u001b[0m\n\u001b[0;32m----> 8\u001b[0;31m         \u001b[0mfunction_to_decorator\u001b[0m\u001b[0;34m(\u001b[0m\u001b[0margs\u001b[0m\u001b[0;34m,\u001b[0m\u001b[0mkwargs\u001b[0m\u001b[0;34m)\u001b[0m\u001b[0;34m\u001b[0m\u001b[0;34m\u001b[0m\u001b[0m\n\u001b[0m\u001b[1;32m      9\u001b[0m     \u001b[0;32mreturn\u001b[0m \u001b[0minner_function\u001b[0m\u001b[0;34m\u001b[0m\u001b[0;34m\u001b[0m\u001b[0m\n\u001b[1;32m     10\u001b[0m \u001b[0;34m\u001b[0m\u001b[0m\n",
            "\u001b[0;32m<ipython-input-14-899b8a35c72c>\u001b[0m in \u001b[0;36mfunctions_with_args\u001b[0;34m(*args, **kwargs)\u001b[0m\n\u001b[1;32m     12\u001b[0m \u001b[0;34m@\u001b[0m\u001b[0maccepting_kwargs\u001b[0m\u001b[0;34m\u001b[0m\u001b[0;34m\u001b[0m\u001b[0m\n\u001b[1;32m     13\u001b[0m \u001b[0;32mdef\u001b[0m \u001b[0mfunctions_with_args\u001b[0m\u001b[0;34m(\u001b[0m\u001b[0;34m*\u001b[0m\u001b[0margs\u001b[0m\u001b[0;34m,\u001b[0m \u001b[0;34m**\u001b[0m\u001b[0mkwargs\u001b[0m\u001b[0;34m)\u001b[0m\u001b[0;34m:\u001b[0m\u001b[0;34m\u001b[0m\u001b[0;34m\u001b[0m\u001b[0m\n\u001b[0;32m---> 14\u001b[0;31m     \u001b[0mprint\u001b[0m\u001b[0;34m(\u001b[0m\u001b[0;34m\"Inside functions args\"\u001b[0m\u001b[0;34m,\u001b[0m \u001b[0ma\u001b[0m\u001b[0;34m,\u001b[0m\u001b[0mb\u001b[0m\u001b[0;34m)\u001b[0m\u001b[0;34m\u001b[0m\u001b[0;34m\u001b[0m\u001b[0m\n\u001b[0m\u001b[1;32m     15\u001b[0m     \u001b[0mprint\u001b[0m\u001b[0;34m(\u001b[0m\u001b[0;34m\"kwargs...\"\u001b[0m\u001b[0;34m,\u001b[0m \u001b[0mkwargs\u001b[0m\u001b[0;34m)\u001b[0m\u001b[0;34m\u001b[0m\u001b[0;34m\u001b[0m\u001b[0m\n",
            "\u001b[0;31mNameError\u001b[0m: name 'a' is not defined"
          ]
        }
      ]
    },
    {
      "cell_type": "code",
      "metadata": {
        "id": "lZ_tChIqa60P"
      },
      "source": [
        ""
      ],
      "execution_count": null,
      "outputs": []
    },
    {
      "cell_type": "code",
      "metadata": {
        "id": "6haqfC6Va60P"
      },
      "source": [
        ""
      ],
      "execution_count": null,
      "outputs": []
    },
    {
      "cell_type": "code",
      "metadata": {
        "id": "rWEh0l7Ea60Q"
      },
      "source": [
        ""
      ],
      "execution_count": null,
      "outputs": []
    },
    {
      "cell_type": "code",
      "metadata": {
        "id": "eGqK3wu_a60Q",
        "outputId": "521f36d4-90a5-4751-8484-518949afab53"
      },
      "source": [
        "functions_with_args(1,2, name=\"onkar\", address=\"pune\")"
      ],
      "execution_count": null,
      "outputs": [
        {
          "name": "stdout",
          "output_type": "stream",
          "text": [
            "args values (1, 2)\n",
            "positional args {'name': 'onkar', 'address': 'pune'}\n"
          ]
        },
        {
          "ename": "TypeError",
          "evalue": "functions_with_args() takes 2 positional arguments but 3 were given",
          "output_type": "error",
          "traceback": [
            "\u001b[0;31m---------------------------------------------------------------------------\u001b[0m",
            "\u001b[0;31mTypeError\u001b[0m                                 Traceback (most recent call last)",
            "\u001b[0;32m<ipython-input-13-f35937766789>\u001b[0m in \u001b[0;36m<module>\u001b[0;34m\u001b[0m\n\u001b[0;32m----> 1\u001b[0;31m \u001b[0mfunctions_with_args\u001b[0m\u001b[0;34m(\u001b[0m\u001b[0;36m1\u001b[0m\u001b[0;34m,\u001b[0m\u001b[0;36m2\u001b[0m\u001b[0;34m,\u001b[0m \u001b[0mname\u001b[0m\u001b[0;34m=\u001b[0m\u001b[0;34m\"onkar\"\u001b[0m\u001b[0;34m,\u001b[0m \u001b[0maddress\u001b[0m\u001b[0;34m=\u001b[0m\u001b[0;34m\"pune\"\u001b[0m\u001b[0;34m)\u001b[0m\u001b[0;34m\u001b[0m\u001b[0;34m\u001b[0m\u001b[0m\n\u001b[0m",
            "\u001b[0;32m<ipython-input-11-a05dd61746e0>\u001b[0m in \u001b[0;36minner_function\u001b[0;34m(*args, **kwargs)\u001b[0m\n\u001b[1;32m      6\u001b[0m         \u001b[0mprint\u001b[0m\u001b[0;34m(\u001b[0m\u001b[0;34m\"positional args\"\u001b[0m\u001b[0;34m,\u001b[0m \u001b[0mkwargs\u001b[0m\u001b[0;34m)\u001b[0m\u001b[0;34m\u001b[0m\u001b[0;34m\u001b[0m\u001b[0m\n\u001b[1;32m      7\u001b[0m         \u001b[0;31m# custom logic based functions_with_args\u001b[0m\u001b[0;34m\u001b[0m\u001b[0;34m\u001b[0m\u001b[0;34m\u001b[0m\u001b[0m\n\u001b[0;32m----> 8\u001b[0;31m         \u001b[0mfunction_to_decorator\u001b[0m\u001b[0;34m(\u001b[0m\u001b[0margs\u001b[0m\u001b[0;34m[\u001b[0m\u001b[0;36m0\u001b[0m\u001b[0;34m]\u001b[0m\u001b[0;34m,\u001b[0m\u001b[0margs\u001b[0m\u001b[0;34m[\u001b[0m\u001b[0;36m1\u001b[0m\u001b[0;34m]\u001b[0m\u001b[0;34m,\u001b[0m\u001b[0mkwargs\u001b[0m\u001b[0;34m)\u001b[0m\u001b[0;34m\u001b[0m\u001b[0;34m\u001b[0m\u001b[0m\n\u001b[0m\u001b[1;32m      9\u001b[0m     \u001b[0;32mreturn\u001b[0m \u001b[0minner_function\u001b[0m\u001b[0;34m\u001b[0m\u001b[0;34m\u001b[0m\u001b[0m\n\u001b[1;32m     10\u001b[0m \u001b[0;34m\u001b[0m\u001b[0m\n",
            "\u001b[0;31mTypeError\u001b[0m: functions_with_args() takes 2 positional arguments but 3 were given"
          ]
        }
      ]
    },
    {
      "cell_type": "code",
      "metadata": {
        "id": "ZxVuZ_ewa60Q"
      },
      "source": [
        "# passing argument to decorator \n",
        "\n",
        "def decorator_with_args(decorator_args1, decorator_args2, decorator_args3):\n",
        "    \n",
        "    def decoator(func):\n",
        "        def wrapper(function_args1, function_args2, function_args3):\n",
        "            print(\"The wrapper can access all the variables\\n\"\n",
        "                   \"\\t from the decorator maker:{0} {1} {2}\\n\"\n",
        "                  \"\\t from the function call:{3} {4} {5}\\n\"\n",
        "                  \"and pass them into decorator function\".format(decorator_args1, decorator_args2,\n",
        "                                                                 decorator_args3, \n",
        "                                                                 function_args1, \n",
        "                                                                 function_args2,\n",
        "                                                                 function_args3\n",
        "                                                                ))\n",
        "            return func(function_args1,function_args2,  function_args3)\n",
        "        return wrapper\n",
        "    return decoator            \n",
        "\n",
        "pandas = \"Pandas\"\n",
        "@decorator_with_args(pandas, \"Numpy\", \"Sciki-learn\")\n",
        "def actual_function(function_args1, function_args2, function_args3):\n",
        "    print(\"This is decorated function and it only knows about its args:{0}, {1}, {2}\".format(\n",
        "    function_args1, function_args2, function_args3))\n",
        "    \n"
      ],
      "execution_count": null,
      "outputs": []
    },
    {
      "cell_type": "code",
      "metadata": {
        "id": "1vmHvAGla60Q",
        "outputId": "f312f2c3-3378-4430-ed91-8c951a5de093"
      },
      "source": [
        "actual_function(\"John\", \"Science\", \"Tools\")"
      ],
      "execution_count": null,
      "outputs": [
        {
          "name": "stdout",
          "output_type": "stream",
          "text": [
            "The wrapper can access all the variables\n",
            "\t from the decorator maker:Pandas Numpy Sciki-learn\n",
            "\t from the function call:John Science Tools\n",
            "and pass them into decorator function\n",
            "This is decorated function and it only knows about its args:John, Science, Tools\n"
          ]
        }
      ]
    },
    {
      "cell_type": "code",
      "metadata": {
        "id": "yc8A2xWva60Q"
      },
      "source": [
        ""
      ],
      "execution_count": null,
      "outputs": []
    },
    {
      "cell_type": "code",
      "metadata": {
        "id": "pfxI1N45a60Q"
      },
      "source": [
        "actual_function(\"John\", \"Science\", \"Tools\")"
      ],
      "execution_count": null,
      "outputs": []
    },
    {
      "cell_type": "code",
      "metadata": {
        "id": "0jegwGN0a60Q"
      },
      "source": [
        "# Assignment 1:\n",
        "# Write a python pgm using functions and loop to count number of digit in a number\n",
        "\n",
        "\n",
        "# Please post your solutions in chat"
      ],
      "execution_count": null,
      "outputs": []
    },
    {
      "cell_type": "code",
      "metadata": {
        "id": "RvFsP1ZVa60Q"
      },
      "source": [
        "def count_number(n):\n",
        "    count=0\n",
        "    while(n>0):\n",
        "        count=count+1\n",
        "        n=n//10\n",
        "    print(\"The number of digits in the number are:\" ,count)"
      ],
      "execution_count": null,
      "outputs": []
    },
    {
      "cell_type": "code",
      "metadata": {
        "id": "2dSGezapa60Q",
        "outputId": "40c4057a-367f-485a-d0d4-60de7ec6746b"
      },
      "source": [
        "n = int(input(\"Number\"))\n",
        "count_number(n)"
      ],
      "execution_count": null,
      "outputs": [
        {
          "name": "stdout",
          "output_type": "stream",
          "text": [
            "Number10\n",
            "The number of digits in the number are: 2\n"
          ]
        }
      ]
    },
    {
      "cell_type": "code",
      "metadata": {
        "id": "mQ7kNoUFa60Q"
      },
      "source": [
        "# a feature -> b feature -> c features"
      ],
      "execution_count": null,
      "outputs": []
    },
    {
      "cell_type": "code",
      "metadata": {
        "id": "IENp1XWXa60R"
      },
      "source": [
        "\n",
        "# code for testing decorator chaining\n",
        "\n",
        "\n",
        "def decor1(func):\n",
        "    def inner():\n",
        "        x = func()\n",
        "        print(\"X in decor2\", x)\n",
        "        return x*x # logic doing mul\n",
        "    return inner\n",
        "\n",
        "def decor(func):\n",
        "    def inner():\n",
        "        x = func()\n",
        "        print(\"X in decor 1st...\", x)\n",
        "        return 2*x # multiply with 2\n",
        "    return inner\n",
        "    \n",
        "@decor1\n",
        "@decor\n",
        "def num():\n",
        "    return 10\n"
      ],
      "execution_count": null,
      "outputs": []
    },
    {
      "cell_type": "code",
      "metadata": {
        "id": "gK04Wk2qa60R",
        "outputId": "46e59833-3be0-4d03-a0ba-beddd51484c8"
      },
      "source": [
        "num()"
      ],
      "execution_count": null,
      "outputs": [
        {
          "name": "stdout",
          "output_type": "stream",
          "text": [
            "X in decor 1st... 10\n",
            "X in decor2 20\n"
          ]
        },
        {
          "data": {
            "text/plain": [
              "400"
            ]
          },
          "execution_count": 31,
          "metadata": {},
          "output_type": "execute_result"
        }
      ]
    },
    {
      "cell_type": "code",
      "metadata": {
        "id": "4RVCqeRKa60R",
        "outputId": "da158546-80d9-4103-a336-d91f16770a81"
      },
      "source": [
        "def simple_func(): #define \n",
        "    print(\"hi\")  # logic 1\n",
        "    print('hello') # 2\n",
        "    return 'hello' # 3 manuplution\n",
        "                   # return computed \n",
        "                    # logic ....\n",
        "                \n",
        "simple_func()"
      ],
      "execution_count": null,
      "outputs": [
        {
          "name": "stdout",
          "output_type": "stream",
          "text": [
            "hi\n",
            "hello\n"
          ]
        },
        {
          "data": {
            "text/plain": [
              "'hello'"
            ]
          },
          "execution_count": 33,
          "metadata": {},
          "output_type": "execute_result"
        }
      ]
    },
    {
      "cell_type": "code",
      "metadata": {
        "id": "PRAjR3YIa60R",
        "outputId": "c3c7b1e8-4729-472f-87e9-59dee374e87c"
      },
      "source": [
        "type(simple_func)"
      ],
      "execution_count": null,
      "outputs": [
        {
          "data": {
            "text/plain": [
              "function"
            ]
          },
          "execution_count": 36,
          "metadata": {},
          "output_type": "execute_result"
        }
      ]
    },
    {
      "cell_type": "code",
      "metadata": {
        "id": "Tt1mSMupa60R"
      },
      "source": [
        "def simple_generator():\n",
        "    print(\"hi\")\n",
        "    yield 'hello'\n",
        "    x = 10\n",
        "    y = x +5\n",
        "    print(y)\n",
        "    yield \"hello world\"\n",
        "    yield x"
      ],
      "execution_count": null,
      "outputs": []
    },
    {
      "cell_type": "code",
      "metadata": {
        "id": "UGhFLC87a60R",
        "outputId": "2b7d8e14-6748-4b12-f8f0-eab544a21cf7"
      },
      "source": [
        "ret = simple_generator()\n",
        "ret"
      ],
      "execution_count": null,
      "outputs": [
        {
          "data": {
            "text/plain": [
              "<generator object simple_generator at 0x7f82d4847ac0>"
            ]
          },
          "execution_count": 44,
          "metadata": {},
          "output_type": "execute_result"
        }
      ]
    },
    {
      "cell_type": "code",
      "metadata": {
        "id": "jgIMvqr5a60R"
      },
      "source": [
        ""
      ],
      "execution_count": null,
      "outputs": []
    },
    {
      "cell_type": "code",
      "metadata": {
        "id": "M91I3dkia60R"
      },
      "source": [
        ""
      ],
      "execution_count": null,
      "outputs": []
    },
    {
      "cell_type": "code",
      "metadata": {
        "id": "sqkn9UQSa60R",
        "outputId": "1695ee46-c1e7-4b84-a3e7-4de7bc62c772"
      },
      "source": [
        "for val in ret:\n",
        "    print(val)"
      ],
      "execution_count": null,
      "outputs": [
        {
          "name": "stdout",
          "output_type": "stream",
          "text": [
            "hi\n",
            "hello\n",
            "15\n",
            "hello world\n",
            "10\n"
          ]
        }
      ]
    },
    {
      "cell_type": "code",
      "metadata": {
        "id": "dgskKVU2a60S",
        "outputId": "e7e7de42-64df-4776-f142-0eb086ad6433"
      },
      "source": [
        "list(ret)"
      ],
      "execution_count": null,
      "outputs": [
        {
          "name": "stdout",
          "output_type": "stream",
          "text": [
            "hi\n",
            "15\n"
          ]
        },
        {
          "data": {
            "text/plain": [
              "['hello', 'hello world', 10]"
            ]
          },
          "execution_count": 43,
          "metadata": {},
          "output_type": "execute_result"
        }
      ]
    },
    {
      "cell_type": "code",
      "metadata": {
        "id": "3hgHkF0Fa60S",
        "outputId": "8ea8efbc-a85a-4b62-dec2-fd84e58e84b2"
      },
      "source": [
        "next(ret)"
      ],
      "execution_count": null,
      "outputs": [
        {
          "name": "stdout",
          "output_type": "stream",
          "text": [
            "hi\n"
          ]
        },
        {
          "data": {
            "text/plain": [
              "'hello'"
            ]
          },
          "execution_count": 45,
          "metadata": {},
          "output_type": "execute_result"
        }
      ]
    },
    {
      "cell_type": "code",
      "metadata": {
        "id": "fznCIxFqa60S",
        "outputId": "e5639d23-e5d7-4b94-b7f5-61acc9506b1d"
      },
      "source": [
        "next(ret)"
      ],
      "execution_count": null,
      "outputs": [
        {
          "name": "stdout",
          "output_type": "stream",
          "text": [
            "15\n"
          ]
        },
        {
          "data": {
            "text/plain": [
              "'hello world'"
            ]
          },
          "execution_count": 46,
          "metadata": {},
          "output_type": "execute_result"
        }
      ]
    },
    {
      "cell_type": "code",
      "metadata": {
        "id": "kGCKreuda60S",
        "outputId": "537234c5-adb1-4f21-b830-708454034a1f"
      },
      "source": [
        "next(ret)"
      ],
      "execution_count": null,
      "outputs": [
        {
          "data": {
            "text/plain": [
              "10"
            ]
          },
          "execution_count": 47,
          "metadata": {},
          "output_type": "execute_result"
        }
      ]
    },
    {
      "cell_type": "code",
      "metadata": {
        "id": "g5lAjsxLa60S",
        "outputId": "cbd25cb5-aad8-41ee-ab34-ca7fbf054ee4"
      },
      "source": [
        "next(ret)"
      ],
      "execution_count": null,
      "outputs": [
        {
          "ename": "StopIteration",
          "evalue": "",
          "output_type": "error",
          "traceback": [
            "\u001b[0;31m---------------------------------------------------------------------------\u001b[0m",
            "\u001b[0;31mStopIteration\u001b[0m                             Traceback (most recent call last)",
            "\u001b[0;32m<ipython-input-48-2216548e65ed>\u001b[0m in \u001b[0;36m<module>\u001b[0;34m\u001b[0m\n\u001b[0;32m----> 1\u001b[0;31m \u001b[0mnext\u001b[0m\u001b[0;34m(\u001b[0m\u001b[0mret\u001b[0m\u001b[0;34m)\u001b[0m\u001b[0;34m\u001b[0m\u001b[0;34m\u001b[0m\u001b[0m\n\u001b[0m",
            "\u001b[0;31mStopIteration\u001b[0m: "
          ]
        }
      ]
    },
    {
      "cell_type": "code",
      "metadata": {
        "id": "_6fPRvkoa60S"
      },
      "source": [
        "def fib(n):\n",
        "    numbers = []\n",
        "    first, second = 0,1\n",
        "    while first < n:\n",
        "        numbers.append(first)\n",
        "        first, second =  second, first+second\n",
        "    print(numbers)\n",
        "        "
      ],
      "execution_count": null,
      "outputs": []
    },
    {
      "cell_type": "code",
      "metadata": {
        "id": "JpXzkQZsa60S",
        "outputId": "60b3af72-8726-4a6c-b2bc-fa89f4d33497"
      },
      "source": [
        "fib(100000000000000)"
      ],
      "execution_count": null,
      "outputs": [
        {
          "name": "stdout",
          "output_type": "stream",
          "text": [
            "[0, 1, 1, 2, 3, 5, 8, 13, 21, 34, 55, 89, 144, 233, 377, 610, 987, 1597, 2584, 4181, 6765, 10946, 17711, 28657, 46368, 75025, 121393, 196418, 317811, 514229, 832040, 1346269, 2178309, 3524578, 5702887, 9227465, 14930352, 24157817, 39088169, 63245986, 102334155, 165580141, 267914296, 433494437, 701408733, 1134903170, 1836311903, 2971215073, 4807526976, 7778742049, 12586269025, 20365011074, 32951280099, 53316291173, 86267571272, 139583862445, 225851433717, 365435296162, 591286729879, 956722026041, 1548008755920, 2504730781961, 4052739537881, 6557470319842, 10610209857723, 17167680177565, 27777890035288, 44945570212853, 72723460248141]\n"
          ]
        }
      ]
    },
    {
      "cell_type": "code",
      "metadata": {
        "id": "y7_j1VHsa60T"
      },
      "source": [
        "def fib(n):\n",
        "    first, second = 0,1\n",
        "    while n:\n",
        "        yield first\n",
        "        first, second = second, first+second\n",
        "        n -=1"
      ],
      "execution_count": null,
      "outputs": []
    },
    {
      "cell_type": "code",
      "metadata": {
        "id": "RvriabQqa60T"
      },
      "source": [
        "ret = fib(50)"
      ],
      "execution_count": null,
      "outputs": []
    },
    {
      "cell_type": "code",
      "metadata": {
        "id": "6KO137-Va60T",
        "outputId": "3800c72e-6f47-4990-f362-57f75b903c15"
      },
      "source": [
        "ret"
      ],
      "execution_count": null,
      "outputs": [
        {
          "data": {
            "text/plain": [
              "<generator object fib at 0x7f82d48354a0>"
            ]
          },
          "execution_count": 54,
          "metadata": {},
          "output_type": "execute_result"
        }
      ]
    },
    {
      "cell_type": "code",
      "metadata": {
        "id": "LNxyVCnpa60T",
        "outputId": "24fb611d-e290-45f4-864c-8b80518b7dfd"
      },
      "source": [
        "next(ret)"
      ],
      "execution_count": null,
      "outputs": [
        {
          "data": {
            "text/plain": [
              "0"
            ]
          },
          "execution_count": 55,
          "metadata": {},
          "output_type": "execute_result"
        }
      ]
    },
    {
      "cell_type": "code",
      "metadata": {
        "id": "oBLboQlna60T",
        "outputId": "696b551f-2025-4073-cd50-294b2fe40880"
      },
      "source": [
        "next(ret)"
      ],
      "execution_count": null,
      "outputs": [
        {
          "data": {
            "text/plain": [
              "1"
            ]
          },
          "execution_count": 56,
          "metadata": {},
          "output_type": "execute_result"
        }
      ]
    },
    {
      "cell_type": "code",
      "metadata": {
        "id": "1oTi8tp5a60T",
        "outputId": "044034e2-b0f5-4157-ec4a-911d49ccd5a3"
      },
      "source": [
        "list(ret)"
      ],
      "execution_count": null,
      "outputs": [
        {
          "data": {
            "text/plain": [
              "[1,\n",
              " 2,\n",
              " 3,\n",
              " 5,\n",
              " 8,\n",
              " 13,\n",
              " 21,\n",
              " 34,\n",
              " 55,\n",
              " 89,\n",
              " 144,\n",
              " 233,\n",
              " 377,\n",
              " 610,\n",
              " 987,\n",
              " 1597,\n",
              " 2584,\n",
              " 4181,\n",
              " 6765,\n",
              " 10946,\n",
              " 17711,\n",
              " 28657,\n",
              " 46368,\n",
              " 75025,\n",
              " 121393,\n",
              " 196418,\n",
              " 317811,\n",
              " 514229,\n",
              " 832040,\n",
              " 1346269,\n",
              " 2178309,\n",
              " 3524578,\n",
              " 5702887,\n",
              " 9227465,\n",
              " 14930352,\n",
              " 24157817,\n",
              " 39088169,\n",
              " 63245986,\n",
              " 102334155,\n",
              " 165580141,\n",
              " 267914296,\n",
              " 433494437,\n",
              " 701408733,\n",
              " 1134903170,\n",
              " 1836311903,\n",
              " 2971215073,\n",
              " 4807526976,\n",
              " 7778742049]"
            ]
          },
          "execution_count": 57,
          "metadata": {},
          "output_type": "execute_result"
        }
      ]
    },
    {
      "cell_type": "code",
      "metadata": {
        "id": "bFjZv1b_a60T"
      },
      "source": [
        "import random\n",
        "name = [\"akshay\", \"john\", \"ale\", \"fred\"]\n",
        "designations = [\"mgr\", \"se\", \"sse\", \"admin\", \"hr\", \"fin\"]\n",
        "\n",
        "def people_list():\n",
        "    people = []\n",
        "    for i in range(1000000):\n",
        "        person = {\"id\":i , \"name\":random.choice(name),\n",
        "                  \"designations\": random.choice(designations)}\n",
        "        people.append(person)\n",
        "    return people\n",
        "\n",
        "def people_generator():\n",
        "    for i in range(1000000):\n",
        "        person = {\"id\":i , \"name\":random.choice(name),\n",
        "                  \"designations\": random.choice(designations)}\n",
        "        yield person\n",
        "    "
      ],
      "execution_count": null,
      "outputs": []
    },
    {
      "cell_type": "code",
      "metadata": {
        "id": "GkC4Ciota60T"
      },
      "source": [
        ""
      ],
      "execution_count": null,
      "outputs": []
    },
    {
      "cell_type": "code",
      "metadata": {
        "id": "bMaST1QPa60T",
        "outputId": "139fd37f-1eb9-44a2-c36b-9eb7b38fedb9"
      },
      "source": [
        "p= people_list()\n",
        "p[:2]"
      ],
      "execution_count": null,
      "outputs": [
        {
          "data": {
            "text/plain": [
              "[{'id': 0, 'name': 'john', 'designations': 'fin'},\n",
              " {'id': 1, 'name': 'ale', 'designations': 'mgr'}]"
            ]
          },
          "execution_count": 62,
          "metadata": {},
          "output_type": "execute_result"
        }
      ]
    },
    {
      "cell_type": "code",
      "metadata": {
        "id": "yw9BdqRra60U"
      },
      "source": [
        "ret = people_generator()"
      ],
      "execution_count": null,
      "outputs": []
    },
    {
      "cell_type": "code",
      "metadata": {
        "id": "J-Zp4kOOa60U"
      },
      "source": [
        ""
      ],
      "execution_count": null,
      "outputs": []
    },
    {
      "cell_type": "code",
      "metadata": {
        "id": "CNJj5Hp7a60U",
        "outputId": "6e6f1a93-bfaa-4ff6-ce23-39b1614a9315"
      },
      "source": [
        "ret"
      ],
      "execution_count": null,
      "outputs": [
        {
          "data": {
            "text/plain": [
              "<generator object people_generator at 0x7f82d48357b0>"
            ]
          },
          "execution_count": 68,
          "metadata": {},
          "output_type": "execute_result"
        }
      ]
    },
    {
      "cell_type": "code",
      "metadata": {
        "id": "YGtbi1oWa60U"
      },
      "source": [
        ""
      ],
      "execution_count": null,
      "outputs": []
    },
    {
      "cell_type": "code",
      "metadata": {
        "id": "JRaL9DK_a60U",
        "outputId": "9c153a45-a4a1-48f4-99a7-5a912edaf4b0"
      },
      "source": [
        "next(ret)"
      ],
      "execution_count": null,
      "outputs": [
        {
          "data": {
            "text/plain": [
              "{'id': 0, 'name': 'fred', 'designations': 'fin'}"
            ]
          },
          "execution_count": 69,
          "metadata": {},
          "output_type": "execute_result"
        }
      ]
    },
    {
      "cell_type": "code",
      "metadata": {
        "id": "0Og_kt8la60U"
      },
      "source": [
        ""
      ],
      "execution_count": null,
      "outputs": []
    },
    {
      "cell_type": "code",
      "metadata": {
        "id": "R7b8hRx-a60U"
      },
      "source": [
        ""
      ],
      "execution_count": null,
      "outputs": []
    },
    {
      "cell_type": "code",
      "metadata": {
        "id": "cRGVPE9Oa60U"
      },
      "source": [
        ""
      ],
      "execution_count": null,
      "outputs": []
    },
    {
      "cell_type": "code",
      "metadata": {
        "id": "-09uFO2va60U",
        "outputId": "3bb3b12f-a3a5-478d-e603-0540e0c0575f"
      },
      "source": [
        "p= people_list()\n",
        "p[::2]"
      ],
      "execution_count": null,
      "outputs": [
        {
          "ename": "NameError",
          "evalue": "name 'radom' is not defined",
          "output_type": "error",
          "traceback": [
            "\u001b[0;31m---------------------------------------------------------------------------\u001b[0m",
            "\u001b[0;31mNameError\u001b[0m                                 Traceback (most recent call last)",
            "\u001b[0;32m<ipython-input-59-c6f895b6a31b>\u001b[0m in \u001b[0;36m<module>\u001b[0;34m\u001b[0m\n\u001b[0;32m----> 1\u001b[0;31m \u001b[0mp\u001b[0m\u001b[0;34m=\u001b[0m \u001b[0mpeople_list\u001b[0m\u001b[0;34m(\u001b[0m\u001b[0;34m)\u001b[0m\u001b[0;34m\u001b[0m\u001b[0;34m\u001b[0m\u001b[0m\n\u001b[0m\u001b[1;32m      2\u001b[0m \u001b[0mp\u001b[0m\u001b[0;34m[\u001b[0m\u001b[0;34m:\u001b[0m\u001b[0;34m:\u001b[0m\u001b[0;36m2\u001b[0m\u001b[0;34m]\u001b[0m\u001b[0;34m\u001b[0m\u001b[0;34m\u001b[0m\u001b[0m\n",
            "\u001b[0;32m<ipython-input-58-d558d047af31>\u001b[0m in \u001b[0;36mpeople_list\u001b[0;34m()\u001b[0m\n\u001b[1;32m      6\u001b[0m     \u001b[0mpeople\u001b[0m \u001b[0;34m=\u001b[0m \u001b[0;34m[\u001b[0m\u001b[0;34m]\u001b[0m\u001b[0;34m\u001b[0m\u001b[0;34m\u001b[0m\u001b[0m\n\u001b[1;32m      7\u001b[0m     \u001b[0;32mfor\u001b[0m \u001b[0mi\u001b[0m \u001b[0;32min\u001b[0m \u001b[0mrange\u001b[0m\u001b[0;34m(\u001b[0m\u001b[0;36m1000000\u001b[0m\u001b[0;34m)\u001b[0m\u001b[0;34m:\u001b[0m\u001b[0;34m\u001b[0m\u001b[0;34m\u001b[0m\u001b[0m\n\u001b[0;32m----> 8\u001b[0;31m         person = {\"id\":i , \"name\":radom.choice(name),\n\u001b[0m\u001b[1;32m      9\u001b[0m                   \"designations\": random.choice(designations)}\n\u001b[1;32m     10\u001b[0m         \u001b[0mpeople\u001b[0m\u001b[0;34m.\u001b[0m\u001b[0mappend\u001b[0m\u001b[0;34m(\u001b[0m\u001b[0mperson\u001b[0m\u001b[0;34m)\u001b[0m\u001b[0;34m\u001b[0m\u001b[0;34m\u001b[0m\u001b[0m\n",
            "\u001b[0;31mNameError\u001b[0m: name 'radom' is not defined"
          ]
        }
      ]
    },
    {
      "cell_type": "code",
      "metadata": {
        "id": "DCDljYyWa60V"
      },
      "source": [
        "# write the custom generator function liike range\n",
        "\n",
        "def frange(start, stop, increment):\n",
        "    x = start\n",
        "    while x < stop:\n",
        "        yield x\n",
        "        x +=increment"
      ],
      "execution_count": null,
      "outputs": []
    },
    {
      "cell_type": "code",
      "metadata": {
        "id": "p9ZyE2wBa60V",
        "outputId": "9ad109d2-d5c7-4b83-ee60-96870a912476"
      },
      "source": [
        "c = frange(0, 4, 0.5)\n",
        "print(type(c))\n",
        "\n",
        "for n in frange(0, 4, 0.5):\n",
        "    print(n)"
      ],
      "execution_count": null,
      "outputs": [
        {
          "name": "stdout",
          "output_type": "stream",
          "text": [
            "<class 'generator'>\n",
            "0\n",
            "0.5\n",
            "1.0\n",
            "1.5\n",
            "2.0\n",
            "2.5\n",
            "3.0\n",
            "3.5\n"
          ]
        }
      ]
    },
    {
      "cell_type": "code",
      "metadata": {
        "id": "hO6uAyk8a60V"
      },
      "source": [
        "def countdown(n):\n",
        "    print(\"starting to count from\", n)\n",
        "    while n > 0:\n",
        "        yield n\n",
        "        n -=1\n",
        "    print(\"Done\")"
      ],
      "execution_count": null,
      "outputs": []
    },
    {
      "cell_type": "code",
      "metadata": {
        "id": "EahsbVgMa60V"
      },
      "source": [
        "c = countdown(3)"
      ],
      "execution_count": null,
      "outputs": []
    },
    {
      "cell_type": "code",
      "metadata": {
        "id": "kZc55ZUDa60X"
      },
      "source": [
        ""
      ],
      "execution_count": null,
      "outputs": []
    },
    {
      "cell_type": "code",
      "metadata": {
        "id": "14VuiP0pa60X"
      },
      "source": [
        ""
      ],
      "execution_count": null,
      "outputs": []
    },
    {
      "cell_type": "code",
      "metadata": {
        "id": "dMWDZwO1a60X"
      },
      "source": [
        ""
      ],
      "execution_count": null,
      "outputs": []
    },
    {
      "cell_type": "code",
      "metadata": {
        "id": "3Q3LcRR-a60X",
        "outputId": "8c273803-9f3d-4bed-eee8-051139cc4a0a"
      },
      "source": [
        "next(c)"
      ],
      "execution_count": null,
      "outputs": [
        {
          "name": "stdout",
          "output_type": "stream",
          "text": [
            "starting to count from 3\n"
          ]
        },
        {
          "data": {
            "text/plain": [
              "3"
            ]
          },
          "execution_count": 84,
          "metadata": {},
          "output_type": "execute_result"
        }
      ]
    },
    {
      "cell_type": "code",
      "metadata": {
        "id": "CHqAGLRDa60Y"
      },
      "source": [
        ""
      ],
      "execution_count": null,
      "outputs": []
    },
    {
      "cell_type": "code",
      "metadata": {
        "id": "9gclVeuTa60Y"
      },
      "source": [
        ""
      ],
      "execution_count": null,
      "outputs": []
    },
    {
      "cell_type": "code",
      "metadata": {
        "id": "T2v53_AJa60Y",
        "outputId": "47956ee3-7afb-4a91-d348-e9faba6dbf32"
      },
      "source": [
        "next(c)\n"
      ],
      "execution_count": null,
      "outputs": [
        {
          "data": {
            "text/plain": [
              "2"
            ]
          },
          "execution_count": 85,
          "metadata": {},
          "output_type": "execute_result"
        }
      ]
    },
    {
      "cell_type": "code",
      "metadata": {
        "id": "-3CovNHFa60Y"
      },
      "source": [
        ""
      ],
      "execution_count": null,
      "outputs": []
    },
    {
      "cell_type": "code",
      "metadata": {
        "id": "fpRRXRUea60Y",
        "outputId": "7f88be65-7d10-402e-8a0b-23d10cbbca2f"
      },
      "source": [
        "next(c)"
      ],
      "execution_count": null,
      "outputs": [
        {
          "data": {
            "text/plain": [
              "1"
            ]
          },
          "execution_count": 86,
          "metadata": {},
          "output_type": "execute_result"
        }
      ]
    },
    {
      "cell_type": "code",
      "metadata": {
        "id": "ibrqiZA8a60Y"
      },
      "source": [
        ""
      ],
      "execution_count": null,
      "outputs": []
    },
    {
      "cell_type": "code",
      "metadata": {
        "id": "7XHgraAIa60Y",
        "outputId": "11f29886-f8a0-4c27-c740-09974eae3bb6"
      },
      "source": [
        "next(c)"
      ],
      "execution_count": null,
      "outputs": [
        {
          "name": "stdout",
          "output_type": "stream",
          "text": [
            "Done\n"
          ]
        },
        {
          "ename": "StopIteration",
          "evalue": "",
          "output_type": "error",
          "traceback": [
            "\u001b[0;31m---------------------------------------------------------------------------\u001b[0m",
            "\u001b[0;31mStopIteration\u001b[0m                             Traceback (most recent call last)",
            "\u001b[0;32m<ipython-input-87-e846efec376d>\u001b[0m in \u001b[0;36m<module>\u001b[0;34m\u001b[0m\n\u001b[0;32m----> 1\u001b[0;31m \u001b[0mnext\u001b[0m\u001b[0;34m(\u001b[0m\u001b[0mc\u001b[0m\u001b[0;34m)\u001b[0m\u001b[0;34m\u001b[0m\u001b[0;34m\u001b[0m\u001b[0m\n\u001b[0m",
            "\u001b[0;31mStopIteration\u001b[0m: "
          ]
        }
      ]
    },
    {
      "cell_type": "code",
      "metadata": {
        "id": "V0U4Ivx1a60Y"
      },
      "source": [
        ""
      ],
      "execution_count": null,
      "outputs": []
    },
    {
      "cell_type": "code",
      "metadata": {
        "id": "exkrb_pra60Y",
        "outputId": "29447692-e370-4807-d1ca-d1aa34a70077"
      },
      "source": [
        "list(c)"
      ],
      "execution_count": null,
      "outputs": [
        {
          "data": {
            "text/plain": [
              "[]"
            ]
          },
          "execution_count": 88,
          "metadata": {},
          "output_type": "execute_result"
        }
      ]
    },
    {
      "cell_type": "code",
      "metadata": {
        "id": "OHPzeyqma60Y",
        "outputId": "123f9c1d-5c96-4db1-bd2d-6cc2353fe532"
      },
      "source": [
        "a = [1,2,3,4,5]\n",
        "for x in reversed(a):\n",
        "    print(x)"
      ],
      "execution_count": null,
      "outputs": [
        {
          "name": "stdout",
          "output_type": "stream",
          "text": [
            "5\n",
            "4\n",
            "3\n",
            "2\n",
            "1\n"
          ]
        }
      ]
    },
    {
      "cell_type": "code",
      "metadata": {
        "id": "ylEcrQr5a60Z",
        "outputId": "adcdd1c4-ad41-4b7b-a88f-5a837ec4a476"
      },
      "source": [
        "# assignment write pgm to calculate permutation and combination of below list\n",
        "items = ['a','b','c']\n",
        "from itertools import permutations\n",
        "for p in permutations(items):\n",
        "    print(p)\n",
        "\n"
      ],
      "execution_count": null,
      "outputs": [
        {
          "name": "stdout",
          "output_type": "stream",
          "text": [
            "('a', 'b', 'c')\n",
            "('a', 'c', 'b')\n",
            "('b', 'a', 'c')\n",
            "('b', 'c', 'a')\n",
            "('c', 'a', 'b')\n",
            "('c', 'b', 'a')\n"
          ]
        }
      ]
    },
    {
      "cell_type": "code",
      "metadata": {
        "id": "ZycW5H9Ka60Z",
        "outputId": "f971d03f-9368-4ece-9e3e-2f80a0cf9631"
      },
      "source": [
        "from itertools import combinations\n",
        "for c in combinations(items, 3):\n",
        "    print(c)"
      ],
      "execution_count": null,
      "outputs": [
        {
          "name": "stdout",
          "output_type": "stream",
          "text": [
            "('a', 'b', 'c')\n"
          ]
        }
      ]
    },
    {
      "cell_type": "code",
      "metadata": {
        "id": "BYKLubkOa60Z",
        "outputId": "ebef7233-71dc-4800-ed2f-a02fe8f067f1"
      },
      "source": [
        "from itertools import combinations\n",
        "for c in combinations(items, 2):\n",
        "    print(c)"
      ],
      "execution_count": null,
      "outputs": [
        {
          "name": "stdout",
          "output_type": "stream",
          "text": [
            "('a', 'b')\n",
            "('a', 'c')\n",
            "('b', 'c')\n"
          ]
        }
      ]
    },
    {
      "cell_type": "code",
      "metadata": {
        "id": "dNcPxZt5a60Z",
        "outputId": "610ffc4a-e552-4c95-d95c-e89713526826"
      },
      "source": [
        "from itertools import combinations\n",
        "for c in combinations(items, 1):\n",
        "    print(c)"
      ],
      "execution_count": null,
      "outputs": [
        {
          "name": "stdout",
          "output_type": "stream",
          "text": [
            "('a',)\n",
            "('b',)\n",
            "('c',)\n"
          ]
        }
      ]
    },
    {
      "cell_type": "code",
      "metadata": {
        "id": "JAeznGoTa60Z",
        "outputId": "ac9bc20b-dbad-4c86-b71b-bdf2ed7ba608"
      },
      "source": [
        "# enumerate to the track of sequence and element in terms of index and value\n",
        "\n",
        "mylist = ['a', 'b', 'c']\n",
        "for idx, val in enumerate(mylist):\n",
        "    print(idx, val)\n",
        "\n"
      ],
      "execution_count": null,
      "outputs": [
        {
          "name": "stdout",
          "output_type": "stream",
          "text": [
            "0 a\n",
            "1 b\n",
            "2 c\n"
          ]
        }
      ]
    },
    {
      "cell_type": "code",
      "metadata": {
        "id": "SZn7n2ORa60Z",
        "outputId": "134e7a84-a0b8-47c2-c873-ae815838d1ae"
      },
      "source": [
        "for idx, val in enumerate(mylist, 1):\n",
        "    print(idx, val)"
      ],
      "execution_count": null,
      "outputs": [
        {
          "name": "stdout",
          "output_type": "stream",
          "text": [
            "1 a\n",
            "2 b\n",
            "3 c\n"
          ]
        }
      ]
    },
    {
      "cell_type": "code",
      "metadata": {
        "id": "GP3PZNRia60Z",
        "outputId": "faac2ab5-6107-4afb-c3d3-679baedc297a"
      },
      "source": [
        "# ZIP iterator\n",
        "x = [1,2,3,4,5]\n",
        "y = [101,102,103,104,105]\n",
        "d = {}\n",
        "for i, j in zip(x, y):\n",
        "    d[i]= j\n",
        "print(d)\n"
      ],
      "execution_count": null,
      "outputs": [
        {
          "name": "stdout",
          "output_type": "stream",
          "text": [
            "{1: 101, 2: 102, 3: 103, 4: 104, 5: 105}\n"
          ]
        }
      ]
    },
    {
      "cell_type": "code",
      "metadata": {
        "scrolled": true,
        "id": "iS0EZasIa60Z",
        "outputId": "95142c49-09b1-42d9-8508-a92e8c3ff092"
      },
      "source": [
        "a = [1,2,3]\n",
        "b = ['w', 'x', 'y', 'z']\n",
        "for i in zip(a,b):\n",
        "    print(i)"
      ],
      "execution_count": null,
      "outputs": [
        {
          "name": "stdout",
          "output_type": "stream",
          "text": [
            "(1, 'w')\n",
            "(2, 'x')\n",
            "(3, 'y')\n"
          ]
        }
      ]
    },
    {
      "cell_type": "code",
      "metadata": {
        "id": "c8_gMa_za60a",
        "outputId": "7ac16388-c68b-4858-da91-bb83ed57204a"
      },
      "source": [
        "from itertools import zip_longest\n",
        "for i in zip_longest(a,b):\n",
        "    print(i)"
      ],
      "execution_count": null,
      "outputs": [
        {
          "name": "stdout",
          "output_type": "stream",
          "text": [
            "(1, 'w')\n",
            "(2, 'x')\n",
            "(3, 'y')\n",
            "(None, 'z')\n"
          ]
        }
      ]
    },
    {
      "cell_type": "code",
      "metadata": {
        "id": "TdLmAIwNa60a",
        "outputId": "dc593c32-5eb6-4eaf-e3f5-a9ed8d577bee"
      },
      "source": [
        "a = [1,2,3]\n",
        "b = ['w', 'x', 'y']\n",
        "c = [10,11,12]\n",
        "for i in zip(a,b,c):\n",
        "    print(i)"
      ],
      "execution_count": null,
      "outputs": [
        {
          "name": "stdout",
          "output_type": "stream",
          "text": [
            "(1, 'w', 10)\n",
            "(2, 'x', 11)\n",
            "(3, 'y', 12)\n"
          ]
        }
      ]
    },
    {
      "cell_type": "code",
      "metadata": {
        "id": "xhjZHClYa60a",
        "outputId": "36348027-480c-46ce-ed05-0c0fafdcd411"
      },
      "source": [
        "from itertools import chain\n",
        "for x in chain(a,b,c):\n",
        "    print(x)"
      ],
      "execution_count": null,
      "outputs": [
        {
          "name": "stdout",
          "output_type": "stream",
          "text": [
            "1\n",
            "2\n",
            "3\n",
            "w\n",
            "x\n",
            "y\n",
            "10\n",
            "11\n",
            "12\n"
          ]
        }
      ]
    },
    {
      "cell_type": "code",
      "metadata": {
        "id": "ZnlPQmHTa60a",
        "outputId": "37586270-706e-45dd-91c3-26871205b795"
      },
      "source": [
        "# flattening the nested sequence\n",
        "from collections import Iterable \n",
        "\n",
        "def flatten(items, ignore_types=(str, bytes)):\n",
        "    for x in items:\n",
        "        if isinstance(x, Iterable) and not isinstance(x, ignore_types):\n",
        "            yield from flatten(x)\n",
        "        else:\n",
        "            yield x\n"
      ],
      "execution_count": null,
      "outputs": [
        {
          "name": "stderr",
          "output_type": "stream",
          "text": [
            "<ipython-input-103-1d233332ae15>:2: DeprecationWarning: Using or importing the ABCs from 'collections' instead of from 'collections.abc' is deprecated since Python 3.3, and in 3.9 it will stop working\n",
            "  from collections import Iterable\n"
          ]
        }
      ]
    },
    {
      "cell_type": "code",
      "metadata": {
        "scrolled": true,
        "id": "ZIt0443Ca60b",
        "outputId": "77c1e68e-5467-4cc9-ea02-0d21c81090b6"
      },
      "source": [
        "items = [1, 2, [3,4, [5,6],7 ], 8 ]\n",
        "\n",
        "for x in flatten(items):\n",
        "    print(x)"
      ],
      "execution_count": null,
      "outputs": [
        {
          "name": "stdout",
          "output_type": "stream",
          "text": [
            "1\n",
            "2\n",
            "3\n",
            "4\n",
            "5\n",
            "6\n",
            "7\n",
            "8\n"
          ]
        }
      ]
    },
    {
      "cell_type": "code",
      "metadata": {
        "id": "rMenuvEXa60b"
      },
      "source": [
        ""
      ],
      "execution_count": null,
      "outputs": []
    },
    {
      "cell_type": "code",
      "metadata": {
        "id": "ooludoxPa60b",
        "outputId": "cf6c4345-0ef8-4b4d-b073-f7cb5c5d4afe"
      },
      "source": [
        "items = ['john',['ale', 'fred'], 'tom' ]\n",
        "\n",
        "for x in flatten(items):\n",
        "    print(x)"
      ],
      "execution_count": null,
      "outputs": [
        {
          "name": "stdout",
          "output_type": "stream",
          "text": [
            "john\n",
            "ale\n",
            "fred\n",
            "tom\n"
          ]
        }
      ]
    },
    {
      "cell_type": "code",
      "metadata": {
        "id": "v5aVoxOja60d"
      },
      "source": [
        "# 1.homework check the size of list of range(10000)\n",
        "\n",
        "# chek szie of genretor \n",
        "\n"
      ],
      "execution_count": null,
      "outputs": []
    },
    {
      "cell_type": "code",
      "metadata": {
        "id": "HqvJ_bE_a60e",
        "outputId": "64dd060f-b13e-4f8f-9e4b-8bd1bd0d6940"
      },
      "source": [
        "import sys, os\n",
        "sys.getsizeof(1)"
      ],
      "execution_count": null,
      "outputs": [
        {
          "data": {
            "text/plain": [
              "28"
            ]
          },
          "execution_count": 107,
          "metadata": {},
          "output_type": "execute_result"
        }
      ]
    },
    {
      "cell_type": "code",
      "metadata": {
        "id": "Yw1MrCMPa60e",
        "outputId": "beef0738-0ad5-4e2b-d7a7-16524f7b1816"
      },
      "source": [
        "# files \n",
        "\n",
        "with open('sample.txt', 'rt') as f:\n",
        "    data = f.read()\n",
        "print(data)\n",
        "\n"
      ],
      "execution_count": null,
      "outputs": [
        {
          "name": "stdout",
          "output_type": "stream",
          "text": [
            "python is fun.\n",
            "thank you\n",
            "today is sunday\n",
            "its a fun day\n",
            "python is \n",
            "new\n",
            "today python is preferred\n",
            "done with sample test\n",
            "new Python\n",
            "end\n",
            "\n"
          ]
        }
      ]
    },
    {
      "cell_type": "code",
      "metadata": {
        "id": "PZKuvxm5a60e",
        "outputId": "ba39d806-2e49-4015-c7bb-bc66815cda24"
      },
      "source": [
        "# iterate over the line of files\n",
        "with open('sample.txt', 'rt') as f:\n",
        "    for line in f:\n",
        "        # process line \n",
        "        print(line)"
      ],
      "execution_count": null,
      "outputs": [
        {
          "name": "stdout",
          "output_type": "stream",
          "text": [
            "python is fun.\n",
            "\n",
            "thank you\n",
            "\n",
            "today is sunday\n",
            "\n",
            "its a fun day\n",
            "\n",
            "python is \n",
            "\n",
            "new\n",
            "\n",
            "today python is preferred\n",
            "\n",
            "done with sample test\n",
            "\n",
            "new Python\n",
            "\n",
            "end\n",
            "\n"
          ]
        }
      ]
    },
    {
      "cell_type": "code",
      "metadata": {
        "id": "EJ6if6k-a60e"
      },
      "source": [
        "with open(\"somefile.txt\", \"wt\") as f:\n",
        "    f.write(\"hi\")\n",
        "    f.write(\"heloo\")"
      ],
      "execution_count": null,
      "outputs": []
    },
    {
      "cell_type": "code",
      "metadata": {
        "id": "G3WxOOMpa60e",
        "outputId": "fe478fd9-de16-4c13-b045-c9b756ca9430"
      },
      "source": [
        "# redirected output\n",
        "help(print)"
      ],
      "execution_count": null,
      "outputs": [
        {
          "name": "stdout",
          "output_type": "stream",
          "text": [
            "Help on built-in function print in module builtins:\n",
            "\n",
            "print(...)\n",
            "    print(value, ..., sep=' ', end='\\n', file=sys.stdout, flush=False)\n",
            "    \n",
            "    Prints the values to a stream, or to sys.stdout by default.\n",
            "    Optional keyword arguments:\n",
            "    file:  a file-like object (stream); defaults to the current sys.stdout.\n",
            "    sep:   string inserted between values, default a space.\n",
            "    end:   string appended after the last value, default a newline.\n",
            "    flush: whether to forcibly flush the stream.\n",
            "\n"
          ]
        }
      ]
    },
    {
      "cell_type": "code",
      "metadata": {
        "id": "LIOnm5aZa60e"
      },
      "source": [
        "with open('abc.txt', 'wt') as f:\n",
        "    print('hi', file=f)\n",
        "    print(\"hello\", file=f)"
      ],
      "execution_count": null,
      "outputs": []
    },
    {
      "cell_type": "code",
      "metadata": {
        "id": "lmZ02f3qa60e"
      },
      "source": [
        ""
      ],
      "execution_count": null,
      "outputs": []
    },
    {
      "cell_type": "code",
      "metadata": {
        "id": "5CJl5Ysma60e",
        "outputId": "d52cdb4b-aba9-4376-8c2b-cb4e2613ae46"
      },
      "source": [
        "with open('abc.txt', 'rt') as f:\n",
        "    print(f.read())"
      ],
      "execution_count": null,
      "outputs": [
        {
          "name": "stdout",
          "output_type": "stream",
          "text": [
            "hi\n",
            "hello\n",
            "\n"
          ]
        }
      ]
    },
    {
      "cell_type": "code",
      "metadata": {
        "id": "ky012d_Xa60f",
        "outputId": "af2e777d-855a-4b06-f8a8-7d04ebbf0b6b"
      },
      "source": [
        "\"hi\""
      ],
      "execution_count": null,
      "outputs": [
        {
          "data": {
            "text/plain": [
              "'hi'"
            ]
          },
          "execution_count": 118,
          "metadata": {},
          "output_type": "execute_result"
        }
      ]
    },
    {
      "cell_type": "code",
      "metadata": {
        "id": "dVHVEfp5a60f",
        "outputId": "06d08247-4d71-4899-c6da-a4b0cb41961a"
      },
      "source": [
        "import argparse\n",
        "\n",
        "parser = argparse.ArgumentParser(description='Short sample app')\n",
        "\n",
        "parser.add_argument('-a', action=\"store_true\", default=False)\n",
        "parser.add_argument('-b', action=\"store\", dest=\"b\")\n",
        "parser.add_argument('-c', action=\"store\", dest=\"c\", type=int)\n",
        "\n",
        "print (parser.parse_args(['-a', '-bval', '-c', '3']))"
      ],
      "execution_count": null,
      "outputs": [
        {
          "name": "stdout",
          "output_type": "stream",
          "text": [
            "Namespace(a=True, b='val', c=3)\n"
          ]
        }
      ]
    },
    {
      "cell_type": "code",
      "metadata": {
        "id": "TjbNtsmLa60f"
      },
      "source": [
        ""
      ],
      "execution_count": null,
      "outputs": []
    },
    {
      "cell_type": "code",
      "metadata": {
        "id": "B034OfA3a60f"
      },
      "source": [
        ""
      ],
      "execution_count": null,
      "outputs": []
    },
    {
      "cell_type": "code",
      "metadata": {
        "id": "WO1zQZQ1a60f"
      },
      "source": [
        ""
      ],
      "execution_count": null,
      "outputs": []
    },
    {
      "cell_type": "code",
      "metadata": {
        "id": "LA-XDThQa60f"
      },
      "source": [
        ""
      ],
      "execution_count": null,
      "outputs": []
    },
    {
      "cell_type": "code",
      "metadata": {
        "id": "UdX969rRa60f"
      },
      "source": [
        ""
      ],
      "execution_count": null,
      "outputs": []
    },
    {
      "cell_type": "code",
      "metadata": {
        "id": "fUZTwY1Ua60f"
      },
      "source": [
        ""
      ],
      "execution_count": null,
      "outputs": []
    },
    {
      "cell_type": "code",
      "metadata": {
        "id": "3-9aaVRla60f"
      },
      "source": [
        ""
      ],
      "execution_count": null,
      "outputs": []
    },
    {
      "cell_type": "code",
      "metadata": {
        "id": "faL7qUMJa60f"
      },
      "source": [
        ""
      ],
      "execution_count": null,
      "outputs": []
    },
    {
      "cell_type": "code",
      "metadata": {
        "id": "-JzkEH31a60g"
      },
      "source": [
        ""
      ],
      "execution_count": null,
      "outputs": []
    },
    {
      "cell_type": "code",
      "metadata": {
        "id": "oAEVjPgea60g"
      },
      "source": [
        ""
      ],
      "execution_count": null,
      "outputs": []
    },
    {
      "cell_type": "code",
      "metadata": {
        "id": "Ic76zQMUa60g"
      },
      "source": [
        ""
      ],
      "execution_count": null,
      "outputs": []
    },
    {
      "cell_type": "code",
      "metadata": {
        "id": "9okyhJSKa60g"
      },
      "source": [
        ""
      ],
      "execution_count": null,
      "outputs": []
    },
    {
      "cell_type": "code",
      "metadata": {
        "id": "NoMeDIR9a60g"
      },
      "source": [
        ""
      ],
      "execution_count": null,
      "outputs": []
    },
    {
      "cell_type": "code",
      "metadata": {
        "id": "5-oZlIcea60g"
      },
      "source": [
        ""
      ],
      "execution_count": null,
      "outputs": []
    },
    {
      "cell_type": "code",
      "metadata": {
        "id": "gTYDveQ0a60g"
      },
      "source": [
        ""
      ],
      "execution_count": null,
      "outputs": []
    },
    {
      "cell_type": "code",
      "metadata": {
        "id": "E62cwpZka60g"
      },
      "source": [
        ""
      ],
      "execution_count": null,
      "outputs": []
    },
    {
      "cell_type": "code",
      "metadata": {
        "id": "kW2gL2Cga60g"
      },
      "source": [
        ""
      ],
      "execution_count": null,
      "outputs": []
    },
    {
      "cell_type": "code",
      "metadata": {
        "id": "-eJNhKk1a60g"
      },
      "source": [
        ""
      ],
      "execution_count": null,
      "outputs": []
    },
    {
      "cell_type": "code",
      "metadata": {
        "id": "xtbeMaEFa60g"
      },
      "source": [
        ""
      ],
      "execution_count": null,
      "outputs": []
    },
    {
      "cell_type": "code",
      "metadata": {
        "id": "Mr2xMsmya60g"
      },
      "source": [
        ""
      ],
      "execution_count": null,
      "outputs": []
    },
    {
      "cell_type": "code",
      "metadata": {
        "id": "BKGHuA05a60g"
      },
      "source": [
        ""
      ],
      "execution_count": null,
      "outputs": []
    },
    {
      "cell_type": "code",
      "metadata": {
        "id": "kBHhgnSFa60g"
      },
      "source": [
        ""
      ],
      "execution_count": null,
      "outputs": []
    },
    {
      "cell_type": "code",
      "metadata": {
        "id": "LTzJj4mKa60g"
      },
      "source": [
        ""
      ],
      "execution_count": null,
      "outputs": []
    },
    {
      "cell_type": "code",
      "metadata": {
        "id": "QwH1Mt0La60g"
      },
      "source": [
        ""
      ],
      "execution_count": null,
      "outputs": []
    },
    {
      "cell_type": "code",
      "metadata": {
        "id": "OEsRgXW2a60h"
      },
      "source": [
        ""
      ],
      "execution_count": null,
      "outputs": []
    },
    {
      "cell_type": "code",
      "metadata": {
        "id": "QdhT3fHMa60h"
      },
      "source": [
        ""
      ],
      "execution_count": null,
      "outputs": []
    },
    {
      "cell_type": "code",
      "metadata": {
        "id": "RFiaatmka60h"
      },
      "source": [
        ""
      ],
      "execution_count": null,
      "outputs": []
    },
    {
      "cell_type": "code",
      "metadata": {
        "id": "4fZl4YQda60h",
        "outputId": "f01c07e6-00be-4865-def8-acf678b90aa9"
      },
      "source": [
        "\"hi\""
      ],
      "execution_count": null,
      "outputs": [
        {
          "data": {
            "text/plain": [
              "'hi'"
            ]
          },
          "execution_count": 6,
          "metadata": {},
          "output_type": "execute_result"
        }
      ]
    },
    {
      "cell_type": "code",
      "metadata": {
        "id": "AESaZBefa60h"
      },
      "source": [
        ""
      ],
      "execution_count": null,
      "outputs": []
    },
    {
      "cell_type": "code",
      "metadata": {
        "id": "rm2khORRa60h"
      },
      "source": [
        ""
      ],
      "execution_count": null,
      "outputs": []
    },
    {
      "cell_type": "code",
      "metadata": {
        "id": "foeXzAZXa60h"
      },
      "source": [
        ""
      ],
      "execution_count": null,
      "outputs": []
    },
    {
      "cell_type": "code",
      "metadata": {
        "id": "M2HZTenca60h"
      },
      "source": [
        ""
      ],
      "execution_count": null,
      "outputs": []
    },
    {
      "cell_type": "code",
      "metadata": {
        "id": "P38cmlU7a60h"
      },
      "source": [
        ""
      ],
      "execution_count": null,
      "outputs": []
    },
    {
      "cell_type": "code",
      "metadata": {
        "id": "zq8XiqWma60h"
      },
      "source": [
        ""
      ],
      "execution_count": null,
      "outputs": []
    },
    {
      "cell_type": "code",
      "metadata": {
        "id": "c3szeoQia60h"
      },
      "source": [
        ""
      ],
      "execution_count": null,
      "outputs": []
    },
    {
      "cell_type": "code",
      "metadata": {
        "id": "vq1dKQ9Da60h"
      },
      "source": [
        ""
      ],
      "execution_count": null,
      "outputs": []
    },
    {
      "cell_type": "code",
      "metadata": {
        "id": "2Zulb6iOa60h"
      },
      "source": [
        ""
      ],
      "execution_count": null,
      "outputs": []
    },
    {
      "cell_type": "code",
      "metadata": {
        "id": "l5yijePma60h"
      },
      "source": [
        ""
      ],
      "execution_count": null,
      "outputs": []
    },
    {
      "cell_type": "code",
      "metadata": {
        "id": "ka-4zO33a60i",
        "outputId": "75b09f7d-e093-4fa0-ca24-0f051e8c7344"
      },
      "source": [
        "s"
      ],
      "execution_count": null,
      "outputs": [
        {
          "data": {
            "text/plain": [
              "'malayalam'"
            ]
          },
          "execution_count": 52,
          "metadata": {},
          "output_type": "execute_result"
        }
      ]
    },
    {
      "cell_type": "code",
      "metadata": {
        "id": "g9silB2sa60i"
      },
      "source": [
        ""
      ],
      "execution_count": null,
      "outputs": []
    },
    {
      "cell_type": "code",
      "metadata": {
        "id": "kgO0HabXa60i"
      },
      "source": [
        ""
      ],
      "execution_count": null,
      "outputs": []
    },
    {
      "cell_type": "code",
      "metadata": {
        "id": "1cPsKEf0a60i"
      },
      "source": [
        ""
      ],
      "execution_count": null,
      "outputs": []
    },
    {
      "cell_type": "code",
      "metadata": {
        "id": "x1cDDybQa60i"
      },
      "source": [
        ""
      ],
      "execution_count": null,
      "outputs": []
    }
  ]
}